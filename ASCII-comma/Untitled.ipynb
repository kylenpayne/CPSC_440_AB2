{
 "cells": [
  {
   "cell_type": "code",
   "execution_count": 72,
   "metadata": {
    "collapsed": true
   },
   "outputs": [],
   "source": [
    "D <- seq(-6, 6, by=1)"
   ]
  },
  {
   "cell_type": "code",
   "execution_count": 73,
   "metadata": {
    "collapsed": false
   },
   "outputs": [
    {
     "data": {
      "text/html": [
       "<ol class=list-inline>\n",
       "\t<li>-6</li>\n",
       "\t<li>-5</li>\n",
       "\t<li>-4</li>\n",
       "\t<li>-3</li>\n",
       "\t<li>-2</li>\n",
       "\t<li>-1</li>\n",
       "\t<li>0</li>\n",
       "\t<li>1</li>\n",
       "\t<li>2</li>\n",
       "\t<li>3</li>\n",
       "\t<li>4</li>\n",
       "\t<li>5</li>\n",
       "\t<li>6</li>\n",
       "</ol>\n"
      ],
      "text/latex": [
       "\\begin{enumerate*}\n",
       "\\item -6\n",
       "\\item -5\n",
       "\\item -4\n",
       "\\item -3\n",
       "\\item -2\n",
       "\\item -1\n",
       "\\item 0\n",
       "\\item 1\n",
       "\\item 2\n",
       "\\item 3\n",
       "\\item 4\n",
       "\\item 5\n",
       "\\item 6\n",
       "\\end{enumerate*}\n"
      ],
      "text/markdown": [
       "1. -6\n",
       "2. -5\n",
       "3. -4\n",
       "4. -3\n",
       "5. -2\n",
       "6. -1\n",
       "7. 0\n",
       "8. 1\n",
       "9. 2\n",
       "10. 3\n",
       "11. 4\n",
       "12. 5\n",
       "13. 6\n",
       "\n",
       "\n"
      ],
      "text/plain": [
       " [1] -6 -5 -4 -3 -2 -1  0  1  2  3  4  5  6"
      ]
     },
     "execution_count": 73,
     "metadata": {},
     "output_type": "execute_result"
    }
   ],
   "source": [
    "D"
   ]
  },
  {
   "cell_type": "code",
   "execution_count": 74,
   "metadata": {
    "collapsed": true
   },
   "outputs": [],
   "source": [
    "Y <- rnorm(13, mean=40, sd=2)"
   ]
  },
  {
   "cell_type": "code",
   "execution_count": 75,
   "metadata": {
    "collapsed": false
   },
   "outputs": [],
   "source": [
    "Y <- D*rnorm(1, mean=-2, sd=0.1)  + Y"
   ]
  },
  {
   "cell_type": "code",
   "execution_count": 76,
   "metadata": {
    "collapsed": true
   },
   "outputs": [],
   "source": [
    "data <- data.frame(D, Y)"
   ]
  },
  {
   "cell_type": "code",
   "execution_count": 92,
   "metadata": {
    "collapsed": false
   },
   "outputs": [
    {
     "data": {
      "text/html": [
       "<table>\n",
       "<thead><tr><th></th><th scope=col>D</th><th scope=col>Y</th></tr></thead>\n",
       "<tbody>\n",
       "\t<tr><th scope=row>1</th><td>-6</td><td>46.79468</td></tr>\n",
       "\t<tr><th scope=row>2</th><td>-5</td><td>52.22066</td></tr>\n",
       "\t<tr><th scope=row>3</th><td>-4</td><td>49.83128</td></tr>\n",
       "\t<tr><th scope=row>4</th><td>-3</td><td>46.58659</td></tr>\n",
       "\t<tr><th scope=row>5</th><td>-2</td><td>42.74858</td></tr>\n",
       "\t<tr><th scope=row>6</th><td>-1</td><td>45.29614</td></tr>\n",
       "\t<tr><th scope=row>7</th><td>0</td><td>42.00114</td></tr>\n",
       "\t<tr><th scope=row>8</th><td>1</td><td>34.51018</td></tr>\n",
       "\t<tr><th scope=row>9</th><td>2</td><td>37.39791</td></tr>\n",
       "\t<tr><th scope=row>10</th><td>3</td><td>37.12049</td></tr>\n",
       "\t<tr><th scope=row>11</th><td>4</td><td>32.9749</td></tr>\n",
       "\t<tr><th scope=row>12</th><td>5</td><td>31.14986</td></tr>\n",
       "\t<tr><th scope=row>13</th><td>6</td><td>29.19777</td></tr>\n",
       "</tbody>\n",
       "</table>\n"
      ],
      "text/latex": [
       "\\begin{tabular}{r|ll}\n",
       "  & D & Y\\\\\n",
       "\\hline\n",
       "\t1 & -6 & 46.79468\\\\\n",
       "\t2 & -5 & 52.22066\\\\\n",
       "\t3 & -4 & 49.83128\\\\\n",
       "\t4 & -3 & 46.58659\\\\\n",
       "\t5 & -2 & 42.74858\\\\\n",
       "\t6 & -1 & 45.29614\\\\\n",
       "\t7 & 0 & 42.00114\\\\\n",
       "\t8 & 1 & 34.51018\\\\\n",
       "\t9 & 2 & 37.39791\\\\\n",
       "\t10 & 3 & 37.12049\\\\\n",
       "\t11 & 4 & 32.9749\\\\\n",
       "\t12 & 5 & 31.14986\\\\\n",
       "\t13 & 6 & 29.19777\\\\\n",
       "\\end{tabular}\n"
      ],
      "text/plain": [
       "    D        Y\n",
       "1  -6 46.79468\n",
       "2  -5 52.22066\n",
       "3  -4 49.83128\n",
       "4  -3 46.58659\n",
       "5  -2 42.74858\n",
       "6  -1 45.29614\n",
       "7   0 42.00114\n",
       "8   1 34.51018\n",
       "9   2 37.39791\n",
       "10  3 37.12049\n",
       "11  4 32.97490\n",
       "12  5 31.14986\n",
       "13  6 29.19777"
      ]
     },
     "execution_count": 92,
     "metadata": {},
     "output_type": "execute_result"
    }
   ],
   "source": [
    "data"
   ]
  },
  {
   "cell_type": "code",
   "execution_count": 102,
   "metadata": {
    "collapsed": false
   },
   "outputs": [
    {
     "data": {
      "text/html": [
       "<table>\n",
       "<tbody>\n",
       "\t<tr><td>-6.00</td><td> 6.19</td><td>36.00</td><td>38.35</td><td> 0.00</td><td>40.60</td></tr>\n",
       "\t<tr><td> -5.00</td><td> 11.62</td><td> 25.00</td><td>134.99</td><td>  0.00</td><td> 40.60</td></tr>\n",
       "\t<tr><td>-4.00</td><td> 9.23</td><td>16.00</td><td>85.17</td><td> 0.00</td><td>40.60</td></tr>\n",
       "\t<tr><td>-3.00</td><td> 5.98</td><td> 9.00</td><td>35.81</td><td> 0.00</td><td>40.60</td></tr>\n",
       "\t<tr><td>-2.00</td><td> 2.15</td><td> 4.00</td><td> 4.61</td><td> 0.00</td><td>40.60</td></tr>\n",
       "\t<tr><td>-1.00</td><td> 4.69</td><td> 1.00</td><td>22.03</td><td> 0.00</td><td>40.60</td></tr>\n",
       "\t<tr><td> 0.00</td><td> 1.40</td><td> 0.00</td><td> 1.96</td><td> 0.00</td><td>40.60</td></tr>\n",
       "\t<tr><td> 1.00</td><td>-6.09</td><td> 1.00</td><td>37.11</td><td> 0.00</td><td>40.60</td></tr>\n",
       "\t<tr><td> 2.00</td><td>-3.20</td><td> 4.00</td><td>10.27</td><td> 0.00</td><td>40.60</td></tr>\n",
       "\t<tr><td> 3.00</td><td>-3.48</td><td> 9.00</td><td>12.12</td><td> 0.00</td><td>40.60</td></tr>\n",
       "\t<tr><td> 4.00</td><td>-7.63</td><td>16.00</td><td>58.18</td><td> 0.00</td><td>40.60</td></tr>\n",
       "\t<tr><td> 5.00</td><td>-9.45</td><td>25.00</td><td>89.35</td><td> 0.00</td><td>40.60</td></tr>\n",
       "\t<tr><td>  6.00</td><td>-11.40</td><td> 36.00</td><td>130.06</td><td>  0.00</td><td> 40.60</td></tr>\n",
       "</tbody>\n",
       "</table>\n"
      ],
      "text/latex": [
       "\\begin{tabular}{llllll}\n",
       "\t -6.00 &  6.19 & 36.00 & 38.35 &  0.00 & 40.60\\\\\n",
       "\t  -5.00 &  11.62 &  25.00 & 134.99 &   0.00 &  40.60\\\\\n",
       "\t -4.00 &  9.23 & 16.00 & 85.17 &  0.00 & 40.60\\\\\n",
       "\t -3.00 &  5.98 &  9.00 & 35.81 &  0.00 & 40.60\\\\\n",
       "\t -2.00 &  2.15 &  4.00 &  4.61 &  0.00 & 40.60\\\\\n",
       "\t -1.00 &  4.69 &  1.00 & 22.03 &  0.00 & 40.60\\\\\n",
       "\t  0.00 &  1.40 &  0.00 &  1.96 &  0.00 & 40.60\\\\\n",
       "\t  1.00 & -6.09 &  1.00 & 37.11 &  0.00 & 40.60\\\\\n",
       "\t  2.00 & -3.20 &  4.00 & 10.27 &  0.00 & 40.60\\\\\n",
       "\t  3.00 & -3.48 &  9.00 & 12.12 &  0.00 & 40.60\\\\\n",
       "\t  4.00 & -7.63 & 16.00 & 58.18 &  0.00 & 40.60\\\\\n",
       "\t  5.00 & -9.45 & 25.00 & 89.35 &  0.00 & 40.60\\\\\n",
       "\t   6.00 & -11.40 &  36.00 & 130.06 &   0.00 &  40.60\\\\\n",
       "\\end{tabular}\n"
      ],
      "text/markdown": [
       "1. -6\n",
       "2. -5\n",
       "3. -4\n",
       "4. -3\n",
       "5. -2\n",
       "6. -1\n",
       "7. 0\n",
       "8. 1\n",
       "9. 2\n",
       "10. 3\n",
       "11. 4\n",
       "12. 5\n",
       "13. 6\n",
       "14. 6.19\n",
       "15. 11.62\n",
       "16. 9.23\n",
       "17. 5.98\n",
       "18. 2.15\n",
       "19. 4.69\n",
       "20. 1.4\n",
       "21. -6.09\n",
       "22. -3.2\n",
       "23. -3.48\n",
       "24. -7.63\n",
       "25. -9.45\n",
       "26. -11.4\n",
       "27. 36\n",
       "28. 25\n",
       "29. 16\n",
       "30. 9\n",
       "31. 4\n",
       "32. 1\n",
       "33. 0\n",
       "34. 1\n",
       "35. 4\n",
       "36. 9\n",
       "37. 16\n",
       "38. 25\n",
       "39. 36\n",
       "40. 38.35\n",
       "41. 134.99\n",
       "42. 85.17\n",
       "43. 35.81\n",
       "44. 4.61\n",
       "45. 22.03\n",
       "46. 1.96\n",
       "47. 37.11\n",
       "48. 10.27\n",
       "49. 12.12\n",
       "50. 58.18\n",
       "51. 89.35\n",
       "52. 130.06\n",
       "53. 0\n",
       "54. 0\n",
       "55. 0\n",
       "56. 0\n",
       "57. 0\n",
       "58. 0\n",
       "59. 0\n",
       "60. 0\n",
       "61. 0\n",
       "62. 0\n",
       "63. 0\n",
       "64. 0\n",
       "65. 0\n",
       "66. 40.6\n",
       "67. 40.6\n",
       "68. 40.6\n",
       "69. 40.6\n",
       "70. 40.6\n",
       "71. 40.6\n",
       "72. 40.6\n",
       "73. 40.6\n",
       "74. 40.6\n",
       "75. 40.6\n",
       "76. 40.6\n",
       "77. 40.6\n",
       "78. 40.6\n",
       "\n",
       "\n"
      ],
      "text/plain": [
       "      [,1]   [,2] [,3]   [,4] [,5] [,6]\n",
       " [1,]   -6   6.19   36  38.35    0 40.6\n",
       " [2,]   -5  11.62   25 134.99    0 40.6\n",
       " [3,]   -4   9.23   16  85.17    0 40.6\n",
       " [4,]   -3   5.98    9  35.81    0 40.6\n",
       " [5,]   -2   2.15    4   4.61    0 40.6\n",
       " [6,]   -1   4.69    1  22.03    0 40.6\n",
       " [7,]    0   1.40    0   1.96    0 40.6\n",
       " [8,]    1  -6.09    1  37.11    0 40.6\n",
       " [9,]    2  -3.20    4  10.27    0 40.6\n",
       "[10,]    3  -3.48    9  12.12    0 40.6\n",
       "[11,]    4  -7.63   16  58.18    0 40.6\n",
       "[12,]    5  -9.45   25  89.35    0 40.6\n",
       "[13,]    6 -11.40   36 130.06    0 40.6"
      ]
     },
     "execution_count": 102,
     "metadata": {},
     "output_type": "execute_result"
    },
    {
     "data": {
      "text/html": [
       "<ol class=list-inline>\n",
       "\t<li>0</li>\n",
       "\t<li>0</li>\n",
       "\t<li>182</li>\n",
       "\t<li>660.0071</li>\n",
       "\t<li>0</li>\n",
       "\t<li>527.8302</li>\n",
       "</ol>\n"
      ],
      "text/latex": [
       "\\begin{enumerate*}\n",
       "\\item 0\n",
       "\\item 0\n",
       "\\item 182\n",
       "\\item 660.0071\n",
       "\\item 0\n",
       "\\item 527.8302\n",
       "\\end{enumerate*}\n"
      ],
      "text/markdown": [
       "1. 0\n",
       "2. 0\n",
       "3. 182\n",
       "4. 660.0071\n",
       "5. 0\n",
       "6. 527.8302\n",
       "\n",
       "\n"
      ],
      "text/plain": [
       "[1]   0.0000   0.0000 182.0000 660.0071   0.0000 527.8302"
      ]
     },
     "execution_count": 102,
     "metadata": {},
     "output_type": "execute_result"
    }
   ],
   "source": [
    "\n",
    "\n",
    "dev <- cbind(data$D-mean(D), data$Y - mean(Y), (data$D-mean(D))^2, \n",
    "             (data$Y-mean(Y))^2, mean(D), mean(Y))\n",
    "round(dev,2)\n",
    "\n",
    "round(colSums(dev),4)"
   ]
  },
  {
   "cell_type": "code",
   "execution_count": 94,
   "metadata": {
    "collapsed": false
   },
   "outputs": [],
   "source": [
    "modl <- lm(Y ~ D, data=data)"
   ]
  },
  {
   "cell_type": "code",
   "execution_count": 91,
   "metadata": {
    "collapsed": false
   },
   "outputs": [
    {
     "data": {
      "text/html": [
       "<table>\n",
       "<tbody>\n",
       "\t<tr><td>-37.15</td></tr>\n",
       "\t<tr><td>-58.09</td></tr>\n",
       "\t<tr><td>-36.92</td></tr>\n",
       "\t<tr><td>-17.95</td></tr>\n",
       "\t<tr><td>-4.29</td></tr>\n",
       "\t<tr><td>-4.69</td></tr>\n",
       "\t<tr><td>0</td></tr>\n",
       "\t<tr><td>-6.09</td></tr>\n",
       "\t<tr><td>-6.41</td></tr>\n",
       "\t<tr><td>-10.45</td></tr>\n",
       "\t<tr><td>-30.51</td></tr>\n",
       "\t<tr><td>-47.26</td></tr>\n",
       "\t<tr><td>-68.43</td></tr>\n",
       "</tbody>\n",
       "</table>\n"
      ],
      "text/latex": [
       "\\begin{tabular}{l}\n",
       "\t -37.15\\\\\n",
       "\t -58.09\\\\\n",
       "\t -36.92\\\\\n",
       "\t -17.95\\\\\n",
       "\t -4.29\\\\\n",
       "\t -4.69\\\\\n",
       "\t 0\\\\\n",
       "\t -6.09\\\\\n",
       "\t -6.41\\\\\n",
       "\t -10.45\\\\\n",
       "\t -30.51\\\\\n",
       "\t -47.26\\\\\n",
       "\t -68.43\\\\\n",
       "\\end{tabular}\n"
      ],
      "text/markdown": [
       "1. -37.15\n",
       "2. -58.09\n",
       "3. -36.92\n",
       "4. -17.95\n",
       "5. -4.29\n",
       "6. -4.69\n",
       "7. 0\n",
       "8. -6.09\n",
       "9. -6.41\n",
       "10. -10.45\n",
       "11. -30.51\n",
       "12. -47.26\n",
       "13. -68.43\n",
       "\n",
       "\n"
      ],
      "text/plain": [
       "        [,1]\n",
       " [1,] -37.15\n",
       " [2,] -58.09\n",
       " [3,] -36.92\n",
       " [4,] -17.95\n",
       " [5,]  -4.29\n",
       " [6,]  -4.69\n",
       " [7,]   0.00\n",
       " [8,]  -6.09\n",
       " [9,]  -6.41\n",
       "[10,] -10.45\n",
       "[11,] -30.51\n",
       "[12,] -47.26\n",
       "[13,] -68.43"
      ]
     },
     "execution_count": 91,
     "metadata": {},
     "output_type": "execute_result"
    }
   ],
   "source": [
    "round(cbind((data$D-mean(D))*(data$Y-mean(Y))),2)\n"
   ]
  },
  {
   "cell_type": "code",
   "execution_count": 99,
   "metadata": {
    "collapsed": false
   },
   "outputs": [
    {
     "data": {
      "text/html": [
       "6.18157329574788"
      ],
      "text/latex": [
       "6.18157329574788"
      ],
      "text/markdown": [
       "6.18157329574788"
      ],
      "text/plain": [
       "[1] 6.181573"
      ]
     },
     "execution_count": 99,
     "metadata": {},
     "output_type": "execute_result"
    }
   ],
   "source": [
    "sum(residuals(modl)^2)/11"
   ]
  },
  {
   "cell_type": "code",
   "execution_count": 98,
   "metadata": {
    "collapsed": false
   },
   "outputs": [
    {
     "data": {
      "text/html": [
       "11"
      ],
      "text/latex": [
       "11"
      ],
      "text/markdown": [
       "11"
      ],
      "text/plain": [
       "[1] 11"
      ]
     },
     "execution_count": 98,
     "metadata": {},
     "output_type": "execute_result"
    }
   ],
   "source": [
    "modl$df.residual"
   ]
  },
  {
   "cell_type": "code",
   "execution_count": 103,
   "metadata": {
    "collapsed": false
   },
   "outputs": [
    {
     "data": {
      "text/html": [
       "-328.2465"
      ],
      "text/latex": [
       "-328.2465"
      ],
      "text/markdown": [
       "-328.2465"
      ],
      "text/plain": [
       "[1] -328.2465"
      ]
     },
     "execution_count": 103,
     "metadata": {},
     "output_type": "execute_result"
    }
   ],
   "source": [
    "round(sum((data$D-mean(D))*(data$Y-mean(Y))),4)"
   ]
  },
  {
   "cell_type": "code",
   "execution_count": null,
   "metadata": {
    "collapsed": true
   },
   "outputs": [],
   "source": []
  }
 ],
 "metadata": {
  "kernelspec": {
   "display_name": "R",
   "language": "R",
   "name": "ir"
  },
  "language_info": {
   "codemirror_mode": "r",
   "file_extension": ".r",
   "mimetype": "text/x-r-source",
   "name": "R",
   "pygments_lexer": "r",
   "version": "3.2.2"
  }
 },
 "nbformat": 4,
 "nbformat_minor": 0
}
