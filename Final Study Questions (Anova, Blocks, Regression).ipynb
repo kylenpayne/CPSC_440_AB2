{
 "cells": [
  {
   "cell_type": "code",
   "execution_count": 10,
   "metadata": {
    "collapsed": false
   },
   "outputs": [
    {
     "ename": "ERROR",
     "evalue": "Error in contrib.url(repos, type): trying to use CRAN without setting a mirror\n",
     "output_type": "error",
     "traceback": [
      "Error in contrib.url(repos, type): trying to use CRAN without setting a mirror\n"
     ]
    }
   ],
   "source": [
    "install.packages(\"data.table\")"
   ]
  },
  {
   "cell_type": "markdown",
   "metadata": {},
   "source": [
    "A medical study was conducted to study the relationship between the systolic blood pressure and the explanatory variables, weight (kgm) and age (days) for infants. The data for 25 infants are shown here."
   ]
  },
  {
   "cell_type": "code",
   "execution_count": 11,
   "metadata": {
    "collapsed": false
   },
   "outputs": [
    {
     "data": {
      "text/html": [
       "<table>\n",
       "<thead><tr><th></th><th scope=col>infant</th><th scope=col>age</th><th scope=col>weight</th><th scope=col>systolic_bp</th></tr></thead>\n",
       "<tbody>\n",
       "\t<tr><th scope=row>1</th><td>1</td><td>3</td><td>2.61</td><td>80</td></tr>\n",
       "\t<tr><th scope=row>2</th><td>2</td><td>4</td><td>2.67</td><td>90</td></tr>\n",
       "\t<tr><th scope=row>3</th><td>3</td><td>5</td><td>2.98</td><td>96</td></tr>\n",
       "\t<tr><th scope=row>4</th><td>4</td><td>6</td><td>3.98</td><td>102</td></tr>\n",
       "\t<tr><th scope=row>5</th><td>5</td><td>3</td><td>2.87</td><td>81</td></tr>\n",
       "\t<tr><th scope=row>6</th><td>6</td><td>4</td><td>3.41</td><td>96</td></tr>\n",
       "\t<tr><th scope=row>7</th><td>7</td><td>5</td><td>3.49</td><td>99</td></tr>\n",
       "\t<tr><th scope=row>8</th><td>8</td><td>6</td><td>4.03</td><td>110</td></tr>\n",
       "\t<tr><th scope=row>9</th><td>9</td><td>3</td><td>3.41</td><td>88</td></tr>\n",
       "\t<tr><th scope=row>10</th><td>10</td><td>4</td><td>2.81</td><td>90</td></tr>\n",
       "\t<tr><th scope=row>11</th><td>11</td><td>5</td><td>3.24</td><td>100</td></tr>\n",
       "\t<tr><th scope=row>12</th><td>12</td><td>6</td><td>3.75</td><td>102</td></tr>\n",
       "\t<tr><th scope=row>13</th><td>13</td><td>3</td><td>3.18</td><td>86</td></tr>\n",
       "\t<tr><th scope=row>14</th><td>14</td><td>4</td><td>3.13</td><td>93</td></tr>\n",
       "\t<tr><th scope=row>15</th><td>15</td><td>5</td><td>3.98</td><td>101</td></tr>\n",
       "\t<tr><th scope=row>16</th><td>16</td><td>6</td><td>4.55</td><td>103</td></tr>\n",
       "\t<tr><th scope=row>17</th><td>17</td><td>3</td><td>3.41</td><td>86</td></tr>\n",
       "\t<tr><th scope=row>18</th><td>18</td><td>4</td><td>3.35</td><td>91</td></tr>\n",
       "\t<tr><th scope=row>19</th><td>19</td><td>5</td><td>3.75</td><td>100</td></tr>\n",
       "\t<tr><th scope=row>20</th><td>20</td><td>6</td><td>3.83</td><td>105</td></tr>\n",
       "\t<tr><th scope=row>21</th><td>21</td><td>3</td><td>3.18</td><td>84</td></tr>\n",
       "\t<tr><th scope=row>22</th><td>22</td><td>4</td><td>3.52</td><td>91</td></tr>\n",
       "\t<tr><th scope=row>23</th><td>23</td><td>5</td><td>3.49</td><td>95</td></tr>\n",
       "\t<tr><th scope=row>24</th><td>24</td><td>6</td><td>3.81</td><td>104</td></tr>\n",
       "\t<tr><th scope=row>25</th><td>25</td><td>6</td><td>4.03</td><td>107</td></tr>\n",
       "</tbody>\n",
       "</table>\n"
      ],
      "text/latex": [
       "\\begin{tabular}{r|llll}\n",
       "  & infant & age & weight & systolic_bp\\\\\n",
       "\\hline\n",
       "\t1 & 1 & 3 & 2.61 & 80\\\\\n",
       "\t2 & 2 & 4 & 2.67 & 90\\\\\n",
       "\t3 & 3 & 5 & 2.98 & 96\\\\\n",
       "\t4 & 4 & 6 & 3.98 & 102\\\\\n",
       "\t5 & 5 & 3 & 2.87 & 81\\\\\n",
       "\t6 & 6 & 4 & 3.41 & 96\\\\\n",
       "\t7 & 7 & 5 & 3.49 & 99\\\\\n",
       "\t8 & 8 & 6 & 4.03 & 110\\\\\n",
       "\t9 & 9 & 3 & 3.41 & 88\\\\\n",
       "\t10 & 10 & 4 & 2.81 & 90\\\\\n",
       "\t11 & 11 & 5 & 3.24 & 100\\\\\n",
       "\t12 & 12 & 6 & 3.75 & 102\\\\\n",
       "\t13 & 13 & 3 & 3.18 & 86\\\\\n",
       "\t14 & 14 & 4 & 3.13 & 93\\\\\n",
       "\t15 & 15 & 5 & 3.98 & 101\\\\\n",
       "\t16 & 16 & 6 & 4.55 & 103\\\\\n",
       "\t17 & 17 & 3 & 3.41 & 86\\\\\n",
       "\t18 & 18 & 4 & 3.35 & 91\\\\\n",
       "\t19 & 19 & 5 & 3.75 & 100\\\\\n",
       "\t20 & 20 & 6 & 3.83 & 105\\\\\n",
       "\t21 & 21 & 3 & 3.18 & 84\\\\\n",
       "\t22 & 22 & 4 & 3.52 & 91\\\\\n",
       "\t23 & 23 & 5 & 3.49 & 95\\\\\n",
       "\t24 & 24 & 6 & 3.81 & 104\\\\\n",
       "\t25 & 25 & 6 & 4.03 & 107\\\\\n",
       "\\end{tabular}\n"
      ],
      "text/plain": [
       "   infant age weight systolic_bp\n",
       "1       1   3   2.61          80\n",
       "2       2   4   2.67          90\n",
       "3       3   5   2.98          96\n",
       "4       4   6   3.98         102\n",
       "5       5   3   2.87          81\n",
       "6       6   4   3.41          96\n",
       "7       7   5   3.49          99\n",
       "8       8   6   4.03         110\n",
       "9       9   3   3.41          88\n",
       "10     10   4   2.81          90\n",
       "11     11   5   3.24         100\n",
       "12     12   6   3.75         102\n",
       "13     13   3   3.18          86\n",
       "14     14   4   3.13          93\n",
       "15     15   5   3.98         101\n",
       "16     16   6   4.55         103\n",
       "17     17   3   3.41          86\n",
       "18     18   4   3.35          91\n",
       "19     19   5   3.75         100\n",
       "20     20   6   3.83         105\n",
       "21     21   3   3.18          84\n",
       "22     22   4   3.52          91\n",
       "23     23   5   3.49          95\n",
       "24     24   6   3.81         104\n",
       "25     25   6   4.03         107"
      ]
     },
     "execution_count": 11,
     "metadata": {},
     "output_type": "execute_result"
    }
   ],
   "source": [
    "data_pr1<-read.csv('ASCII-comma/CH12/ex12-10.TXT')\n",
    "colnames(data_pr1) <- c(\"infant\", \"age\", \"weight\", \"systolic_bp\")\n",
    "data_pr1"
   ]
  },
  {
   "cell_type": "markdown",
   "metadata": {},
   "source": [
    "#### Calculate the simple linear regression, by hand, for systolic blood pressure on weight.\n",
    "#### Conduct a t-test for the coefficient $\\beta_1$"
   ]
  },
  {
   "cell_type": "markdown",
   "metadata": {},
   "source": [
    "The transportation research division of a northern state is examining the amount of road damage associated with various methods used to clear snow and ice from the roadways. They have selected two levels of each of the following substances that are applied to the roadway: sodium chloride, calcium chloride, and sand. The response variable measured on each of the treated roads is the number of new cracks per mile of roadway. Because traffic volume is highly variable and could impact the response variable, the engineers decide to use a randomized block design with the traffic volume during the previous winter as the blocking factor. Each of the six treatments is randomly assigned to 5 roadways. "
   ]
  },
  {
   "cell_type": "markdown",
   "metadata": {},
   "source": [
    "#### Write a statistical model for this experiment.\n",
    "\n"
   ]
  },
  {
   "cell_type": "markdown",
   "metadata": {},
   "source": [
    "An agroscience company is investigating the optimal planting density of three commercial varieties of tomatoes: celebrity, sunbeam, and trust. The researcher decides to examine the effects of four planting densities: 5, 20, 35, and 50 thousand plants per hectare. The ex- periment station had three large fields which would be appropriate for the study. At each of the fields, 12 plots are prepared and the 12 treatments were randomly assigned to the plots. A separate randomization was done at each of the three fields. The yield data from the 36 plots are given here."
   ]
  },
  {
   "cell_type": "code",
   "execution_count": 12,
   "metadata": {
    "collapsed": false
   },
   "outputs": [
    {
     "data": {
      "text/html": [
       "<table>\n",
       "<thead><tr><th></th><th scope=col>field</th><th scope=col>plot</th><th scope=col>variety</th><th scope=col>density</th><th scope=col>yield</th></tr></thead>\n",
       "<tbody>\n",
       "\t<tr><th scope=row>1</th><td>1</td><td>1</td><td>'Celebrity'</td><td>'5K'</td><td>32.5</td></tr>\n",
       "\t<tr><th scope=row>2</th><td>2</td><td>1</td><td>'Celebrity'</td><td>'5K'</td><td>33.4</td></tr>\n",
       "\t<tr><th scope=row>3</th><td>3</td><td>1</td><td>'Celebrity'</td><td>'5K'</td><td>41.1</td></tr>\n",
       "\t<tr><th scope=row>4</th><td>1</td><td>2</td><td>'Celebrity'</td><td>'20K'</td><td>39.9</td></tr>\n",
       "\t<tr><th scope=row>5</th><td>2</td><td>2</td><td>'Celebrity'</td><td>'20K'</td><td>47.2</td></tr>\n",
       "\t<tr><th scope=row>6</th><td>3</td><td>2</td><td>'Celebrity'</td><td>'20K'</td><td>48.7</td></tr>\n",
       "\t<tr><th scope=row>7</th><td>1</td><td>3</td><td>'Celebrity'</td><td>'35K'</td><td>42.5</td></tr>\n",
       "\t<tr><th scope=row>8</th><td>2</td><td>3</td><td>'Celebrity'</td><td>'35K'</td><td>44.5</td></tr>\n",
       "\t<tr><th scope=row>9</th><td>3</td><td>3</td><td>'Celebrity'</td><td>'35K'</td><td>53.5</td></tr>\n",
       "\t<tr><th scope=row>10</th><td>1</td><td>4</td><td>'Celebrity'</td><td>'50K'</td><td>38.2</td></tr>\n",
       "\t<tr><th scope=row>11</th><td>2</td><td>4</td><td>'Celebrity'</td><td>'50K'</td><td>43.5</td></tr>\n",
       "\t<tr><th scope=row>12</th><td>3</td><td>4</td><td>'Celebrity'</td><td>'50K'</td><td>48.4</td></tr>\n",
       "\t<tr><th scope=row>13</th><td>1</td><td>5</td><td>'Sunbeam'</td><td>'5K'</td><td>32.2</td></tr>\n",
       "\t<tr><th scope=row>14</th><td>2</td><td>5</td><td>'Sunbeam'</td><td>'5K'</td><td>33.4</td></tr>\n",
       "\t<tr><th scope=row>15</th><td>3</td><td>5</td><td>'Sunbeam'</td><td>'5K'</td><td>41.8</td></tr>\n",
       "\t<tr><th scope=row>16</th><td>1</td><td>6</td><td>'Sunbeam'</td><td>'20K'</td><td>43.2</td></tr>\n",
       "\t<tr><th scope=row>17</th><td>2</td><td>6</td><td>'Sunbeam'</td><td>'20K'</td><td>51.3</td></tr>\n",
       "\t<tr><th scope=row>18</th><td>3</td><td>6</td><td>'Sunbeam'</td><td>'20K'</td><td>51.2</td></tr>\n",
       "\t<tr><th scope=row>19</th><td>1</td><td>7</td><td>'Sunbeam'</td><td>'35K'</td><td>47.6</td></tr>\n",
       "\t<tr><th scope=row>20</th><td>2</td><td>7</td><td>'Sunbeam'</td><td>'35K'</td><td>52.2</td></tr>\n",
       "\t<tr><th scope=row>21</th><td>3</td><td>7</td><td>'Sunbeam'</td><td>'35K'</td><td>55.9</td></tr>\n",
       "\t<tr><th scope=row>22</th><td>1</td><td>8</td><td>'Sunbeam'</td><td>'50K'</td><td>43.5</td></tr>\n",
       "\t<tr><th scope=row>23</th><td>2</td><td>8</td><td>'Sunbeam'</td><td>'50K'</td><td>44.1</td></tr>\n",
       "\t<tr><th scope=row>24</th><td>3</td><td>8</td><td>'Sunbeam'</td><td>'50K'</td><td>55.9</td></tr>\n",
       "\t<tr><th scope=row>25</th><td>1</td><td>9</td><td>'Trust'</td><td>'5K'</td><td>49.9</td></tr>\n",
       "\t<tr><th scope=row>26</th><td>2</td><td>9</td><td>'Trust'</td><td>'5K'</td><td>60.8</td></tr>\n",
       "\t<tr><th scope=row>27</th><td>3</td><td>9</td><td>'Trust'</td><td>'5K'</td><td>60.8</td></tr>\n",
       "\t<tr><th scope=row>28</th><td>1</td><td>10</td><td>'Trust'</td><td>'20K'</td><td>59</td></tr>\n",
       "\t<tr><th scope=row>29</th><td>2</td><td>10</td><td>'Trust'</td><td>'20K'</td><td>66.1</td></tr>\n",
       "\t<tr><th scope=row>30</th><td>3</td><td>10</td><td>'Trust'</td><td>'20K'</td><td>67.6</td></tr>\n",
       "\t<tr><th scope=row>31</th><td>1</td><td>11</td><td>'Trust'</td><td>'35K'</td><td>66.3</td></tr>\n",
       "\t<tr><th scope=row>32</th><td>2</td><td>11</td><td>'Trust'</td><td>'35K'</td><td>70.7</td></tr>\n",
       "\t<tr><th scope=row>33</th><td>3</td><td>11</td><td>'Trust'</td><td>'35K'</td><td>73.2</td></tr>\n",
       "\t<tr><th scope=row>34</th><td>1</td><td>12</td><td>'Trust'</td><td>'50K'</td><td>58.3</td></tr>\n",
       "\t<tr><th scope=row>35</th><td>2</td><td>12</td><td>'Trust'</td><td>'50K'</td><td>60.6</td></tr>\n",
       "\t<tr><th scope=row>36</th><td>3</td><td>12</td><td>'Trust'</td><td>'50K'</td><td>67.8</td></tr>\n",
       "</tbody>\n",
       "</table>\n"
      ],
      "text/latex": [
       "\\begin{tabular}{r|lllll}\n",
       "  & field & plot & variety & density & yield\\\\\n",
       "\\hline\n",
       "\t1 & 1 & 1 & 'Celebrity' & '5K' & 32.5\\\\\n",
       "\t2 & 2 & 1 & 'Celebrity' & '5K' & 33.4\\\\\n",
       "\t3 & 3 & 1 & 'Celebrity' & '5K' & 41.1\\\\\n",
       "\t4 & 1 & 2 & 'Celebrity' & '20K' & 39.9\\\\\n",
       "\t5 & 2 & 2 & 'Celebrity' & '20K' & 47.2\\\\\n",
       "\t6 & 3 & 2 & 'Celebrity' & '20K' & 48.7\\\\\n",
       "\t7 & 1 & 3 & 'Celebrity' & '35K' & 42.5\\\\\n",
       "\t8 & 2 & 3 & 'Celebrity' & '35K' & 44.5\\\\\n",
       "\t9 & 3 & 3 & 'Celebrity' & '35K' & 53.5\\\\\n",
       "\t10 & 1 & 4 & 'Celebrity' & '50K' & 38.2\\\\\n",
       "\t11 & 2 & 4 & 'Celebrity' & '50K' & 43.5\\\\\n",
       "\t12 & 3 & 4 & 'Celebrity' & '50K' & 48.4\\\\\n",
       "\t13 & 1 & 5 & 'Sunbeam' & '5K' & 32.2\\\\\n",
       "\t14 & 2 & 5 & 'Sunbeam' & '5K' & 33.4\\\\\n",
       "\t15 & 3 & 5 & 'Sunbeam' & '5K' & 41.8\\\\\n",
       "\t16 & 1 & 6 & 'Sunbeam' & '20K' & 43.2\\\\\n",
       "\t17 & 2 & 6 & 'Sunbeam' & '20K' & 51.3\\\\\n",
       "\t18 & 3 & 6 & 'Sunbeam' & '20K' & 51.2\\\\\n",
       "\t19 & 1 & 7 & 'Sunbeam' & '35K' & 47.6\\\\\n",
       "\t20 & 2 & 7 & 'Sunbeam' & '35K' & 52.2\\\\\n",
       "\t21 & 3 & 7 & 'Sunbeam' & '35K' & 55.9\\\\\n",
       "\t22 & 1 & 8 & 'Sunbeam' & '50K' & 43.5\\\\\n",
       "\t23 & 2 & 8 & 'Sunbeam' & '50K' & 44.1\\\\\n",
       "\t24 & 3 & 8 & 'Sunbeam' & '50K' & 55.9\\\\\n",
       "\t25 & 1 & 9 & 'Trust' & '5K' & 49.9\\\\\n",
       "\t26 & 2 & 9 & 'Trust' & '5K' & 60.8\\\\\n",
       "\t27 & 3 & 9 & 'Trust' & '5K' & 60.8\\\\\n",
       "\t28 & 1 & 10 & 'Trust' & '20K' & 59\\\\\n",
       "\t29 & 2 & 10 & 'Trust' & '20K' & 66.1\\\\\n",
       "\t30 & 3 & 10 & 'Trust' & '20K' & 67.6\\\\\n",
       "\t31 & 1 & 11 & 'Trust' & '35K' & 66.3\\\\\n",
       "\t32 & 2 & 11 & 'Trust' & '35K' & 70.7\\\\\n",
       "\t33 & 3 & 11 & 'Trust' & '35K' & 73.2\\\\\n",
       "\t34 & 1 & 12 & 'Trust' & '50K' & 58.3\\\\\n",
       "\t35 & 2 & 12 & 'Trust' & '50K' & 60.6\\\\\n",
       "\t36 & 3 & 12 & 'Trust' & '50K' & 67.8\\\\\n",
       "\\end{tabular}\n"
      ],
      "text/plain": [
       "   field plot     variety density yield\n",
       "1      1    1 'Celebrity'    '5K'  32.5\n",
       "2      2    1 'Celebrity'    '5K'  33.4\n",
       "3      3    1 'Celebrity'    '5K'  41.1\n",
       "4      1    2 'Celebrity'   '20K'  39.9\n",
       "5      2    2 'Celebrity'   '20K'  47.2\n",
       "6      3    2 'Celebrity'   '20K'  48.7\n",
       "7      1    3 'Celebrity'   '35K'  42.5\n",
       "8      2    3 'Celebrity'   '35K'  44.5\n",
       "9      3    3 'Celebrity'   '35K'  53.5\n",
       "10     1    4 'Celebrity'   '50K'  38.2\n",
       "11     2    4 'Celebrity'   '50K'  43.5\n",
       "12     3    4 'Celebrity'   '50K'  48.4\n",
       "13     1    5   'Sunbeam'    '5K'  32.2\n",
       "14     2    5   'Sunbeam'    '5K'  33.4\n",
       "15     3    5   'Sunbeam'    '5K'  41.8\n",
       "16     1    6   'Sunbeam'   '20K'  43.2\n",
       "17     2    6   'Sunbeam'   '20K'  51.3\n",
       "18     3    6   'Sunbeam'   '20K'  51.2\n",
       "19     1    7   'Sunbeam'   '35K'  47.6\n",
       "20     2    7   'Sunbeam'   '35K'  52.2\n",
       "21     3    7   'Sunbeam'   '35K'  55.9\n",
       "22     1    8   'Sunbeam'   '50K'  43.5\n",
       "23     2    8   'Sunbeam'   '50K'  44.1\n",
       "24     3    8   'Sunbeam'   '50K'  55.9\n",
       "25     1    9     'Trust'    '5K'  49.9\n",
       "26     2    9     'Trust'    '5K'  60.8\n",
       "27     3    9     'Trust'    '5K'  60.8\n",
       "28     1   10     'Trust'   '20K'  59.0\n",
       "29     2   10     'Trust'   '20K'  66.1\n",
       "30     3   10     'Trust'   '20K'  67.6\n",
       "31     1   11     'Trust'   '35K'  66.3\n",
       "32     2   11     'Trust'   '35K'  70.7\n",
       "33     3   11     'Trust'   '35K'  73.2\n",
       "34     1   12     'Trust'   '50K'  58.3\n",
       "35     2   12     'Trust'   '50K'  60.6\n",
       "36     3   12     'Trust'   '50K'  67.8"
      ]
     },
     "execution_count": 12,
     "metadata": {},
     "output_type": "execute_result"
    }
   ],
   "source": [
    "library(magrittr)\n",
    "data_pr2 <- read.csv('ASCII-comma/CH15/ex15-16.TXT', header=T)\n",
    "colnames(data_pr2) <- c(\"field\", 'plot', 'variety', 'density', 'yield')\n",
    "data_pr2"
   ]
  },
  {
   "cell_type": "markdown",
   "metadata": {},
   "source": [
    "#### a. Identify the design and write a statistical model for this experiment.\n",
    "#### b. Use a profile plot to display the level of interaction between treatment and level.\n",
    "#### c. Perform appropriate F-tests and draw conclusions from these tests concerning the effect of variety and planting density on the mean yield of the tomato plants."
   ]
  },
  {
   "cell_type": "markdown",
   "metadata": {},
   "source": [
    "A quality control engineer is considering implementing a workshop on the principles of total quality management (TQM). The program would be quite expensive to implement across the whole corporation; hence the engineer has designed a study to evaluate which of four types of workshops would be most effective. The response variable will be the in- crease in productivity of the worker after participating in the workshop. Since the effectiveness of the workshop may depend on the worker’s preconceived attitude concerning TQM, the workers are given an examination to determine their attitude prior to taking the workshop. Their attitudes are classified into five groups. There are four workers in each group, and the type of workshop is randomly assigned to the workers within each group. The increases in productivity are given here."
   ]
  },
  {
   "cell_type": "code",
   "execution_count": 13,
   "metadata": {
    "collapsed": false
   },
   "outputs": [
    {
     "data": {
      "text/html": [
       "<table>\n",
       "<thead><tr><th></th><th scope=col>attitude</th><th scope=col>workshop</th><th scope=col>productivity</th></tr></thead>\n",
       "<tbody>\n",
       "\t<tr><th scope=row>1</th><td>1</td><td>'A'</td><td>33</td></tr>\n",
       "\t<tr><th scope=row>2</th><td>2</td><td>'A'</td><td>38</td></tr>\n",
       "\t<tr><th scope=row>3</th><td>3</td><td>'A'</td><td>39</td></tr>\n",
       "\t<tr><th scope=row>4</th><td>4</td><td>'A'</td><td>42</td></tr>\n",
       "\t<tr><th scope=row>5</th><td>5</td><td>'A'</td><td>62</td></tr>\n",
       "\t<tr><th scope=row>6</th><td>1</td><td>'B'</td><td>35</td></tr>\n",
       "\t<tr><th scope=row>7</th><td>2</td><td>'B'</td><td>37</td></tr>\n",
       "\t<tr><th scope=row>8</th><td>3</td><td>'B'</td><td>43</td></tr>\n",
       "\t<tr><th scope=row>9</th><td>4</td><td>'B'</td><td>47</td></tr>\n",
       "\t<tr><th scope=row>10</th><td>5</td><td>'B'</td><td>71</td></tr>\n",
       "\t<tr><th scope=row>11</th><td>1</td><td>'C'</td><td>40</td></tr>\n",
       "\t<tr><th scope=row>12</th><td>2</td><td>'C'</td><td>42</td></tr>\n",
       "\t<tr><th scope=row>13</th><td>3</td><td>'C'</td><td>45</td></tr>\n",
       "\t<tr><th scope=row>14</th><td>4</td><td>'C'</td><td>52</td></tr>\n",
       "\t<tr><th scope=row>15</th><td>5</td><td>'C'</td><td>74</td></tr>\n",
       "\t<tr><th scope=row>16</th><td>1</td><td>'D'</td><td>54</td></tr>\n",
       "\t<tr><th scope=row>17</th><td>2</td><td>'D'</td><td>50</td></tr>\n",
       "\t<tr><th scope=row>18</th><td>3</td><td>'D'</td><td>55</td></tr>\n",
       "\t<tr><th scope=row>19</th><td>4</td><td>'D'</td><td>62</td></tr>\n",
       "\t<tr><th scope=row>20</th><td>5</td><td>'D'</td><td>84</td></tr>\n",
       "</tbody>\n",
       "</table>\n"
      ],
      "text/latex": [
       "\\begin{tabular}{r|lll}\n",
       "  & attitude & workshop & productivity\\\\\n",
       "\\hline\n",
       "\t1 & 1 & 'A' & 33\\\\\n",
       "\t2 & 2 & 'A' & 38\\\\\n",
       "\t3 & 3 & 'A' & 39\\\\\n",
       "\t4 & 4 & 'A' & 42\\\\\n",
       "\t5 & 5 & 'A' & 62\\\\\n",
       "\t6 & 1 & 'B' & 35\\\\\n",
       "\t7 & 2 & 'B' & 37\\\\\n",
       "\t8 & 3 & 'B' & 43\\\\\n",
       "\t9 & 4 & 'B' & 47\\\\\n",
       "\t10 & 5 & 'B' & 71\\\\\n",
       "\t11 & 1 & 'C' & 40\\\\\n",
       "\t12 & 2 & 'C' & 42\\\\\n",
       "\t13 & 3 & 'C' & 45\\\\\n",
       "\t14 & 4 & 'C' & 52\\\\\n",
       "\t15 & 5 & 'C' & 74\\\\\n",
       "\t16 & 1 & 'D' & 54\\\\\n",
       "\t17 & 2 & 'D' & 50\\\\\n",
       "\t18 & 3 & 'D' & 55\\\\\n",
       "\t19 & 4 & 'D' & 62\\\\\n",
       "\t20 & 5 & 'D' & 84\\\\\n",
       "\\end{tabular}\n"
      ],
      "text/plain": [
       "   attitude workshop productivity\n",
       "1         1      'A'           33\n",
       "2         2      'A'           38\n",
       "3         3      'A'           39\n",
       "4         4      'A'           42\n",
       "5         5      'A'           62\n",
       "6         1      'B'           35\n",
       "7         2      'B'           37\n",
       "8         3      'B'           43\n",
       "9         4      'B'           47\n",
       "10        5      'B'           71\n",
       "11        1      'C'           40\n",
       "12        2      'C'           42\n",
       "13        3      'C'           45\n",
       "14        4      'C'           52\n",
       "15        5      'C'           74\n",
       "16        1      'D'           54\n",
       "17        2      'D'           50\n",
       "18        3      'D'           55\n",
       "19        4      'D'           62\n",
       "20        5      'D'           84"
      ]
     },
     "execution_count": 13,
     "metadata": {},
     "output_type": "execute_result"
    }
   ],
   "source": [
    "data_pr3 <- read.csv('ASCII-comma/CH15/ex15-24.TXT')\n",
    "colnames(data_pr3) <- c(\"attitude\", \"workshop\", \"productivity\")\n",
    "data_pr3"
   ]
  },
  {
   "cell_type": "markdown",
   "metadata": {},
   "source": [
    "#### a. Write a statistical model for this experiment and estimate the parameters in your model.\n",
    "#### b. Are there differences in the mean increase in productivity for the four types of workshops? Use $\\alpha=0.05$\n",
    "#### c. Compute the relative efficiency of the randomized block design relative to a completely randomized design. Interpret this value. Were the blocks effective in reducing the variability in experimental units? Explain."
   ]
  },
  {
   "cell_type": "markdown",
   "metadata": {},
   "source": [
    "The production manager of a large investment firm is studying different methods\n",
    "to increase productivity in the workforce of the company. The process engineer and personnel in the human resource department develop three new incentive plans (B, C, D) for which they will design a study to compare the incentive plans with the current plan (plan A). Twenty workers are randomly assigned to each of the four plans. The response variable is the total number of units produced by each worker during one month on the incentive plans."
   ]
  },
  {
   "cell_type": "code",
   "execution_count": 14,
   "metadata": {
    "collapsed": false
   },
   "outputs": [
    {
     "data": {
      "text/html": [
       "<table>\n",
       "<thead><tr><th></th><th scope=col>rep</th><th scope=col>A</th><th scope=col>B</th><th scope=col>C</th><th scope=col>D</th></tr></thead>\n",
       "<tbody>\n",
       "\t<tr><th scope=row>1</th><td>1</td><td>422</td><td>521</td><td>437</td><td>582</td></tr>\n",
       "\t<tr><th scope=row>2</th><td>2</td><td>431</td><td>545</td><td>422</td><td>639</td></tr>\n",
       "\t<tr><th scope=row>3</th><td>3</td><td>784</td><td>600</td><td>473</td><td>735</td></tr>\n",
       "\t<tr><th scope=row>4</th><td>4</td><td>711</td><td>406</td><td>478</td><td>800</td></tr>\n",
       "\t<tr><th scope=row>5</th><td>5</td><td>641</td><td>563</td><td>397</td><td>853</td></tr>\n",
       "\t<tr><th scope=row>6</th><td>6</td><td>709</td><td>361</td><td>944</td><td>748</td></tr>\n",
       "\t<tr><th scope=row>7</th><td>7</td><td>344</td><td>387</td><td>394</td><td>622</td></tr>\n",
       "\t<tr><th scope=row>8</th><td>8</td><td>599</td><td>700</td><td>890</td><td>514</td></tr>\n",
       "\t<tr><th scope=row>9</th><td>9</td><td>511</td><td>348</td><td>488</td><td>714</td></tr>\n",
       "\t<tr><th scope=row>10</th><td>10</td><td>381</td><td>944</td><td>521</td><td>627</td></tr>\n",
       "\t<tr><th scope=row>11</th><td>11</td><td>349</td><td>545</td><td>387</td><td>548</td></tr>\n",
       "\t<tr><th scope=row>12</th><td>12</td><td>387</td><td>337</td><td>633</td><td>644</td></tr>\n",
       "\t<tr><th scope=row>13</th><td>13</td><td>394</td><td>427</td><td>627</td><td>736</td></tr>\n",
       "\t<tr><th scope=row>14</th><td>14</td><td>621</td><td>771</td><td>444</td><td>528</td></tr>\n",
       "\t<tr><th scope=row>15</th><td>15</td><td>328</td><td>752</td><td>1467</td><td>595</td></tr>\n",
       "\t<tr><th scope=row>16</th><td>16</td><td>636</td><td>810</td><td>828</td><td>572</td></tr>\n",
       "\t<tr><th scope=row>17</th><td>17</td><td>388</td><td>406</td><td>644</td><td>627</td></tr>\n",
       "\t<tr><th scope=row>18</th><td>18</td><td>901</td><td>537</td><td>1154</td><td>546</td></tr>\n",
       "\t<tr><th scope=row>19</th><td>19</td><td>394</td><td>816</td><td>430</td><td>701</td></tr>\n",
       "\t<tr><th scope=row>20</th><td>20</td><td>350</td><td>369</td><td>508</td><td>664</td></tr>\n",
       "</tbody>\n",
       "</table>\n"
      ],
      "text/latex": [
       "\\begin{tabular}{r|lllll}\n",
       "  & rep & A & B & C & D\\\\\n",
       "\\hline\n",
       "\t1 & 1 & 422 & 521 & 437 & 582\\\\\n",
       "\t2 & 2 & 431 & 545 & 422 & 639\\\\\n",
       "\t3 & 3 & 784 & 600 & 473 & 735\\\\\n",
       "\t4 & 4 & 711 & 406 & 478 & 800\\\\\n",
       "\t5 & 5 & 641 & 563 & 397 & 853\\\\\n",
       "\t6 & 6 & 709 & 361 & 944 & 748\\\\\n",
       "\t7 & 7 & 344 & 387 & 394 & 622\\\\\n",
       "\t8 & 8 & 599 & 700 & 890 & 514\\\\\n",
       "\t9 & 9 & 511 & 348 & 488 & 714\\\\\n",
       "\t10 & 10 & 381 & 944 & 521 & 627\\\\\n",
       "\t11 & 11 & 349 & 545 & 387 & 548\\\\\n",
       "\t12 & 12 & 387 & 337 & 633 & 644\\\\\n",
       "\t13 & 13 & 394 & 427 & 627 & 736\\\\\n",
       "\t14 & 14 & 621 & 771 & 444 & 528\\\\\n",
       "\t15 & 15 & 328 & 752 & 1467 & 595\\\\\n",
       "\t16 & 16 & 636 & 810 & 828 & 572\\\\\n",
       "\t17 & 17 & 388 & 406 & 644 & 627\\\\\n",
       "\t18 & 18 & 901 & 537 & 1154 & 546\\\\\n",
       "\t19 & 19 & 394 & 816 & 430 & 701\\\\\n",
       "\t20 & 20 & 350 & 369 & 508 & 664\\\\\n",
       "\\end{tabular}\n"
      ],
      "text/plain": [
       "   rep   A   B    C   D\n",
       "1    1 422 521  437 582\n",
       "2    2 431 545  422 639\n",
       "3    3 784 600  473 735\n",
       "4    4 711 406  478 800\n",
       "5    5 641 563  397 853\n",
       "6    6 709 361  944 748\n",
       "7    7 344 387  394 622\n",
       "8    8 599 700  890 514\n",
       "9    9 511 348  488 714\n",
       "10  10 381 944  521 627\n",
       "11  11 349 545  387 548\n",
       "12  12 387 337  633 644\n",
       "13  13 394 427  627 736\n",
       "14  14 621 771  444 528\n",
       "15  15 328 752 1467 595\n",
       "16  16 636 810  828 572\n",
       "17  17 388 406  644 627\n",
       "18  18 901 537 1154 546\n",
       "19  19 394 816  430 701\n",
       "20  20 350 369  508 664"
      ]
     },
     "execution_count": 14,
     "metadata": {},
     "output_type": "execute_result"
    }
   ],
   "source": [
    "data_pr4 <- read.csv('ASCII-comma/CH14/ex14-5.TXT', header=T)\n",
    "colnames(data_pr4) <-c(\"rep\",\"A\", \"B\", \"C\", \"D\")\n",
    "data_pr4"
   ]
  },
  {
   "cell_type": "markdown",
   "metadata": {},
   "source": [
    "#### State the null and alternative hypotheses being tested by the F-statistic in a AOV table.\n",
    "\n",
    "#### Fit the full model by hand and calculate the F-statistic.\n",
    "\n",
    "#### Is there significant evidence ($\\alpha=0.05$) that the mean output associated with the four incentive plans is different? Use Tukey's Procedure."
   ]
  },
  {
   "cell_type": "markdown",
   "metadata": {},
   "source": [
    "A study was conducted to compare the effect of four manganese rates (from MnSO4) and four copper rates (from CuSO4 5H2O) on the yield of soybeans. A large field was subdivided into 32 separate plots. Two plots were randomly assigned to each of the 16 factor–level combina- tions (treatments) and the treatments were applied to the designated plot. Soybeans were then planted over the entire field in rows 3 feet apart. The yields from the 32 plots are given here (in kilograms/hectare)."
   ]
  },
  {
   "cell_type": "code",
   "execution_count": 15,
   "metadata": {
    "collapsed": false
   },
   "outputs": [
    {
     "data": {
      "text/html": [
       "<table>\n",
       "<thead><tr><th></th><th scope=col>yields</th><th scope=col>Mn</th><th scope=col>Cu</th></tr></thead>\n",
       "<tbody>\n",
       "\t<tr><th scope=row>1</th><td>1558</td><td>20</td><td>1</td></tr>\n",
       "\t<tr><th scope=row>2</th><td>1578</td><td>20</td><td>1</td></tr>\n",
       "\t<tr><th scope=row>3</th><td>1590</td><td>20</td><td>3</td></tr>\n",
       "\t<tr><th scope=row>4</th><td>1610</td><td>20</td><td>3</td></tr>\n",
       "\t<tr><th scope=row>5</th><td>1558</td><td>20</td><td>5</td></tr>\n",
       "\t<tr><th scope=row>6</th><td>1550</td><td>20</td><td>5</td></tr>\n",
       "\t<tr><th scope=row>7</th><td>1328</td><td>20</td><td>7</td></tr>\n",
       "\t<tr><th scope=row>8</th><td>1427</td><td>20</td><td>7</td></tr>\n",
       "\t<tr><th scope=row>9</th><td>2003</td><td>50</td><td>1</td></tr>\n",
       "\t<tr><th scope=row>10</th><td>2033</td><td>50</td><td>1</td></tr>\n",
       "\t<tr><th scope=row>11</th><td>2020</td><td>50</td><td>3</td></tr>\n",
       "\t<tr><th scope=row>12</th><td>2051</td><td>50</td><td>3</td></tr>\n",
       "\t<tr><th scope=row>13</th><td>2003</td><td>50</td><td>5</td></tr>\n",
       "\t<tr><th scope=row>14</th><td>2010</td><td>50</td><td>5</td></tr>\n",
       "\t<tr><th scope=row>15</th><td>2010</td><td>50</td><td>7</td></tr>\n",
       "\t<tr><th scope=row>16</th><td>2031</td><td>50</td><td>7</td></tr>\n",
       "\t<tr><th scope=row>17</th><td>2490</td><td>80</td><td>1</td></tr>\n",
       "\t<tr><th scope=row>18</th><td>2470</td><td>80</td><td>1</td></tr>\n",
       "\t<tr><th scope=row>19</th><td>2620</td><td>80</td><td>3</td></tr>\n",
       "\t<tr><th scope=row>20</th><td>2632</td><td>80</td><td>3</td></tr>\n",
       "\t<tr><th scope=row>21</th><td>2490</td><td>80</td><td>5</td></tr>\n",
       "\t<tr><th scope=row>22</th><td>2690</td><td>80</td><td>5</td></tr>\n",
       "\t<tr><th scope=row>23</th><td>2887</td><td>80</td><td>7</td></tr>\n",
       "\t<tr><th scope=row>24</th><td>2832</td><td>80</td><td>7</td></tr>\n",
       "\t<tr><th scope=row>25</th><td>2830</td><td>110</td><td>1</td></tr>\n",
       "\t<tr><th scope=row>26</th><td>2810</td><td>110</td><td>1</td></tr>\n",
       "\t<tr><th scope=row>27</th><td>2860</td><td>110</td><td>3</td></tr>\n",
       "\t<tr><th scope=row>28</th><td>2841</td><td>110</td><td>3</td></tr>\n",
       "\t<tr><th scope=row>29</th><td>2830</td><td>110</td><td>5</td></tr>\n",
       "\t<tr><th scope=row>30</th><td>2910</td><td>110</td><td>5</td></tr>\n",
       "\t<tr><th scope=row>31</th><td>2960</td><td>110</td><td>7</td></tr>\n",
       "\t<tr><th scope=row>32</th><td>2941</td><td>110</td><td>7</td></tr>\n",
       "</tbody>\n",
       "</table>\n"
      ],
      "text/latex": [
       "\\begin{tabular}{r|lll}\n",
       "  & yields & Mn & Cu\\\\\n",
       "\\hline\n",
       "\t1 & 1558 & 20 & 1\\\\\n",
       "\t2 & 1578 & 20 & 1\\\\\n",
       "\t3 & 1590 & 20 & 3\\\\\n",
       "\t4 & 1610 & 20 & 3\\\\\n",
       "\t5 & 1558 & 20 & 5\\\\\n",
       "\t6 & 1550 & 20 & 5\\\\\n",
       "\t7 & 1328 & 20 & 7\\\\\n",
       "\t8 & 1427 & 20 & 7\\\\\n",
       "\t9 & 2003 & 50 & 1\\\\\n",
       "\t10 & 2033 & 50 & 1\\\\\n",
       "\t11 & 2020 & 50 & 3\\\\\n",
       "\t12 & 2051 & 50 & 3\\\\\n",
       "\t13 & 2003 & 50 & 5\\\\\n",
       "\t14 & 2010 & 50 & 5\\\\\n",
       "\t15 & 2010 & 50 & 7\\\\\n",
       "\t16 & 2031 & 50 & 7\\\\\n",
       "\t17 & 2490 & 80 & 1\\\\\n",
       "\t18 & 2470 & 80 & 1\\\\\n",
       "\t19 & 2620 & 80 & 3\\\\\n",
       "\t20 & 2632 & 80 & 3\\\\\n",
       "\t21 & 2490 & 80 & 5\\\\\n",
       "\t22 & 2690 & 80 & 5\\\\\n",
       "\t23 & 2887 & 80 & 7\\\\\n",
       "\t24 & 2832 & 80 & 7\\\\\n",
       "\t25 & 2830 & 110 & 1\\\\\n",
       "\t26 & 2810 & 110 & 1\\\\\n",
       "\t27 & 2860 & 110 & 3\\\\\n",
       "\t28 & 2841 & 110 & 3\\\\\n",
       "\t29 & 2830 & 110 & 5\\\\\n",
       "\t30 & 2910 & 110 & 5\\\\\n",
       "\t31 & 2960 & 110 & 7\\\\\n",
       "\t32 & 2941 & 110 & 7\\\\\n",
       "\\end{tabular}\n"
      ],
      "text/plain": [
       "   yields  Mn Cu\n",
       "1    1558  20  1\n",
       "2    1578  20  1\n",
       "3    1590  20  3\n",
       "4    1610  20  3\n",
       "5    1558  20  5\n",
       "6    1550  20  5\n",
       "7    1328  20  7\n",
       "8    1427  20  7\n",
       "9    2003  50  1\n",
       "10   2033  50  1\n",
       "11   2020  50  3\n",
       "12   2051  50  3\n",
       "13   2003  50  5\n",
       "14   2010  50  5\n",
       "15   2010  50  7\n",
       "16   2031  50  7\n",
       "17   2490  80  1\n",
       "18   2470  80  1\n",
       "19   2620  80  3\n",
       "20   2632  80  3\n",
       "21   2490  80  5\n",
       "22   2690  80  5\n",
       "23   2887  80  7\n",
       "24   2832  80  7\n",
       "25   2830 110  1\n",
       "26   2810 110  1\n",
       "27   2860 110  3\n",
       "28   2841 110  3\n",
       "29   2830 110  5\n",
       "30   2910 110  5\n",
       "31   2960 110  7\n",
       "32   2941 110  7"
      ]
     },
     "execution_count": 15,
     "metadata": {},
     "output_type": "execute_result"
    }
   ],
   "source": [
    "data_pr5 <- read.csv(file = 'ASCII-comma/CH14/ex14-20.TXT', header=T)\n",
    "colnames(data_pr5) <- c(\"yields\", \"Mn\", \"Cu\")\n",
    "data_pr5"
   ]
  },
  {
   "cell_type": "markdown",
   "metadata": {},
   "source": [
    "#### a. Identify the design for this experiment.\n",
    "\n",
    "#### b. Write an appropriate statistical model for this experiment.\n",
    "\n",
    "#### c. Construct a profile plot and describe what this plot says about the effect of Mn and Cu on soybean yield."
   ]
  },
  {
   "cell_type": "code",
   "execution_count": 16,
   "metadata": {
    "collapsed": false
   },
   "outputs": [
    {
     "data": {
      "image/png": "[encoded data removed]",
      "text/plain": [
       "plot without title"
      ]
     },
     "metadata": {
      "image/svg+xml": {
       "isolated": true
      }
     },
     "output_type": "display_data"
    }
   ],
   "source": [
    "data_pr5$Mn <- factor(data_pr5$Mn)\n",
    "data_pr5$Cu <- factor(data_pr5$Cu)\n",
    "\n",
    "modl <- lm(yields ~ Mn*Cu, data=data_pr5)\n",
    "interaction.plot(x.factor = data_pr5$Mn, trace.factor = data_pr5$Cu, response = data_pr5$yields)"
   ]
  },
  {
   "cell_type": "code",
   "execution_count": null,
   "metadata": {
    "collapsed": true
   },
   "outputs": [],
   "source": []
  }
 ],
 "metadata": {
  "kernelspec": {
   "display_name": "R",
   "language": "R",
   "name": "ir"
  },
  "language_info": {
   "codemirror_mode": "r",
   "file_extension": ".r",
   "mimetype": "text/x-r-source",
   "name": "R",
   "pygments_lexer": "r",
   "version": "3.2.2"
  }
 },
 "nbformat": 4,
 "nbformat_minor": 0
}
