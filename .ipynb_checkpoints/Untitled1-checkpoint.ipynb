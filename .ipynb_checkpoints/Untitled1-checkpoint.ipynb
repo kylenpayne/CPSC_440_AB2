{
 "cells": [
  {
   "cell_type": "code",
   "execution_count": 1,
   "metadata": {
    "collapsed": true
   },
   "outputs": [],
   "source": [
    "grades <- read.csv(file = \"../grades.csv\", header=T)"
   ]
  },
  {
   "cell_type": "code",
   "execution_count": 8,
   "metadata": {
    "collapsed": false
   },
   "outputs": [
    {
     "data": {
      "text/html": [
       "<table>\n",
       "<thead><tr><th></th><th scope=col>Last.Name</th><th scope=col>First.Name</th><th scope=col>Username</th><th scope=col>Section..Total.Pts..0...598406</th><th scope=col>Quiz.14..Total.Pts..10...667328</th><th scope=col>Hw.13..Total.Pts..10...667327</th><th scope=col>Quiz.13..Total.Pts..10...667326</th><th scope=col>Hw12..Total.Pts..10...667325</th><th scope=col>Quiz.12..Total.Pts..10...598408</th><th scope=col>Hw.11..Total.Pts..10...598409</th><th scope=col>Quiz.11..Total.Pts..10...598410</th><th scope=col>Hw.10..Total.Pts..10...598411</th><th scope=col>Exam2.Total..Total.Pts..100...598417</th><th scope=col>Quiz.10..Total.Pts..10...598418</th><th scope=col>HW.9..Total.Pts..10...598419</th><th scope=col>Quiz.9..Total.Pts..10...598420</th><th scope=col>Hw.8..Total.Pts..10...598421</th><th scope=col>Quiz.8..Total.Pts..10...598422</th><th scope=col>Hw.7..Total.Pts..10...598423</th><th scope=col>Quiz.7..Total.Pts..10...598424</th><th scope=col>Hw.6..Total.Pts..10...598425</th><th scope=col>Quiz.6..Total.Pts..10...598426</th><th scope=col>Hw.5..Total.Pts..10...598427</th><th scope=col>Exam1.Raw..Total.Pts..100...598435</th><th scope=col>Quiz.5..Total.Pts..10...598437</th><th scope=col>Quiz.4..Total.Pts..10...598438</th><th scope=col>Hw.4..Total.Pts..10...598439</th><th scope=col>Quiz.3..Total.Pts..10...598440</th><th scope=col>Hw.3..Total.Pts..10...598441</th><th scope=col>Quiz.2..Total.Pts..10...598442</th><th scope=col>Hw.2..Total.Pts..10...598443</th><th scope=col>HW.1..Total.Pts..10...598445</th><th scope=col>Quiz.1..Total.Pts..10...598444</th><th scope=col>HW.0..Total.Pts..10...598446</th></tr></thead>\n",
       "<tbody>\n",
       "\t<tr><th scope=row>12</th><td>Hsu</td><td>Lucas</td><td>lihsu2</td><td>NRES_440_AB2</td><td>NA</td><td>NA</td><td>NA</td><td>NA</td><td>1.5</td><td>2</td><td>2</td><td>9</td><td>61</td><td>NA</td><td>NA</td><td>7</td><td>NA</td><td>NA</td><td>NA</td><td>7.5</td><td>7.5</td><td>10</td><td>10</td><td>63</td><td>6</td><td>6</td><td>6</td><td>9</td><td>8.5</td><td>6</td><td>8</td><td>9</td><td>8.5</td><td>10</td></tr>\n",
       "</tbody>\n",
       "</table>\n"
      ],
      "text/latex": [
       "\\begin{tabular}{r|llllllllllllllllllllllllllllllllll}\n",
       "  & Last.Name & First.Name & Username & Section..Total.Pts..0...598406 & Quiz.14..Total.Pts..10...667328 & Hw.13..Total.Pts..10...667327 & Quiz.13..Total.Pts..10...667326 & Hw12..Total.Pts..10...667325 & Quiz.12..Total.Pts..10...598408 & Hw.11..Total.Pts..10...598409 & Quiz.11..Total.Pts..10...598410 & Hw.10..Total.Pts..10...598411 & Exam2.Total..Total.Pts..100...598417 & Quiz.10..Total.Pts..10...598418 & HW.9..Total.Pts..10...598419 & Quiz.9..Total.Pts..10...598420 & Hw.8..Total.Pts..10...598421 & Quiz.8..Total.Pts..10...598422 & Hw.7..Total.Pts..10...598423 & Quiz.7..Total.Pts..10...598424 & Hw.6..Total.Pts..10...598425 & Quiz.6..Total.Pts..10...598426 & Hw.5..Total.Pts..10...598427 & Exam1.Raw..Total.Pts..100...598435 & Quiz.5..Total.Pts..10...598437 & Quiz.4..Total.Pts..10...598438 & Hw.4..Total.Pts..10...598439 & Quiz.3..Total.Pts..10...598440 & Hw.3..Total.Pts..10...598441 & Quiz.2..Total.Pts..10...598442 & Hw.2..Total.Pts..10...598443 & HW.1..Total.Pts..10...598445 & Quiz.1..Total.Pts..10...598444 & HW.0..Total.Pts..10...598446\\\\\n",
       "\\hline\n",
       "\t12 & Hsu & Lucas & lihsu2 & NRES_440_AB2 & NA & NA & NA & NA & 1.5 & 2 & 2 & 9 & 61 & NA & NA & 7 & NA & NA & NA & 7.5 & 7.5 & 10 & 10 & 63 & 6 & 6 & 6 & 9 & 8.5 & 6 & 8 & 9 & 8.5 & 10\\\\\n",
       "\\end{tabular}\n"
      ],
      "text/plain": [
       "   Last.Name First.Name Username Section..Total.Pts..0...598406\n",
       "12       Hsu      Lucas   lihsu2                   NRES_440_AB2\n",
       "   Quiz.14..Total.Pts..10...667328 Hw.13..Total.Pts..10...667327\n",
       "12                              NA                            NA\n",
       "   Quiz.13..Total.Pts..10...667326 Hw12..Total.Pts..10...667325\n",
       "12                              NA                           NA\n",
       "   Quiz.12..Total.Pts..10...598408 Hw.11..Total.Pts..10...598409\n",
       "12                             1.5                             2\n",
       "   Quiz.11..Total.Pts..10...598410 Hw.10..Total.Pts..10...598411\n",
       "12                               2                             9\n",
       "   Exam2.Total..Total.Pts..100...598417 Quiz.10..Total.Pts..10...598418\n",
       "12                                   61                              NA\n",
       "   HW.9..Total.Pts..10...598419 Quiz.9..Total.Pts..10...598420\n",
       "12                           NA                              7\n",
       "   Hw.8..Total.Pts..10...598421 Quiz.8..Total.Pts..10...598422\n",
       "12                           NA                             NA\n",
       "   Hw.7..Total.Pts..10...598423 Quiz.7..Total.Pts..10...598424\n",
       "12                           NA                            7.5\n",
       "   Hw.6..Total.Pts..10...598425 Quiz.6..Total.Pts..10...598426\n",
       "12                          7.5                             10\n",
       "   Hw.5..Total.Pts..10...598427 Exam1.Raw..Total.Pts..100...598435\n",
       "12                           10                                 63\n",
       "   Quiz.5..Total.Pts..10...598437 Quiz.4..Total.Pts..10...598438\n",
       "12                              6                              6\n",
       "   Hw.4..Total.Pts..10...598439 Quiz.3..Total.Pts..10...598440\n",
       "12                            6                              9\n",
       "   Hw.3..Total.Pts..10...598441 Quiz.2..Total.Pts..10...598442\n",
       "12                          8.5                              6\n",
       "   Hw.2..Total.Pts..10...598443 HW.1..Total.Pts..10...598445\n",
       "12                            8                            9\n",
       "   Quiz.1..Total.Pts..10...598444 HW.0..Total.Pts..10...598446\n",
       "12                            8.5                           10"
      ]
     },
     "execution_count": 8,
     "metadata": {},
     "output_type": "execute_result"
    },
    {
     "data": {
      "text/html": [
       "<table>\n",
       "<tbody>\n",
       "\t<tr><td>1        </td><td>Last.Name</td></tr>\n",
       "\t<tr><td>2         </td><td>First.Name</td></tr>\n",
       "\t<tr><td>3       </td><td>Username</td></tr>\n",
       "\t<tr><td>4                             </td><td>Section..Total.Pts..0...598406</td></tr>\n",
       "\t<tr><td>5                              </td><td>Quiz.14..Total.Pts..10...667328</td></tr>\n",
       "\t<tr><td>6                            </td><td>Hw.13..Total.Pts..10...667327</td></tr>\n",
       "\t<tr><td>7                              </td><td>Quiz.13..Total.Pts..10...667326</td></tr>\n",
       "\t<tr><td>8                           </td><td>Hw12..Total.Pts..10...667325</td></tr>\n",
       "\t<tr><td>9                              </td><td>Quiz.12..Total.Pts..10...598408</td></tr>\n",
       "\t<tr><td>10                           </td><td>Hw.11..Total.Pts..10...598409</td></tr>\n",
       "\t<tr><td>11                             </td><td>Quiz.11..Total.Pts..10...598410</td></tr>\n",
       "\t<tr><td>12                           </td><td>Hw.10..Total.Pts..10...598411</td></tr>\n",
       "\t<tr><td>13                                  </td><td>Exam2.Total..Total.Pts..100...598417</td></tr>\n",
       "\t<tr><td>14                             </td><td>Quiz.10..Total.Pts..10...598418</td></tr>\n",
       "\t<tr><td>15                          </td><td>HW.9..Total.Pts..10...598419</td></tr>\n",
       "\t<tr><td>16                            </td><td>Quiz.9..Total.Pts..10...598420</td></tr>\n",
       "\t<tr><td>17                          </td><td>Hw.8..Total.Pts..10...598421</td></tr>\n",
       "\t<tr><td>18                            </td><td>Quiz.8..Total.Pts..10...598422</td></tr>\n",
       "\t<tr><td>19                          </td><td>Hw.7..Total.Pts..10...598423</td></tr>\n",
       "\t<tr><td>20                            </td><td>Quiz.7..Total.Pts..10...598424</td></tr>\n",
       "\t<tr><td>21                          </td><td>Hw.6..Total.Pts..10...598425</td></tr>\n",
       "\t<tr><td>22                            </td><td>Quiz.6..Total.Pts..10...598426</td></tr>\n",
       "\t<tr><td>23                          </td><td>Hw.5..Total.Pts..10...598427</td></tr>\n",
       "\t<tr><td>24                                </td><td>Exam1.Raw..Total.Pts..100...598435</td></tr>\n",
       "\t<tr><td>25                            </td><td>Quiz.5..Total.Pts..10...598437</td></tr>\n",
       "\t<tr><td>26                            </td><td>Quiz.4..Total.Pts..10...598438</td></tr>\n",
       "\t<tr><td>27                          </td><td>Hw.4..Total.Pts..10...598439</td></tr>\n",
       "\t<tr><td>28                            </td><td>Quiz.3..Total.Pts..10...598440</td></tr>\n",
       "\t<tr><td>29                          </td><td>Hw.3..Total.Pts..10...598441</td></tr>\n",
       "\t<tr><td>30                            </td><td>Quiz.2..Total.Pts..10...598442</td></tr>\n",
       "\t<tr><td>31                          </td><td>Hw.2..Total.Pts..10...598443</td></tr>\n",
       "\t<tr><td>32                          </td><td>HW.1..Total.Pts..10...598445</td></tr>\n",
       "\t<tr><td>33                            </td><td>Quiz.1..Total.Pts..10...598444</td></tr>\n",
       "\t<tr><td>34                          </td><td>HW.0..Total.Pts..10...598446</td></tr>\n",
       "</tbody>\n",
       "</table>\n"
      ],
      "text/latex": [
       "\\begin{tabular}{ll}\n",
       "\t 1         & Last.Name\\\\\n",
       "\t 2          & First.Name\\\\\n",
       "\t 3        & Username\\\\\n",
       "\t 4                              & Section..Total.Pts..0...598406\\\\\n",
       "\t 5                               & Quiz.14..Total.Pts..10...667328\\\\\n",
       "\t 6                             & Hw.13..Total.Pts..10...667327\\\\\n",
       "\t 7                               & Quiz.13..Total.Pts..10...667326\\\\\n",
       "\t 8                            & Hw12..Total.Pts..10...667325\\\\\n",
       "\t 9                               & Quiz.12..Total.Pts..10...598408\\\\\n",
       "\t 10                            & Hw.11..Total.Pts..10...598409\\\\\n",
       "\t 11                              & Quiz.11..Total.Pts..10...598410\\\\\n",
       "\t 12                            & Hw.10..Total.Pts..10...598411\\\\\n",
       "\t 13                                   & Exam2.Total..Total.Pts..100...598417\\\\\n",
       "\t 14                              & Quiz.10..Total.Pts..10...598418\\\\\n",
       "\t 15                           & HW.9..Total.Pts..10...598419\\\\\n",
       "\t 16                             & Quiz.9..Total.Pts..10...598420\\\\\n",
       "\t 17                           & Hw.8..Total.Pts..10...598421\\\\\n",
       "\t 18                             & Quiz.8..Total.Pts..10...598422\\\\\n",
       "\t 19                           & Hw.7..Total.Pts..10...598423\\\\\n",
       "\t 20                             & Quiz.7..Total.Pts..10...598424\\\\\n",
       "\t 21                           & Hw.6..Total.Pts..10...598425\\\\\n",
       "\t 22                             & Quiz.6..Total.Pts..10...598426\\\\\n",
       "\t 23                           & Hw.5..Total.Pts..10...598427\\\\\n",
       "\t 24                                 & Exam1.Raw..Total.Pts..100...598435\\\\\n",
       "\t 25                             & Quiz.5..Total.Pts..10...598437\\\\\n",
       "\t 26                             & Quiz.4..Total.Pts..10...598438\\\\\n",
       "\t 27                           & Hw.4..Total.Pts..10...598439\\\\\n",
       "\t 28                             & Quiz.3..Total.Pts..10...598440\\\\\n",
       "\t 29                           & Hw.3..Total.Pts..10...598441\\\\\n",
       "\t 30                             & Quiz.2..Total.Pts..10...598442\\\\\n",
       "\t 31                           & Hw.2..Total.Pts..10...598443\\\\\n",
       "\t 32                           & HW.1..Total.Pts..10...598445\\\\\n",
       "\t 33                             & Quiz.1..Total.Pts..10...598444\\\\\n",
       "\t 34                           & HW.0..Total.Pts..10...598446\\\\\n",
       "\\end{tabular}\n"
      ],
      "text/markdown": [
       "1. '1'\n",
       "2. '2'\n",
       "3. '3'\n",
       "4. '4'\n",
       "5. '5'\n",
       "6. '6'\n",
       "7. '7'\n",
       "8. '8'\n",
       "9. '9'\n",
       "10. '10'\n",
       "11. '11'\n",
       "12. '12'\n",
       "13. '13'\n",
       "14. '14'\n",
       "15. '15'\n",
       "16. '16'\n",
       "17. '17'\n",
       "18. '18'\n",
       "19. '19'\n",
       "20. '20'\n",
       "21. '21'\n",
       "22. '22'\n",
       "23. '23'\n",
       "24. '24'\n",
       "25. '25'\n",
       "26. '26'\n",
       "27. '27'\n",
       "28. '28'\n",
       "29. '29'\n",
       "30. '30'\n",
       "31. '31'\n",
       "32. '32'\n",
       "33. '33'\n",
       "34. '34'\n",
       "35. 'Last.Name'\n",
       "36. 'First.Name'\n",
       "37. 'Username'\n",
       "38. 'Section..Total.Pts..0...598406'\n",
       "39. 'Quiz.14..Total.Pts..10...667328'\n",
       "40. 'Hw.13..Total.Pts..10...667327'\n",
       "41. 'Quiz.13..Total.Pts..10...667326'\n",
       "42. 'Hw12..Total.Pts..10...667325'\n",
       "43. 'Quiz.12..Total.Pts..10...598408'\n",
       "44. 'Hw.11..Total.Pts..10...598409'\n",
       "45. 'Quiz.11..Total.Pts..10...598410'\n",
       "46. 'Hw.10..Total.Pts..10...598411'\n",
       "47. 'Exam2.Total..Total.Pts..100...598417'\n",
       "48. 'Quiz.10..Total.Pts..10...598418'\n",
       "49. 'HW.9..Total.Pts..10...598419'\n",
       "50. 'Quiz.9..Total.Pts..10...598420'\n",
       "51. 'Hw.8..Total.Pts..10...598421'\n",
       "52. 'Quiz.8..Total.Pts..10...598422'\n",
       "53. 'Hw.7..Total.Pts..10...598423'\n",
       "54. 'Quiz.7..Total.Pts..10...598424'\n",
       "55. 'Hw.6..Total.Pts..10...598425'\n",
       "56. 'Quiz.6..Total.Pts..10...598426'\n",
       "57. 'Hw.5..Total.Pts..10...598427'\n",
       "58. 'Exam1.Raw..Total.Pts..100...598435'\n",
       "59. 'Quiz.5..Total.Pts..10...598437'\n",
       "60. 'Quiz.4..Total.Pts..10...598438'\n",
       "61. 'Hw.4..Total.Pts..10...598439'\n",
       "62. 'Quiz.3..Total.Pts..10...598440'\n",
       "63. 'Hw.3..Total.Pts..10...598441'\n",
       "64. 'Quiz.2..Total.Pts..10...598442'\n",
       "65. 'Hw.2..Total.Pts..10...598443'\n",
       "66. 'HW.1..Total.Pts..10...598445'\n",
       "67. 'Quiz.1..Total.Pts..10...598444'\n",
       "68. 'HW.0..Total.Pts..10...598446'\n",
       "\n",
       "\n"
      ],
      "text/plain": [
       "      [,1] [,2]                                  \n",
       " [1,] \"1\"  \"Last.Name\"                           \n",
       " [2,] \"2\"  \"First.Name\"                          \n",
       " [3,] \"3\"  \"Username\"                            \n",
       " [4,] \"4\"  \"Section..Total.Pts..0...598406\"      \n",
       " [5,] \"5\"  \"Quiz.14..Total.Pts..10...667328\"     \n",
       " [6,] \"6\"  \"Hw.13..Total.Pts..10...667327\"       \n",
       " [7,] \"7\"  \"Quiz.13..Total.Pts..10...667326\"     \n",
       " [8,] \"8\"  \"Hw12..Total.Pts..10...667325\"        \n",
       " [9,] \"9\"  \"Quiz.12..Total.Pts..10...598408\"     \n",
       "[10,] \"10\" \"Hw.11..Total.Pts..10...598409\"       \n",
       "[11,] \"11\" \"Quiz.11..Total.Pts..10...598410\"     \n",
       "[12,] \"12\" \"Hw.10..Total.Pts..10...598411\"       \n",
       "[13,] \"13\" \"Exam2.Total..Total.Pts..100...598417\"\n",
       "[14,] \"14\" \"Quiz.10..Total.Pts..10...598418\"     \n",
       "[15,] \"15\" \"HW.9..Total.Pts..10...598419\"        \n",
       "[16,] \"16\" \"Quiz.9..Total.Pts..10...598420\"      \n",
       "[17,] \"17\" \"Hw.8..Total.Pts..10...598421\"        \n",
       "[18,] \"18\" \"Quiz.8..Total.Pts..10...598422\"      \n",
       "[19,] \"19\" \"Hw.7..Total.Pts..10...598423\"        \n",
       "[20,] \"20\" \"Quiz.7..Total.Pts..10...598424\"      \n",
       "[21,] \"21\" \"Hw.6..Total.Pts..10...598425\"        \n",
       "[22,] \"22\" \"Quiz.6..Total.Pts..10...598426\"      \n",
       "[23,] \"23\" \"Hw.5..Total.Pts..10...598427\"        \n",
       "[24,] \"24\" \"Exam1.Raw..Total.Pts..100...598435\"  \n",
       "[25,] \"25\" \"Quiz.5..Total.Pts..10...598437\"      \n",
       "[26,] \"26\" \"Quiz.4..Total.Pts..10...598438\"      \n",
       "[27,] \"27\" \"Hw.4..Total.Pts..10...598439\"        \n",
       "[28,] \"28\" \"Quiz.3..Total.Pts..10...598440\"      \n",
       "[29,] \"29\" \"Hw.3..Total.Pts..10...598441\"        \n",
       "[30,] \"30\" \"Quiz.2..Total.Pts..10...598442\"      \n",
       "[31,] \"31\" \"Hw.2..Total.Pts..10...598443\"        \n",
       "[32,] \"32\" \"HW.1..Total.Pts..10...598445\"        \n",
       "[33,] \"33\" \"Quiz.1..Total.Pts..10...598444\"      \n",
       "[34,] \"34\" \"HW.0..Total.Pts..10...598446\"        "
      ]
     },
     "execution_count": 8,
     "metadata": {},
     "output_type": "execute_result"
    }
   ],
   "source": [
    "grades[12,]\n",
    "cbind(1:length(colnames(grades)), colnames(grades))"
   ]
  },
  {
   "cell_type": "code",
   "execution_count": 23,
   "metadata": {
    "collapsed": false
   },
   "outputs": [
    {
     "data": {
      "text/html": [
       "101.85"
      ],
      "text/latex": [
       "101.85"
      ],
      "text/markdown": [
       "101.85"
      ],
      "text/plain": [
       "[1] 101.85"
      ]
     },
     "execution_count": 23,
     "metadata": {},
     "output_type": "execute_result"
    }
   ],
   "source": [
    "# quizzes: 5, 7, 9, 11, 14, 16, 18, 20, 22, 25, 26, 28, 30, 33\n",
    "\n",
    "quizzes <- grades[12,c(5, 7, 9, 11, 14, 16, 18, 20, 22, 25, 26, 28, 30, 33)]\n",
    "hw <- grades[12, c(6, 8, 10, 12, 15, 17, 19, 21, 23, 27, 29, 31, 32, 34)]\n",
    "exams <- grades[12,c(13, 24)]\n",
    "\n",
    ".25*sum(exams + 11, na.rm = TRUE) + .15*sum(hw+10, na.rm = TRUE) + .10*sum(quizzes+10, na.rm=TRUE) + .25*100"
   ]
  },
  {
   "cell_type": "code",
   "execution_count": 17,
   "metadata": {
    "collapsed": false
   },
   "outputs": [
    {
     "data": {
      "text/html": [
       "<table>\n",
       "<thead><tr><th></th><th scope=col>Quiz.14..Total.Pts..10...667328</th><th scope=col>Quiz.13..Total.Pts..10...667326</th><th scope=col>Quiz.12..Total.Pts..10...598408</th><th scope=col>Quiz.11..Total.Pts..10...598410</th><th scope=col>Quiz.10..Total.Pts..10...598418</th><th scope=col>Quiz.9..Total.Pts..10...598420</th><th scope=col>Quiz.8..Total.Pts..10...598422</th><th scope=col>Quiz.7..Total.Pts..10...598424</th><th scope=col>Quiz.6..Total.Pts..10...598426</th><th scope=col>Quiz.5..Total.Pts..10...598437</th><th scope=col>Quiz.4..Total.Pts..10...598438</th><th scope=col>Quiz.3..Total.Pts..10...598440</th><th scope=col>Quiz.2..Total.Pts..10...598442</th><th scope=col>Quiz.1..Total.Pts..10...598444</th></tr></thead>\n",
       "<tbody>\n",
       "\t<tr><th scope=row>12</th><td>NA</td><td>NA</td><td>1.5</td><td>2</td><td>NA</td><td>7</td><td>NA</td><td>7.5</td><td>10</td><td>6</td><td>6</td><td>9</td><td>6</td><td>8.5</td></tr>\n",
       "</tbody>\n",
       "</table>\n"
      ],
      "text/latex": [
       "\\begin{tabular}{r|llllllllllllll}\n",
       "  & Quiz.14..Total.Pts..10...667328 & Quiz.13..Total.Pts..10...667326 & Quiz.12..Total.Pts..10...598408 & Quiz.11..Total.Pts..10...598410 & Quiz.10..Total.Pts..10...598418 & Quiz.9..Total.Pts..10...598420 & Quiz.8..Total.Pts..10...598422 & Quiz.7..Total.Pts..10...598424 & Quiz.6..Total.Pts..10...598426 & Quiz.5..Total.Pts..10...598437 & Quiz.4..Total.Pts..10...598438 & Quiz.3..Total.Pts..10...598440 & Quiz.2..Total.Pts..10...598442 & Quiz.1..Total.Pts..10...598444\\\\\n",
       "\\hline\n",
       "\t12 & NA & NA & 1.5 & 2 & NA & 7 & NA & 7.5 & 10 & 6 & 6 & 9 & 6 & 8.5\\\\\n",
       "\\end{tabular}\n"
      ],
      "text/plain": [
       "   Quiz.14..Total.Pts..10...667328 Quiz.13..Total.Pts..10...667326\n",
       "12                              NA                              NA\n",
       "   Quiz.12..Total.Pts..10...598408 Quiz.11..Total.Pts..10...598410\n",
       "12                             1.5                               2\n",
       "   Quiz.10..Total.Pts..10...598418 Quiz.9..Total.Pts..10...598420\n",
       "12                              NA                              7\n",
       "   Quiz.8..Total.Pts..10...598422 Quiz.7..Total.Pts..10...598424\n",
       "12                             NA                            7.5\n",
       "   Quiz.6..Total.Pts..10...598426 Quiz.5..Total.Pts..10...598437\n",
       "12                             10                              6\n",
       "   Quiz.4..Total.Pts..10...598438 Quiz.3..Total.Pts..10...598440\n",
       "12                              6                              9\n",
       "   Quiz.2..Total.Pts..10...598442 Quiz.1..Total.Pts..10...598444\n",
       "12                              6                            8.5"
      ]
     },
     "execution_count": 17,
     "metadata": {},
     "output_type": "execute_result"
    }
   ],
   "source": [
    "quizzes"
   ]
  },
  {
   "cell_type": "code",
   "execution_count": 18,
   "metadata": {
    "collapsed": false
   },
   "outputs": [
    {
     "data": {
      "text/html": [
       "<table>\n",
       "<thead><tr><th></th><th scope=col>Hw.13..Total.Pts..10...667327</th><th scope=col>Hw12..Total.Pts..10...667325</th><th scope=col>Hw.11..Total.Pts..10...598409</th><th scope=col>Hw.10..Total.Pts..10...598411</th><th scope=col>HW.9..Total.Pts..10...598419</th><th scope=col>Hw.8..Total.Pts..10...598421</th><th scope=col>Hw.7..Total.Pts..10...598423</th><th scope=col>Hw.6..Total.Pts..10...598425</th><th scope=col>Hw.5..Total.Pts..10...598427</th><th scope=col>Hw.4..Total.Pts..10...598439</th><th scope=col>Hw.3..Total.Pts..10...598441</th><th scope=col>Hw.2..Total.Pts..10...598443</th><th scope=col>HW.1..Total.Pts..10...598445</th><th scope=col>HW.0..Total.Pts..10...598446</th></tr></thead>\n",
       "<tbody>\n",
       "\t<tr><th scope=row>12</th><td>NA</td><td>NA</td><td>2</td><td>9</td><td>NA</td><td>NA</td><td>NA</td><td>7.5</td><td>10</td><td>6</td><td>8.5</td><td>8</td><td>9</td><td>10</td></tr>\n",
       "</tbody>\n",
       "</table>\n"
      ],
      "text/latex": [
       "\\begin{tabular}{r|llllllllllllll}\n",
       "  & Hw.13..Total.Pts..10...667327 & Hw12..Total.Pts..10...667325 & Hw.11..Total.Pts..10...598409 & Hw.10..Total.Pts..10...598411 & HW.9..Total.Pts..10...598419 & Hw.8..Total.Pts..10...598421 & Hw.7..Total.Pts..10...598423 & Hw.6..Total.Pts..10...598425 & Hw.5..Total.Pts..10...598427 & Hw.4..Total.Pts..10...598439 & Hw.3..Total.Pts..10...598441 & Hw.2..Total.Pts..10...598443 & HW.1..Total.Pts..10...598445 & HW.0..Total.Pts..10...598446\\\\\n",
       "\\hline\n",
       "\t12 & NA & NA & 2 & 9 & NA & NA & NA & 7.5 & 10 & 6 & 8.5 & 8 & 9 & 10\\\\\n",
       "\\end{tabular}\n"
      ],
      "text/plain": [
       "   Hw.13..Total.Pts..10...667327 Hw12..Total.Pts..10...667325\n",
       "12                            NA                           NA\n",
       "   Hw.11..Total.Pts..10...598409 Hw.10..Total.Pts..10...598411\n",
       "12                             2                             9\n",
       "   HW.9..Total.Pts..10...598419 Hw.8..Total.Pts..10...598421\n",
       "12                           NA                           NA\n",
       "   Hw.7..Total.Pts..10...598423 Hw.6..Total.Pts..10...598425\n",
       "12                           NA                          7.5\n",
       "   Hw.5..Total.Pts..10...598427 Hw.4..Total.Pts..10...598439\n",
       "12                           10                            6\n",
       "   Hw.3..Total.Pts..10...598441 Hw.2..Total.Pts..10...598443\n",
       "12                          8.5                            8\n",
       "   HW.1..Total.Pts..10...598445 HW.0..Total.Pts..10...598446\n",
       "12                            9                           10"
      ]
     },
     "execution_count": 18,
     "metadata": {},
     "output_type": "execute_result"
    }
   ],
   "source": [
    "hw"
   ]
  },
  {
   "cell_type": "code",
   "execution_count": 21,
   "metadata": {
    "collapsed": false
   },
   "outputs": [
    {
     "data": {
      "text/html": [
       "<table>\n",
       "<thead><tr><th></th><th scope=col>Exam2.Total..Total.Pts..100...598417</th><th scope=col>Exam1.Raw..Total.Pts..100...598435</th></tr></thead>\n",
       "<tbody>\n",
       "\t<tr><th scope=row>12</th><td>61</td><td>63</td></tr>\n",
       "</tbody>\n",
       "</table>\n"
      ],
      "text/latex": [
       "\\begin{tabular}{r|ll}\n",
       "  & Exam2.Total..Total.Pts..100...598417 & Exam1.Raw..Total.Pts..100...598435\\\\\n",
       "\\hline\n",
       "\t12 & 61 & 63\\\\\n",
       "\\end{tabular}\n"
      ],
      "text/plain": [
       "   Exam2.Total..Total.Pts..100...598417 Exam1.Raw..Total.Pts..100...598435\n",
       "12                                   61                                 63"
      ]
     },
     "execution_count": 21,
     "metadata": {},
     "output_type": "execute_result"
    }
   ],
   "source": [
    "exams"
   ]
  },
  {
   "cell_type": "code",
   "execution_count": null,
   "metadata": {
    "collapsed": true
   },
   "outputs": [],
   "source": []
  }
 ],
 "metadata": {
  "kernelspec": {
   "display_name": "R",
   "language": "R",
   "name": "ir"
  },
  "language_info": {
   "codemirror_mode": "r",
   "file_extension": ".r",
   "mimetype": "text/x-r-source",
   "name": "R",
   "pygments_lexer": "r",
   "version": "3.2.2"
  }
 },
 "nbformat": 4,
 "nbformat_minor": 0
}
