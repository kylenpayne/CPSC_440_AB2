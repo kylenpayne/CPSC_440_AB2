{
 "cells": [
  {
   "cell_type": "markdown",
   "metadata": {},
   "source": [
    "## Two-Sample T-test\n",
    "\n",
    "### (From Longnecker, 2010):\n",
    "\n",
    "#### A pollution-control inspector suspected that a riverside community was releasing semi- treated sewage into a river and this, as a consequence, was changing the level of dissolved oxygen of the river. To check this, he drew 15 randomly selected specimens of river water at a location above the town and another 15 specimens below. The dissolved oxygen readings, in parts per million, are given in the accompanying table.\n",
    "\n",
    "\n"
   ]
  },
  {
   "cell_type": "code",
   "execution_count": 12,
   "metadata": {
    "collapsed": true
   },
   "outputs": [],
   "source": [
    "## you don't have to type this out, just run it\n",
    "data <- scan(text=\"\n",
    "5.2 4.8 5.1 5.0 4.9 4.8 5.0 4.7 4.7 5.0 4.7 5.1 5.0 4.9 4.9 \n",
    "4.2 4.4 4.7 4.9 4.6 4.8 4.9 4.6 5.1 4.3 5.5 4.7 4.9 4.8 4.7\n",
    "\")\n",
    "\n",
    "data <- matrix(data, ncol=2, nrow=15, byrow=F)\n",
    "data <- data.frame(data)\n",
    "colnames(data)<- c(\"above\", \"below\")"
   ]
  },
  {
   "cell_type": "code",
   "execution_count": 13,
   "metadata": {
    "collapsed": false
   },
   "outputs": [],
   "source": [
    "alpha <- 0.05\n",
    "t_test <- t.test(x=data$above, y=data$below, paired=F, \n",
    "                 var.equal=T, alternative=\"two.sided\", mu=0, conf.level=1-alpha)"
   ]
  },
  {
   "cell_type": "code",
   "execution_count": 14,
   "metadata": {
    "collapsed": false
   },
   "outputs": [
    {
     "data": {
      "text/plain": [
       "\n",
       "\tTwo Sample t-test\n",
       "\n",
       "data:  data$above and data$below\n",
       "t = 1.9551, df = 28, p-value = 0.06062\n",
       "alternative hypothesis: true difference in means is not equal to 0\n",
       "95 percent confidence interval:\n",
       " -0.00858912  0.36858912\n",
       "sample estimates:\n",
       "mean of x mean of y \n",
       "     4.92      4.74 \n"
      ]
     },
     "execution_count": 14,
     "metadata": {},
     "output_type": "execute_result"
    }
   ],
   "source": [
    "t_test"
   ]
  },
  {
   "cell_type": "markdown",
   "metadata": {},
   "source": [
    "#### a: Are the data paired?"
   ]
  },
  {
   "cell_type": "markdown",
   "metadata": {},
   "source": [
    "#### b: Given the output above, please give a confidence interval for the difference in the means of above and below water samples. "
   ]
  },
  {
   "cell_type": "markdown",
   "metadata": {},
   "source": [
    "#### c: Given the output above, what is the null hypothesis, alternative hypothesis, and conclusion to the hypothesis test?"
   ]
  },
  {
   "cell_type": "markdown",
   "metadata": {},
   "source": [
    "#### PCBs have been in use since 1929, mainly in the electrical industry, but it was not until the 1960s that they were found to be a major environmental contaminant. In the paper “The ratio of DDE to PCB concentrations in Great Lakes herring gull eggs and its use in interpreting contam- inants data” [appearing in the Journal of Great Lakes Research 24 (1): 12–31, 1998], researchers report on the following study. Thirteen study sites from the five Great Lakes were selected. At each site, 9 to 13 herring gull eggs were collected randomly each year for several years. Following collection, the PCB content was determined. The mean PCB content at each site is reported in the following table for the years 1982 and 1996."
   ]
  },
  {
   "cell_type": "code",
   "execution_count": 18,
   "metadata": {
    "collapsed": false
   },
   "outputs": [],
   "source": [
    "## you don't have to type this out, just run it\n",
    "\n",
    "sites <- scan(text=\"\n",
    "61.48 64.47 45.50 59.70 58.81 75.86 71.57 38.06 30.51 39.70 29.78 66.89 63.93 \n",
    "13.99 18.26 11.28 10.02 21.00 17.36 28.20 7.30 12.80 9.41 12.63 16.83 22.74\")\n",
    "\n",
    "sites <- matrix(sites, ncol=2, nrow=length(sites)/2, byrow=F)\n",
    "sites <- data.frame(sites)\n",
    "colnames(sites) <- c(\"y_1982\", \"y_1996\")"
   ]
  },
  {
   "cell_type": "markdown",
   "metadata": {},
   "source": [
    "#### a. Legislation was passed in the 1970s restricting the production and use of PCBs. Thus, the active input of PCBs from current local sources has been severely curtailed. Do the data provide evidence that there has been a significant decrease in the mean PCB content of herring gull eggs?"
   ]
  },
  {
   "cell_type": "markdown",
   "metadata": {},
   "source": [
    "#### b.  Estimate the size of the decrease in mean PCB content from 1982 to 1996, using a 95% confidence interval."
   ]
  },
  {
   "cell_type": "markdown",
   "metadata": {},
   "source": [
    "#### c. Evaluate the conditions necessary to validly test hypotheses and construct confidence intervals using the collected data."
   ]
  },
  {
   "cell_type": "markdown",
   "metadata": {},
   "source": [
    "## Inference on variances\n",
    "\n",
    "#### a. Write out the formula for $S^2$.\n",
    "\n",
    "#### b. What is the distribution of $S^2$.\n",
    "\n",
    "#### Ready for an explaination why?\n",
    "\n",
    "\n",
    "For a set of independent standard normals $Z_i \\sim N(0,1), i=1,...,n$. Then $Z_i^2 \\sim \\chi^2_{df=1}$, by definition. It's just what we call the distribution of a single squared standard normal random variable. Then let's just add these up:\n",
    "\n",
    "\n",
    "$$\n",
    "\\sum_{i=1}^{n} Z_i^2 \\sim \\chi^2_{df=n}\n",
    "$$\n",
    "\n",
    "That is, if we have a bunch of standard normals that are independent, and we square them and sum them up, then we get a $\\chi^2_{df=n}$ with degrees of freedom $n$. \n",
    "\n",
    "Then for the sum in $S^2$, for each term:\n",
    "\n",
    "$$\n",
    "(y_i - \\bar{y})^2 = (y_i - \\mu + \\mu - \\bar{y})^2 = (y_i - \\mu)^2 + 2(y_i - \\mu)(\\mu - \\bar{y}) + (\\mu - \\bar{y})^2\n",
    "$$\n",
    "\n",
    "for all $i=1,...,n$\n",
    "\n",
    "Then for add in the sum:\n",
    "$$\n",
    "\\sum_{i=1}^{n}(y_i - \\bar{y})^2 = \\sum_{i=1}^{n}((y_i - \\mu)^2 + 2(y_i - \\mu)(\\mu - \\bar{y}) + (\\mu - \\bar{y})^2)\n",
    "$$\n",
    "$$\n",
    "\\Rightarrow \\sum_{i=1}^{n}(y_i - \\bar{y})^2 = \\sum_{i=1}^{n}((y_i - \\mu)^2) - 2n(\\mu - \\bar{y})^2 + n(\\mu - \\bar{y})^2\n",
    "$$\n",
    "\n",
    "$$\n",
    "\\Rightarrow \\sum_{i=1}^{n}(y_i - \\bar{y})^2 = \\sum_{i=1}^{n}((y_i - \\mu)^2) - n(\\mu - \\bar{y})^2\n",
    "$$\n",
    "Then let's divide this by $\\sigma_0$ for some $\\sigma_0$, the \n",
    "\n",
    "\n",
    "$$\n",
    "\\frac{\\sum_{i=1}^{n}(y_i - \\bar{y})^2}{\\sigma_0^2}= \\frac{\\sum_{i=1}^{n}((y_i - \\mu)^2)}{\\sigma_0^2} - \\frac{n(\\mu - \\bar{y})^2}{\\sigma_0^2}\n",
    "$$\n",
    "Which is the sum of $n$ many standard normals, minus 1 standard normal. Which ends up having the distribution $\\chi^2_{df=n-1}.$ Thus we have that\n",
    "\n",
    "$$\n",
    "\\frac{(n-1)S^2}{\\sigma_0^2} \\sim \\chi^2_{df=n-1}\n",
    "$$\n",
    "\n",
    "### General confidence interval for the population variance \n",
    "\n",
    "$$\n",
    "\\frac{(n-1)S^2}{\\chi^2_{df=n-1, \\alpha/2}} < \\sigma^2 < \\frac{(n-1)S^2}{\\chi^2_{df=n-1, 1-\\alpha/2}}  \n",
    "$$\n"
   ]
  },
  {
   "cell_type": "markdown",
   "metadata": {},
   "source": [
    "#### A packaging line fills nominal 32-ounce tomato juice jars with a quantity of juice having a normal distribution with a mean of 32.30 ounces. The process should have a standard deviation smaller than .15 ounces per jar. (A larger standard deviation leads to too many underfilled and overfilled jars.) A random sample of 50 jars is taken every hour to evaluate the process. The data suggest a $s = 0.135$\n",
    "\n",
    "#### Construct a 0.95 confidence interval for the population variance\n",
    "\n",
    "\n"
   ]
  },
  {
   "cell_type": "markdown",
   "metadata": {},
   "source": [
    "## Statistical Test for $\\sigma^2$.\n",
    "\n",
    "We know that \n",
    "\n",
    "$$\n",
    "\\frac{(n-1)S^2}{\\sigma^2} \\sim \\chi^2_{df=n-1}\n",
    "$$\n",
    "\n",
    "Thus, we can find the $\\chi^2_{df=n-1}$ distribution under a hypothesis that $\\sigma^2 = \\sigma_0^2$.\n",
    "\n",
    "#### a. How do we adjust  $\\frac{(n-1)S^2}{\\sigma^2} \\sim \\chi^2_{df=n-1}$ to make it the null distribution for the null hypothesis?\n",
    "\n",
    "$$\n",
    "H_0: \\sigma^2 = \\sigma^2_0\n",
    "$$\n",
    "\n",
    "\n",
    "\n",
    "#### New guidelines define persons as diabetic if results from their fasting plasma glucose test on two different days are 126 milligrams per deciliter (mg/dL) or higher. People who have a reading of between 110 and 125 are considered in danger of becoming diabetic as their ability to process glucose is impaired. These people should be tested more frequently and counseled about ways to lower their blood sugar level and reduce the risk of heart disease.\n",
    "#### Amid sweeping changes in U.S. health care, the trend toward cost-effective self-care products used in the home emphasizes prevention and early intervention. The home test kit market is offering faster and easier products that lend themselves to being used in less-sophisticated environments to meet consumers’ needs. A home blood sugar (glucose) test measures the level of glucose in your blood at the time of testing. The test can be done at home, or anywhere, using a small portable machine called a blood glucose meter. People who take insulin to control their diabetes may need to check their blood glucose level several times a day. Testing blood sugar at home is often called home blood sugar monitoring or self-testing.\n",
    "#### Home glucose meters are not usually as accurate as laboratory measurement. Problems arise from the machines not being properly maintained and, more importantly, when the persons conducting the tests are the patients themselves, who may be quite elderly and in poor health. In order to evaluate the variability in readings from such devices, blood samples with a glucose level of 200 mg/dL are given to 20 diabetic patients to perform a self-test for glucose level. Trained technicians using the same self-test equipment obtain readings that have a standard deviation of 5 mg/dL. The manufacturer of the equipment claims that, with minimal instruction, anyone can obtain the same level of consistency in their measurements. The readings from the 20 diabetic patients are given below:\n",
    "\n",
    "\n",
    "## Use these data to determine whether there is sufficient evidence that the variability in readings from the diabetic patients is higher than the manufacturer’s claim. Use $\\alpha=0.05$\n",
    "\n",
    "#### a. Setup the Null and Alternative Hypotheses.\n",
    "#### b. Perform the other steps of the hypothesis test.\n",
    "#### c. What is your conclusion?"
   ]
  },
  {
   "cell_type": "code",
   "execution_count": 16,
   "metadata": {
    "collapsed": true
   },
   "outputs": [],
   "source": [
    "readings <- scan(text=\"\n",
    "203.1 184.5 206.8 211.0 218.3 174.2 193.2 201.9 199.9\n",
    "194.3 199.4 193.6 194.6 187.2 197.8 184.3 196.1 196.4 \n",
    "197.5 187.9\")"
   ]
  },
  {
   "cell_type": "markdown",
   "metadata": {},
   "source": [
    "## The following is a function that will calculate the test statistic for a set of data, and null variance."
   ]
  },
  {
   "cell_type": "code",
   "execution_count": 17,
   "metadata": {
    "collapsed": true
   },
   "outputs": [],
   "source": [
    "chi_sq_stat <- function(data, null_var){\n",
    "    n <- length(data)\n",
    "    return((n-1)*(var(data)/null_var))\n",
    "}"
   ]
  }
 ],
 "metadata": {
  "kernelspec": {
   "display_name": "R",
   "language": "R",
   "name": "ir"
  },
  "language_info": {
   "codemirror_mode": "r",
   "file_extension": ".r",
   "mimetype": "text/x-r-source",
   "name": "R",
   "pygments_lexer": "r",
   "version": "3.2.2"
  }
 },
 "nbformat": 4,
 "nbformat_minor": 0
}
