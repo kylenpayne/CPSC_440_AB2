{
 "cells": [
  {
   "cell_type": "markdown",
   "metadata": {},
   "source": [
    "# Comparing Two Population Variances\n",
    "\n",
    "#### We know how to test for the equality of $\\sigma^2 = \\sigma^2_0$ for any $\\sigma^2_0$. So, let's grab our test statistic for \n",
    "\n",
    "$$\n",
    "H_0: \\sigma^2 = \\sigma^2_0\n",
    "$$\n",
    "\n",
    "Then let's say that we have samples of two populations \n",
    "\n",
    "$$\n",
    "y_{11}, y_{21}, ... , y_{n_1, 1} \\sim N(\\mu_1, \\sigma_1^{2})\n",
    "$$\n",
    "\n",
    "and\n",
    "\n",
    "$$\n",
    "y_{12}, y_{22}, ... , y_{n_2, 2} \\sim N(\\mu_2, \\sigma_2^{2})\n",
    "$$\n",
    "\n",
    "Then for the first population and the null hypothesis $H_0: \\sigma_1^2 = \\sigma_0^2$:\n",
    "\n",
    "$$\n",
    "\\frac{(n_1-1)S_1^2}{\\sigma_0^2} \\sim \\chi^2_{df=n_1-1}\n",
    "$$\n",
    "\n",
    "and for the second population and same null hypothesis $H_0: \\sigma_2^2 = \\sigma_0^2$:\n",
    "we get \n",
    "\n",
    "$$\n",
    "\\frac{(n_2-1)S_2^2}{\\sigma_0^2} \\sim \\chi^2_{df=n_2-1}\n",
    "$$\n",
    "\n",
    "and thus we know the distributions of the two test statistics. We are essentially testing the null hypothesis \n",
    "$H_0: \\sigma_1^2 = \\sigma_2^2 = \\sigma_0^2$ then, right?\n",
    "\n",
    "So, it would be nice to have a convenient form to test this, so let's divide the first test statistic by the second test statistic.\n",
    "\n",
    "$$\n",
    "\\frac{\\frac{(n_1-1)S_1^2}{\\sigma_0^2}}{\\frac{(n_1-1)S_1^2}{\\sigma_0^2}} \\sim \\frac{\\chi^2_{df=n_1-1}}{\\chi^2_{df=n_2-1}}\n",
    "$$\n",
    "\n",
    "It's obvious that the $\\sigma_0^2$ cancel, and thus we end up with \n",
    "\n",
    "$$\n",
    "\\frac{(n_1-1)S_1^2}{(n_1-1)S_1^2} \\sim \\frac{\\chi^2_{df=n_1-1}}{\\chi^2_{df=n_2-1}}\n",
    "$$\n",
    "and finally, a nice property is that we can divide the number of degrees of freedom over...\n",
    "\n",
    "$$\n",
    "\\frac{S_1^2}{S_1^2} \\sim \\frac{\\chi^2_{df=n_1-1}/(n_1-1)}{\\chi^2_{df=n_2-1}/(n_2-1)}\n",
    "$$\n",
    "\n",
    "$$\n",
    "\\frac{\\chi^2_{df=n_1-1}/(n_1-1)}{\\chi^2_{df=n_2-1}/(n_2-1)}\n",
    "$$ \n",
    "That is, the ratio of two $\\chi^2$ distributions divided by their corresponding degrees of freedom is called?\n",
    "\n",
    "#### Question 1"
   ]
  },
  {
   "cell_type": "code",
   "execution_count": null,
   "metadata": {
    "collapsed": true
   },
   "outputs": [],
   "source": []
  }
 ],
 "metadata": {
  "kernelspec": {
   "display_name": "R",
   "language": "R",
   "name": "ir"
  },
  "language_info": {
   "codemirror_mode": "r",
   "file_extension": ".r",
   "mimetype": "text/x-r-source",
   "name": "R",
   "pygments_lexer": "r",
   "version": "3.2.2"
  }
 },
 "nbformat": 4,
 "nbformat_minor": 0
}
