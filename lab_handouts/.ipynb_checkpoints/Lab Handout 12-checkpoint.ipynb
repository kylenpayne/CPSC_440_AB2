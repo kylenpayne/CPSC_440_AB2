{
 "cells": [
  {
   "cell_type": "markdown",
   "metadata": {},
   "source": [
    "Three way ANOVA\n",
    "\n",
    "$$\n",
    "Y_{ijkl} = \\mu + \\alpha_i + \\beta_j + \\gamma_k + (\\alpha\\beta)_{ij} + (\\alpha\\gamma)_{ik} + (\\beta\\gamma)_{jk} + (\\alpha\\beta\\gamma)_{ijk} +  \\epsilon_{ijkl}\n",
    "$$\n",
    "\n",
    "$$\n",
    "l = 1,...,n_{ijk}\n",
    "$$\n",
    "\n",
    "$$\n",
    "i = 1,....,a\n",
    "$$\n",
    "\n",
    "$$\n",
    "j = 1,...,b\n",
    "$$\n",
    "\n",
    "$$\n",
    "k=1,...,c\n",
    "$$\n",
    "\n",
    "####  What does each term in the model mean?\n",
    "####  How many parameters are in this model?"
   ]
  },
  {
   "cell_type": "markdown",
   "metadata": {},
   "source": [
    "## 2.1. Background and description of design\n",
    "\n",
    "\"The experiment conducted here was to test the effect certain factors such as refrigeration, stem length and water content have on the life of a rose. The outcome of such an experiment would prove to be extremely useful in the running of rose farms and florists.\n",
    "\n",
    "\"During the course of the experiment we jotted down the temperature for each day just in case we had to account for any particular pattern in the residual plots.\n",
    "\n",
    "\"One topic of particular interest was the length of time taken for the refrigerated roses to die. This took much longer than we anticipated, and due to time restrictions the roses had to be taken out of the refrigerator after 15 and a half days. By this time we knew in any case that there was an enormous difference between life in and out of refrigeration.\n",
    "\n",
    "\"Three factors, each consisting of two levels, are considered:\n",
    "\n",
    "1. Stem length, 15cm or 25cm\n",
    "\n",
    "2. Water content: tap water or tap water and citric acid (supposed to extend the life of cut flowers)\n",
    "\n",
    "3. Refrigerated or at room temperature.\n",
    "\n",
    "\"The experiment was replicated so that 16 responses were obtained, the response variable being time (in days) taken for the rose to die.\n",
    "\n",
    "\"In order to remove biases from our results, caution should be taken to be consistent while conducting the experiment. The following were considered important points.\n",
    "\n",
    "The roses tested should be identical. They should be the same size and colour, at the same stage of growth and picked at the same time from roughly the same area. We obtained our roses directly from the grower to enable us to be satisfied on this point.\n",
    "The vases chosen for the experiment should also be identical; same size, shape, texture and translucency. For this experiment, (brown) beer bottles were chosen.\n",
    "The water level in each vase should be the same. A water level of 1 inch from the top of the bottle was used.\n",
    "The solution of water and citric acid should be consistent throughout. To achieve this, the solution should be mixed in one large jug, then poured into the vases.\n",
    "The temperature each day should be noted. It may be needed if there is any dramatic drop or rise in temperature, that could have an effect on the results.\n",
    "When can the rose be termed 'dead'? The point of death chosen for this experiment is when one would consider disposal of the rose under normal circumstances.\n",
    "The roses were allocated randomly to the different treatments using a random number table.\n",
    "\"We expected the rose to last longer if the stem was shorter as the water would not have as far to travel; and there is a smaller probability of the rose dying if the rose was in a citric acid solution rather than water according to the advice of the rose farmer, and also if the rose was refrigerated, as we noted most florists and rose farms do try to keep their roses in a cold room.\"\n",
    "\n"
   ]
  },
  {
   "cell_type": "code",
   "execution_count": 1,
   "metadata": {
    "collapsed": false
   },
   "outputs": [
    {
     "data": {
      "text/html": [
       "<table>\n",
       "<thead><tr><th></th><th scope=col>days</th><th scope=col>citric</th><th scope=col>length</th><th scope=col>refrig</th></tr></thead>\n",
       "<tbody>\n",
       "\t<tr><th scope=row>1</th><td>6.5</td><td>1</td><td>2</td><td>2</td></tr>\n",
       "\t<tr><th scope=row>2</th><td>23</td><td>1</td><td>1</td><td>1</td></tr>\n",
       "\t<tr><th scope=row>3</th><td>11</td><td>1</td><td>1</td><td>2</td></tr>\n",
       "\t<tr><th scope=row>4</th><td>9.5</td><td>2</td><td>1</td><td>2</td></tr>\n",
       "\t<tr><th scope=row>5</th><td>9.5</td><td>2</td><td>1</td><td>2</td></tr>\n",
       "\t<tr><th scope=row>6</th><td>23.5</td><td>2</td><td>1</td><td>1</td></tr>\n",
       "\t<tr><th scope=row>7</th><td>24</td><td>1</td><td>2</td><td>1</td></tr>\n",
       "\t<tr><th scope=row>8</th><td>21.5</td><td>2</td><td>2</td><td>1</td></tr>\n",
       "\t<tr><th scope=row>9</th><td>10</td><td>2</td><td>2</td><td>2</td></tr>\n",
       "\t<tr><th scope=row>10</th><td>23.5</td><td>2</td><td>1</td><td>1</td></tr>\n",
       "\t<tr><th scope=row>11</th><td>11</td><td>1</td><td>1</td><td>2</td></tr>\n",
       "\t<tr><th scope=row>12</th><td>9</td><td>1</td><td>2</td><td>2</td></tr>\n",
       "\t<tr><th scope=row>13</th><td>22</td><td>1</td><td>2</td><td>1</td></tr>\n",
       "\t<tr><th scope=row>14</th><td>24</td><td>1</td><td>1</td><td>1</td></tr>\n",
       "\t<tr><th scope=row>15</th><td>21.5</td><td>2</td><td>2</td><td>1</td></tr>\n",
       "\t<tr><th scope=row>16</th><td>8</td><td>2</td><td>2</td><td>2</td></tr>\n",
       "</tbody>\n",
       "</table>\n"
      ],
      "text/latex": [
       "\\begin{tabular}{r|llll}\n",
       "  & days & citric & length & refrig\\\\\n",
       "\\hline\n",
       "\t1 & 6.5 & 1 & 2 & 2\\\\\n",
       "\t2 & 23 & 1 & 1 & 1\\\\\n",
       "\t3 & 11 & 1 & 1 & 2\\\\\n",
       "\t4 & 9.5 & 2 & 1 & 2\\\\\n",
       "\t5 & 9.5 & 2 & 1 & 2\\\\\n",
       "\t6 & 23.5 & 2 & 1 & 1\\\\\n",
       "\t7 & 24 & 1 & 2 & 1\\\\\n",
       "\t8 & 21.5 & 2 & 2 & 1\\\\\n",
       "\t9 & 10 & 2 & 2 & 2\\\\\n",
       "\t10 & 23.5 & 2 & 1 & 1\\\\\n",
       "\t11 & 11 & 1 & 1 & 2\\\\\n",
       "\t12 & 9 & 1 & 2 & 2\\\\\n",
       "\t13 & 22 & 1 & 2 & 1\\\\\n",
       "\t14 & 24 & 1 & 1 & 1\\\\\n",
       "\t15 & 21.5 & 2 & 2 & 1\\\\\n",
       "\t16 & 8 & 2 & 2 & 2\\\\\n",
       "\\end{tabular}\n"
      ],
      "text/plain": [
       "   days citric length refrig\n",
       "1   6.5      1      2      2\n",
       "2  23.0      1      1      1\n",
       "3  11.0      1      1      2\n",
       "4   9.5      2      1      2\n",
       "5   9.5      2      1      2\n",
       "6  23.5      2      1      1\n",
       "7  24.0      1      2      1\n",
       "8  21.5      2      2      1\n",
       "9  10.0      2      2      2\n",
       "10 23.5      2      1      1\n",
       "11 11.0      1      1      2\n",
       "12  9.0      1      2      2\n",
       "13 22.0      1      2      1\n",
       "14 24.0      1      1      1\n",
       "15 21.5      2      2      1\n",
       "16  8.0      2      2      2"
      ]
     },
     "execution_count": 1,
     "metadata": {},
     "output_type": "execute_result"
    }
   ],
   "source": [
    "data <- matrix(scan(text=\"\n",
    " 6.5       1       2       2\n",
    "23.0       1       1       1\n",
    "11.0       1       1       2\n",
    " 9.5       2       1       2\n",
    " 9.5       2       1       2\n",
    "23.5       2       1       1\n",
    "24.0       1       2       1\n",
    "21.5       2       2       1\n",
    "10.0       2       2       2\n",
    "23.5       2       1       1\n",
    "11.0       1       1       2\n",
    " 9.0       1       2       2\n",
    "22.0       1       2       1\n",
    "24.0       1       1       1\n",
    "21.5       2       2       1\n",
    " 8.0       2       2       2\n",
    "\"), ncol=4, nrow=16, byrow=T)\n",
    "\n",
    "colnames(data)<- c(\"days\",\"citric\",\"length\",\"refrig\")\n",
    "\n",
    "data <- data.frame(data)\n",
    "data"
   ]
  },
  {
   "cell_type": "code",
   "execution_count": 2,
   "metadata": {
    "collapsed": false
   },
   "outputs": [],
   "source": [
    "## install.packages('lsmeans', repos='http://cran.us.r-project.org')\n",
    "## install.packages('broom', repos='http://cran.us.r-project.org')"
   ]
  },
  {
   "cell_type": "code",
   "execution_count": 3,
   "metadata": {
    "collapsed": false
   },
   "outputs": [],
   "source": [
    "data$citric <- factor(data$citric)\n",
    "data$length <- factor(data$length)\n",
    "data$refrig <- factor(data$refrig)\n",
    "\n",
    "modl <- lm(days ~ citric*length*refrig,data=data)"
   ]
  },
  {
   "cell_type": "code",
   "execution_count": 4,
   "metadata": {
    "collapsed": false
   },
   "outputs": [
    {
     "name": "stderr",
     "output_type": "stream",
     "text": [
      "Loading required package: estimability\n"
     ]
    }
   ],
   "source": [
    "library(lsmeans)\n",
    "library(broom) ## just to make things look nicer, not necessary"
   ]
  },
  {
   "cell_type": "code",
   "execution_count": 12,
   "metadata": {
    "collapsed": false
   },
   "outputs": [
    {
     "data": {
      "text/html": [
       "<table>\n",
       "<thead><tr><th></th><th scope=col>.rownames</th><th scope=col>Estimate</th><th scope=col>Std..Error</th><th scope=col>t.value</th><th scope=col>Pr...t..</th></tr></thead>\n",
       "<tbody>\n",
       "\t<tr><th scope=row>1</th><td>(Intercept)</td><td>23.5</td><td>0.6903351</td><td>34.04144</td><td>6.058953e-10</td></tr>\n",
       "\t<tr><th scope=row>2</th><td>citric2</td><td>-2.609024e-15</td><td>0.9762812</td><td>-2.67241e-15</td><td>1</td></tr>\n",
       "\t<tr><th scope=row>3</th><td>length2</td><td>-0.5</td><td>0.9762812</td><td>-0.5121475</td><td>0.6223833</td></tr>\n",
       "\t<tr><th scope=row>4</th><td>refrig2</td><td>-12.5</td><td>0.9762812</td><td>-12.80369</td><td>1.306213e-06</td></tr>\n",
       "\t<tr><th scope=row>5</th><td>citric2:length2</td><td>-1.5</td><td>1.38067</td><td>-1.086429</td><td>0.3089371</td></tr>\n",
       "\t<tr><th scope=row>6</th><td>citric2:refrig2</td><td>-1.5</td><td>1.38067</td><td>-1.086429</td><td>0.3089371</td></tr>\n",
       "\t<tr><th scope=row>7</th><td>length2:refrig2</td><td>-2.75</td><td>1.38067</td><td>-1.991786</td><td>0.0815471</td></tr>\n",
       "\t<tr><th scope=row>8</th><td>citric2:length2:refrig2</td><td>4.25</td><td>1.952562</td><td>2.176627</td><td>0.0611833</td></tr>\n",
       "</tbody>\n",
       "</table>\n"
      ],
      "text/latex": [
       "\\begin{tabular}{r|lllll}\n",
       "  & .rownames & Estimate & Std..Error & t.value & Pr...t..\\\\\n",
       "\\hline\n",
       "\t1 & (Intercept) & 23.5 & 0.6903351 & 34.04144 & 6.058953e-10\\\\\n",
       "\t2 & citric2 & -2.609024e-15 & 0.9762812 & -2.67241e-15 & 1\\\\\n",
       "\t3 & length2 & -0.5 & 0.9762812 & -0.5121475 & 0.6223833\\\\\n",
       "\t4 & refrig2 & -12.5 & 0.9762812 & -12.80369 & 1.306213e-06\\\\\n",
       "\t5 & citric2:length2 & -1.5 & 1.38067 & -1.086429 & 0.3089371\\\\\n",
       "\t6 & citric2:refrig2 & -1.5 & 1.38067 & -1.086429 & 0.3089371\\\\\n",
       "\t7 & length2:refrig2 & -2.75 & 1.38067 & -1.991786 & 0.0815471\\\\\n",
       "\t8 & citric2:length2:refrig2 & 4.25 & 1.952562 & 2.176627 & 0.0611833\\\\\n",
       "\\end{tabular}\n"
      ],
      "text/plain": [
       "                .rownames      Estimate Std..Error       t.value     Pr...t..\n",
       "1             (Intercept)  2.350000e+01  0.6903351  3.404144e+01 6.058953e-10\n",
       "2                 citric2 -2.609024e-15  0.9762812 -2.672410e-15 1.000000e+00\n",
       "3                 length2 -5.000000e-01  0.9762812 -5.121475e-01 6.223833e-01\n",
       "4                 refrig2 -1.250000e+01  0.9762812 -1.280369e+01 1.306213e-06\n",
       "5         citric2:length2 -1.500000e+00  1.3806701 -1.086429e+00 3.089371e-01\n",
       "6         citric2:refrig2 -1.500000e+00  1.3806701 -1.086429e+00 3.089371e-01\n",
       "7         length2:refrig2 -2.750000e+00  1.3806701 -1.991786e+00 8.154710e-02\n",
       "8 citric2:length2:refrig2  4.250000e+00  1.9525624  2.176627e+00 6.118330e-02"
      ]
     },
     "execution_count": 12,
     "metadata": {},
     "output_type": "execute_result"
    }
   ],
   "source": [
    "modl_sum <- summary(modl)\n",
    "tidy(modl_sum$coefficients)"
   ]
  },
  {
   "cell_type": "code",
   "execution_count": 6,
   "metadata": {
    "collapsed": false
   },
   "outputs": [
    {
     "name": "stderr",
     "output_type": "stream",
     "text": [
      "NOTE: Results may be misleading due to involvement in interactions\n"
     ]
    },
    {
     "data": {
      "text/plain": [
       " length  lsmean        SE df lower.CL upper.CL\n",
       " 1      16.8750 0.3451675  8 16.07904 17.67096\n",
       " 2      15.3125 0.3451675  8 14.51654 16.10846\n",
       "\n",
       "Results are averaged over the levels of: citric, refrig \n",
       "Confidence level used: 0.95 "
      ]
     },
     "execution_count": 6,
     "metadata": {},
     "output_type": "execute_result"
    }
   ],
   "source": [
    "lsmeans(modl,\"length\")"
   ]
  },
  {
   "cell_type": "code",
   "execution_count": 7,
   "metadata": {
    "collapsed": false
   },
   "outputs": [
    {
     "name": "stderr",
     "output_type": "stream",
     "text": [
      "NOTE: Results may be misleading due to involvement in interactions\n"
     ]
    },
    {
     "data": {
      "text/plain": [
       "length = 1:\n",
       " citric lsmean        SE df lower.CL upper.CL\n",
       " 1      17.250 0.4881406  8 16.12435 18.37565\n",
       " 2      16.500 0.4881406  8 15.37435 17.62565\n",
       "\n",
       "length = 2:\n",
       " citric lsmean        SE df lower.CL upper.CL\n",
       " 1      15.375 0.4881406  8 14.24935 16.50065\n",
       " 2      15.250 0.4881406  8 14.12435 16.37565\n",
       "\n",
       "Results are averaged over the levels of: refrig \n",
       "Confidence level used: 0.95 "
      ]
     },
     "execution_count": 7,
     "metadata": {},
     "output_type": "execute_result"
    }
   ],
   "source": [
    "lsmeans(modl, ~ citric | length)"
   ]
  },
  {
   "cell_type": "code",
   "execution_count": 17,
   "metadata": {
    "collapsed": false
   },
   "outputs": [
    {
     "name": "stderr",
     "output_type": "stream",
     "text": [
      "NOTE: Results may be misleading due to involvement in interactions\n"
     ]
    }
   ],
   "source": [
    "lsm<-lsmeans(modl, ~ citric| length)"
   ]
  },
  {
   "cell_type": "code",
   "execution_count": 18,
   "metadata": {
    "collapsed": false
   },
   "outputs": [
    {
     "data": {
      "image/png": "[encoded data removed]",
      "text/plain": [
       "plot without title"
      ]
     },
     "metadata": {
      "image/svg+xml": {
       "isolated": true
      }
     },
     "output_type": "display_data"
    }
   ],
   "source": [
    "plot(lsm)"
   ]
  },
  {
   "cell_type": "code",
   "execution_count": 19,
   "metadata": {
    "collapsed": false
   },
   "outputs": [
    {
     "data": {
      "text/plain": [
       "length = 1:\n",
       " contrast estimate        SE df t.ratio p.value\n",
       " 1 - 2       0.750 0.6903351  8   1.086  0.3089\n",
       "\n",
       "length = 2:\n",
       " contrast estimate        SE df t.ratio p.value\n",
       " 1 - 2       0.125 0.6903351  8   0.181  0.8608\n",
       "\n",
       "Results are averaged over the levels of: refrig "
      ]
     },
     "execution_count": 19,
     "metadata": {},
     "output_type": "execute_result"
    }
   ],
   "source": [
    "contrast(lsm, \"pairwise\")"
   ]
  },
  {
   "cell_type": "markdown",
   "metadata": {},
   "source": [
    "#### Calculate the Least Square Means for each level of citric by each level of refrig using either SAS or R lsmeans\n",
    "\n",
    "#### Calculate the pairwise comparisons for levels of citric by each level of refrig using either SAS or R lsmeans\n",
    "\n",
    "#### Perform an ANOVA F-test for the full 3-way ANOVA model and report your conclusion"
   ]
  },
  {
   "cell_type": "markdown",
   "metadata": {},
   "source": [
    "An experiment was set up to compare the effect of different soil pH and calcium additives on the increase in trunk diameters for orange trees. Annual applications of elemental sulfur, gyp- sum, soda ash, and other ingredients were applied to provide pH value levels of 4, 5, 6, and 7. Three levels of a calcium supplement (100, 200, and 300 pounds per acre) were also applied. All factor–level combinations of these two variables were used in the experiment. At the end of a 2-year period, three diameters were examined at each factor–level combination. The data appear next."
   ]
  },
  {
   "cell_type": "code",
   "execution_count": 27,
   "metadata": {
    "collapsed": false
   },
   "outputs": [
    {
     "data": {
      "text/html": [
       "<table>\n",
       "<thead><tr><th></th><th scope=col>X.Diameters.</th><th scope=col>X.Calcium.</th><th scope=col>X.pH.Value.</th><th scope=col>X.Ca100.</th></tr></thead>\n",
       "<tbody>\n",
       "\t<tr><th scope=row>1</th><td>5.2</td><td>100</td><td>4</td><td>NA</td></tr>\n",
       "\t<tr><th scope=row>2</th><td>5.9</td><td>100</td><td>4</td><td>NA</td></tr>\n",
       "\t<tr><th scope=row>3</th><td>6.3</td><td>100</td><td>4</td><td>NA</td></tr>\n",
       "\t<tr><th scope=row>4</th><td>7.1</td><td>100</td><td>5</td><td>NA</td></tr>\n",
       "\t<tr><th scope=row>5</th><td>7.4</td><td>100</td><td>5</td><td>NA</td></tr>\n",
       "\t<tr><th scope=row>6</th><td>7.5</td><td>100</td><td>5</td><td>NA</td></tr>\n",
       "\t<tr><th scope=row>7</th><td>7.6</td><td>100</td><td>6</td><td>NA</td></tr>\n",
       "\t<tr><th scope=row>8</th><td>7.2</td><td>100</td><td>6</td><td>NA</td></tr>\n",
       "\t<tr><th scope=row>9</th><td>7.4</td><td>100</td><td>6</td><td>NA</td></tr>\n",
       "\t<tr><th scope=row>10</th><td>7.2</td><td>100</td><td>7</td><td>NA</td></tr>\n",
       "\t<tr><th scope=row>11</th><td>7.5</td><td>100</td><td>7</td><td>NA</td></tr>\n",
       "\t<tr><th scope=row>12</th><td>7.2</td><td>100</td><td>7</td><td>NA</td></tr>\n",
       "\t<tr><th scope=row>13</th><td>7.4</td><td>200</td><td>4</td><td>NA</td></tr>\n",
       "\t<tr><th scope=row>14</th><td>7</td><td>200</td><td>4</td><td>NA</td></tr>\n",
       "\t<tr><th scope=row>15</th><td>7.6</td><td>200</td><td>4</td><td>NA</td></tr>\n",
       "\t<tr><th scope=row>16</th><td>7.4</td><td>200</td><td>5</td><td>NA</td></tr>\n",
       "\t<tr><th scope=row>17</th><td>7.3</td><td>200</td><td>5</td><td>NA</td></tr>\n",
       "\t<tr><th scope=row>18</th><td>7.1</td><td>200</td><td>5</td><td>NA</td></tr>\n",
       "\t<tr><th scope=row>19</th><td>7.6</td><td>200</td><td>6</td><td>NA</td></tr>\n",
       "\t<tr><th scope=row>20</th><td>7.5</td><td>200</td><td>6</td><td>NA</td></tr>\n",
       "\t<tr><th scope=row>21</th><td>7.8</td><td>200</td><td>6</td><td>NA</td></tr>\n",
       "\t<tr><th scope=row>22</th><td>7.4</td><td>200</td><td>7</td><td>NA</td></tr>\n",
       "\t<tr><th scope=row>23</th><td>7</td><td>200</td><td>7</td><td>NA</td></tr>\n",
       "\t<tr><th scope=row>24</th><td>6.9</td><td>200</td><td>7</td><td>NA</td></tr>\n",
       "\t<tr><th scope=row>25</th><td>6.3</td><td>300</td><td>4</td><td>NA</td></tr>\n",
       "\t<tr><th scope=row>26</th><td>6.7</td><td>300</td><td>4</td><td>NA</td></tr>\n",
       "\t<tr><th scope=row>27</th><td>6.1</td><td>300</td><td>4</td><td>NA</td></tr>\n",
       "\t<tr><th scope=row>28</th><td>7.3</td><td>300</td><td>5</td><td>NA</td></tr>\n",
       "\t<tr><th scope=row>29</th><td>7.5</td><td>300</td><td>5</td><td>NA</td></tr>\n",
       "\t<tr><th scope=row>30</th><td>7.2</td><td>300</td><td>5</td><td>NA</td></tr>\n",
       "\t<tr><th scope=row>31</th><td>7.2</td><td>300</td><td>6</td><td>NA</td></tr>\n",
       "\t<tr><th scope=row>32</th><td>7.3</td><td>300</td><td>6</td><td>NA</td></tr>\n",
       "\t<tr><th scope=row>33</th><td>7</td><td>300</td><td>6</td><td>NA</td></tr>\n",
       "\t<tr><th scope=row>34</th><td>6.8</td><td>300</td><td>7</td><td>NA</td></tr>\n",
       "\t<tr><th scope=row>35</th><td>6.6</td><td>300</td><td>7</td><td>NA</td></tr>\n",
       "\t<tr><th scope=row>36</th><td>6.4</td><td>300</td><td>7</td><td>NA</td></tr>\n",
       "</tbody>\n",
       "</table>\n"
      ],
      "text/latex": [
       "\\begin{tabular}{r|llll}\n",
       "  & X.Diameters. & X.Calcium. & X.pH.Value. & X.Ca100.\\\\\n",
       "\\hline\n",
       "\t1 & 5.2 & 100 & 4 & NA\\\\\n",
       "\t2 & 5.9 & 100 & 4 & NA\\\\\n",
       "\t3 & 6.3 & 100 & 4 & NA\\\\\n",
       "\t4 & 7.1 & 100 & 5 & NA\\\\\n",
       "\t5 & 7.4 & 100 & 5 & NA\\\\\n",
       "\t6 & 7.5 & 100 & 5 & NA\\\\\n",
       "\t7 & 7.6 & 100 & 6 & NA\\\\\n",
       "\t8 & 7.2 & 100 & 6 & NA\\\\\n",
       "\t9 & 7.4 & 100 & 6 & NA\\\\\n",
       "\t10 & 7.2 & 100 & 7 & NA\\\\\n",
       "\t11 & 7.5 & 100 & 7 & NA\\\\\n",
       "\t12 & 7.2 & 100 & 7 & NA\\\\\n",
       "\t13 & 7.4 & 200 & 4 & NA\\\\\n",
       "\t14 & 7 & 200 & 4 & NA\\\\\n",
       "\t15 & 7.6 & 200 & 4 & NA\\\\\n",
       "\t16 & 7.4 & 200 & 5 & NA\\\\\n",
       "\t17 & 7.3 & 200 & 5 & NA\\\\\n",
       "\t18 & 7.1 & 200 & 5 & NA\\\\\n",
       "\t19 & 7.6 & 200 & 6 & NA\\\\\n",
       "\t20 & 7.5 & 200 & 6 & NA\\\\\n",
       "\t21 & 7.8 & 200 & 6 & NA\\\\\n",
       "\t22 & 7.4 & 200 & 7 & NA\\\\\n",
       "\t23 & 7 & 200 & 7 & NA\\\\\n",
       "\t24 & 6.9 & 200 & 7 & NA\\\\\n",
       "\t25 & 6.3 & 300 & 4 & NA\\\\\n",
       "\t26 & 6.7 & 300 & 4 & NA\\\\\n",
       "\t27 & 6.1 & 300 & 4 & NA\\\\\n",
       "\t28 & 7.3 & 300 & 5 & NA\\\\\n",
       "\t29 & 7.5 & 300 & 5 & NA\\\\\n",
       "\t30 & 7.2 & 300 & 5 & NA\\\\\n",
       "\t31 & 7.2 & 300 & 6 & NA\\\\\n",
       "\t32 & 7.3 & 300 & 6 & NA\\\\\n",
       "\t33 & 7 & 300 & 6 & NA\\\\\n",
       "\t34 & 6.8 & 300 & 7 & NA\\\\\n",
       "\t35 & 6.6 & 300 & 7 & NA\\\\\n",
       "\t36 & 6.4 & 300 & 7 & NA\\\\\n",
       "\\end{tabular}\n"
      ],
      "text/plain": [
       "   X.Diameters. X.Calcium. X.pH.Value. X.Ca100.\n",
       "1           5.2        100           4       NA\n",
       "2           5.9        100           4       NA\n",
       "3           6.3        100           4       NA\n",
       "4           7.1        100           5       NA\n",
       "5           7.4        100           5       NA\n",
       "6           7.5        100           5       NA\n",
       "7           7.6        100           6       NA\n",
       "8           7.2        100           6       NA\n",
       "9           7.4        100           6       NA\n",
       "10          7.2        100           7       NA\n",
       "11          7.5        100           7       NA\n",
       "12          7.2        100           7       NA\n",
       "13          7.4        200           4       NA\n",
       "14          7.0        200           4       NA\n",
       "15          7.6        200           4       NA\n",
       "16          7.4        200           5       NA\n",
       "17          7.3        200           5       NA\n",
       "18          7.1        200           5       NA\n",
       "19          7.6        200           6       NA\n",
       "20          7.5        200           6       NA\n",
       "21          7.8        200           6       NA\n",
       "22          7.4        200           7       NA\n",
       "23          7.0        200           7       NA\n",
       "24          6.9        200           7       NA\n",
       "25          6.3        300           4       NA\n",
       "26          6.7        300           4       NA\n",
       "27          6.1        300           4       NA\n",
       "28          7.3        300           5       NA\n",
       "29          7.5        300           5       NA\n",
       "30          7.2        300           5       NA\n",
       "31          7.2        300           6       NA\n",
       "32          7.3        300           6       NA\n",
       "33          7.0        300           6       NA\n",
       "34          6.8        300           7       NA\n",
       "35          6.6        300           7       NA\n",
       "36          6.4        300           7       NA"
      ]
     },
     "execution_count": 27,
     "metadata": {},
     "output_type": "execute_result"
    }
   ],
   "source": [
    "data2 <- read.csv(\"../ASCII-comma/CH14/ex14-23.TXT\", header=T)\n",
    "data2"
   ]
  },
  {
   "cell_type": "code",
   "execution_count": 25,
   "metadata": {
    "collapsed": false
   },
   "outputs": [],
   "source": [
    "colnames(data2)<-c(\"diameters\",\"calcium\",\"ph\", \"ca100\")\n",
    "data2$calcium <- factor(data2$calcium)\n",
    "data2$ph <- factor(data2$ph)\n",
    "data2$ca100 <- factor(data2$ca100)"
   ]
  },
  {
   "cell_type": "markdown",
   "metadata": {},
   "source": [
    "#### Write an appropriate statistical model.\n",
    "#### Perform an analysis of variance and identify the experimental design. Use $\\alpha=0.05$\n",
    "#### Calculate evey pairwise comparison for calcium levels for each level of ph\n",
    "#### Calculate the least square means for the ph levels."
   ]
  },
  {
   "cell_type": "markdown",
   "metadata": {},
   "source": [
    "A manufacturer whose daily supply of raw materials is variable and limited can use the material to produce two different products in various proportions. The profit per unit of raw ma- terial obtained by producing each of the two products depends on the length of a product’s man- ufacturing run and hence on the amount of raw material assigned to it. Other factors—such as worker productivity, machine breakdown, and so on—can affect the profit per unit as well, but their net effect on profit is random and uncontrollable. The manufacturer has conducted an ex- periment to investigate the effect of the level of supply of raw material, S, and the ratio of its as- signment, R, to the two product manufacturing lines on the profit per unit of raw material. The ultimate goal was to be able to choose the best ratio R to match each day’s supply of raw materi- als, S. The levels of supply of the raw material chosen for the experiment were 15, 18, and 21 tons. The levels of the ratio of allocation to the two product lines were 1/2, 1, and 2. The response was the profit (in cents) per unit of raw material supply obtained from a single day’s production. Three replications of each combination were conducted in a random sequence. The data for the 27 days are shown in the following table.\n",
    "￼"
   ]
  },
  {
   "cell_type": "code",
   "execution_count": 29,
   "metadata": {
    "collapsed": true
   },
   "outputs": [],
   "source": [
    "data3 <- read.csv('../ASCII-comma/CH14/ex14-35.TXT', header=T)"
   ]
  },
  {
   "cell_type": "code",
   "execution_count": 31,
   "metadata": {
    "collapsed": false
   },
   "outputs": [],
   "source": [
    "colnames(data3) <-c(\"profit\", \"raw_material\", \"ratio\")"
   ]
  },
  {
   "cell_type": "markdown",
   "metadata": {},
   "source": [
    "#### Identify the two best combinations of R and S. Are these two combinations significantly different? Use a procedure that limits the error rate of all pairwise compar- isons of combinations to be no more than 0.05."
   ]
  },
  {
   "cell_type": "code",
   "execution_count": null,
   "metadata": {
    "collapsed": true
   },
   "outputs": [],
   "source": []
  }
 ],
 "metadata": {
  "kernelspec": {
   "display_name": "R",
   "language": "R",
   "name": "ir"
  },
  "language_info": {
   "codemirror_mode": "r",
   "file_extension": ".r",
   "mimetype": "text/x-r-source",
   "name": "R",
   "pygments_lexer": "r",
   "version": "3.2.2"
  }
 },
 "nbformat": 4,
 "nbformat_minor": 0
}
