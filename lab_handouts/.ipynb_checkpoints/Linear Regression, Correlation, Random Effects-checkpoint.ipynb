{
 "cells": [
  {
   "cell_type": "markdown",
   "metadata": {},
   "source": [
    "\n",
    "#### In this example, an insurance adjuster wanted to know the degree to which the two garages were in agreement on their estimates of automobile repairs. The data given below are an estimate of the cost to repair fifteen cars from each of the two garages.\n"
   ]
  },
  {
   "cell_type": "code",
   "execution_count": 4,
   "metadata": {
    "collapsed": false
   },
   "outputs": [
    {
     "data": {
      "text/html": [
       "<table>\n",
       "<thead><tr><th></th><th scope=col>car</th><th scope=col>garage_1</th><th scope=col>garage_2</th></tr></thead>\n",
       "<tbody>\n",
       "\t<tr><th scope=row>1</th><td>1</td><td>17.6</td><td>17.3</td></tr>\n",
       "\t<tr><th scope=row>2</th><td>2</td><td>20.2</td><td>19.1</td></tr>\n",
       "\t<tr><th scope=row>3</th><td>3</td><td>19.5</td><td>18.4</td></tr>\n",
       "\t<tr><th scope=row>4</th><td>4</td><td>11.3</td><td>11.5</td></tr>\n",
       "\t<tr><th scope=row>5</th><td>5</td><td>13</td><td>12.7</td></tr>\n",
       "\t<tr><th scope=row>6</th><td>6</td><td>16.3</td><td>15.8</td></tr>\n",
       "\t<tr><th scope=row>7</th><td>7</td><td>15.3</td><td>14.9</td></tr>\n",
       "\t<tr><th scope=row>8</th><td>8</td><td>16.2</td><td>15.3</td></tr>\n",
       "\t<tr><th scope=row>9</th><td>9</td><td>12.2</td><td>12</td></tr>\n",
       "\t<tr><th scope=row>10</th><td>10</td><td>14.8</td><td>14.2</td></tr>\n",
       "\t<tr><th scope=row>11</th><td>11</td><td>21.3</td><td>21</td></tr>\n",
       "\t<tr><th scope=row>12</th><td>12</td><td>22.1</td><td>21</td></tr>\n",
       "\t<tr><th scope=row>13</th><td>13</td><td>16.9</td><td>16.1</td></tr>\n",
       "\t<tr><th scope=row>14</th><td>14</td><td>17.6</td><td>16.7</td></tr>\n",
       "\t<tr><th scope=row>15</th><td>15</td><td>18.4</td><td>17.5</td></tr>\n",
       "</tbody>\n",
       "</table>\n"
      ],
      "text/latex": [
       "\\begin{tabular}{r|lll}\n",
       "  & car & garage_1 & garage_2\\\\\n",
       "\\hline\n",
       "\t1 & 1 & 17.6 & 17.3\\\\\n",
       "\t2 & 2 & 20.2 & 19.1\\\\\n",
       "\t3 & 3 & 19.5 & 18.4\\\\\n",
       "\t4 & 4 & 11.3 & 11.5\\\\\n",
       "\t5 & 5 & 13 & 12.7\\\\\n",
       "\t6 & 6 & 16.3 & 15.8\\\\\n",
       "\t7 & 7 & 15.3 & 14.9\\\\\n",
       "\t8 & 8 & 16.2 & 15.3\\\\\n",
       "\t9 & 9 & 12.2 & 12\\\\\n",
       "\t10 & 10 & 14.8 & 14.2\\\\\n",
       "\t11 & 11 & 21.3 & 21\\\\\n",
       "\t12 & 12 & 22.1 & 21\\\\\n",
       "\t13 & 13 & 16.9 & 16.1\\\\\n",
       "\t14 & 14 & 17.6 & 16.7\\\\\n",
       "\t15 & 15 & 18.4 & 17.5\\\\\n",
       "\\end{tabular}\n"
      ],
      "text/plain": [
       "   car garage_1 garage_2\n",
       "1    1     17.6     17.3\n",
       "2    2     20.2     19.1\n",
       "3    3     19.5     18.4\n",
       "4    4     11.3     11.5\n",
       "5    5     13.0     12.7\n",
       "6    6     16.3     15.8\n",
       "7    7     15.3     14.9\n",
       "8    8     16.2     15.3\n",
       "9    9     12.2     12.0\n",
       "10  10     14.8     14.2\n",
       "11  11     21.3     21.0\n",
       "12  12     22.1     21.0\n",
       "13  13     16.9     16.1\n",
       "14  14     17.6     16.7\n",
       "15  15     18.4     17.5"
      ]
     },
     "execution_count": 4,
     "metadata": {},
     "output_type": "execute_result"
    }
   ],
   "source": [
    "data_pr1 <- read.csv('../../../Desktop/ex11-57.TXT', header=T)\n",
    "colnames(data_pr1) <- c(\"car\", \"garage_1\", \"garage_2\")\n",
    "data_pr1"
   ]
  },
  {
   "cell_type": "markdown",
   "metadata": {},
   "source": [
    "#### a. Compute the correlation between the estimates of car repairs from the two garages. \n",
    "\n",
    "#### b. Does the very large positive value for the correlation coefficient indicate that the two garages are providing nearly identical estimates for the repairs? If not, explain why this statement is wrong."
   ]
  },
  {
   "cell_type": "markdown",
   "metadata": {},
   "source": [
    "#### A chemist is interested in determining the weight loss y of a particular compound as a function of the amount of time the compound is exposed to the air. The data in the following table give the weight losses associated with n 􏱀= 12 settings of the independent variable, exposure time.\n",
    "\n",
    "####  a. Find the least-squares prediction equation for the model\n",
    "$$\n",
    "y_i = \\beta_0 + \\beta_1 x_{1i} + \\epsilon_{ij}\n",
    "$$\n",
    "\n",
    "#### b. Test \n",
    "$$\n",
    "H_0: \\beta_0 = 0\n",
    "$$\n",
    "\n",
    "and test\n",
    "$$\n",
    "H_A: \\beta_1 = 0\n",
    "$$\n",
    "\n",
    "using the t-test method\n",
    "\n",
    "#### c.  Identify the 95% confidence bands for $E(y)$ when $x_{n+1} = 4$.\n",
    "#### d. Identify the 95% prediction bands for $y=4, x=7$.\n",
    "#### e. Distinguish between the meaning of the confidence bands and prediction bands in the previous two parts."
   ]
  },
  {
   "cell_type": "code",
   "execution_count": 6,
   "metadata": {
    "collapsed": false
   },
   "outputs": [
    {
     "data": {
      "text/html": [
       "<table>\n",
       "<thead><tr><th></th><th scope=col>weight_loss</th><th scope=col>exposure_time</th></tr></thead>\n",
       "<tbody>\n",
       "\t<tr><th scope=row>1</th><td>4.3</td><td>4</td></tr>\n",
       "\t<tr><th scope=row>2</th><td>5.5</td><td>5</td></tr>\n",
       "\t<tr><th scope=row>3</th><td>6.8</td><td>6</td></tr>\n",
       "\t<tr><th scope=row>4</th><td>8</td><td>7</td></tr>\n",
       "\t<tr><th scope=row>5</th><td>4</td><td>4</td></tr>\n",
       "\t<tr><th scope=row>6</th><td>5.2</td><td>5</td></tr>\n",
       "\t<tr><th scope=row>7</th><td>6.6</td><td>6</td></tr>\n",
       "\t<tr><th scope=row>8</th><td>7.5</td><td>7</td></tr>\n",
       "\t<tr><th scope=row>9</th><td>2</td><td>4</td></tr>\n",
       "\t<tr><th scope=row>10</th><td>4</td><td>5</td></tr>\n",
       "\t<tr><th scope=row>11</th><td>5.7</td><td>6</td></tr>\n",
       "\t<tr><th scope=row>12</th><td>6.5</td><td>1</td></tr>\n",
       "</tbody>\n",
       "</table>\n"
      ],
      "text/latex": [
       "\\begin{tabular}{r|ll}\n",
       "  & weight_loss & exposure_time\\\\\n",
       "\\hline\n",
       "\t1 & 4.3 & 4\\\\\n",
       "\t2 & 5.5 & 5\\\\\n",
       "\t3 & 6.8 & 6\\\\\n",
       "\t4 & 8 & 7\\\\\n",
       "\t5 & 4 & 4\\\\\n",
       "\t6 & 5.2 & 5\\\\\n",
       "\t7 & 6.6 & 6\\\\\n",
       "\t8 & 7.5 & 7\\\\\n",
       "\t9 & 2 & 4\\\\\n",
       "\t10 & 4 & 5\\\\\n",
       "\t11 & 5.7 & 6\\\\\n",
       "\t12 & 6.5 & 1\\\\\n",
       "\\end{tabular}\n"
      ],
      "text/plain": [
       "   weight_loss exposure_time\n",
       "1          4.3             4\n",
       "2          5.5             5\n",
       "3          6.8             6\n",
       "4          8.0             7\n",
       "5          4.0             4\n",
       "6          5.2             5\n",
       "7          6.6             6\n",
       "8          7.5             7\n",
       "9          2.0             4\n",
       "10         4.0             5\n",
       "11         5.7             6\n",
       "12         6.5             1"
      ]
     },
     "execution_count": 6,
     "metadata": {},
     "output_type": "execute_result"
    }
   ],
   "source": [
    "data_pr2 <- read.csv('../../ex11-35.TXT', header=T)\n",
    "colnames(data_pr2)<- c('weight_loss', 'exposure_time')\n",
    "data_pr2"
   ]
  },
  {
   "cell_type": "markdown",
   "metadata": {},
   "source": [
    "#### Let's back up to the block model again.\n",
    "\n",
    "    An experiment was performed to compare methods for the production of penicillin. A total of T = 4 variants of the basic manufacturing process (treatments A, B, C, and D) were studied.\n",
    "    It was known that an important raw material, corn steep liquor, was quite variable. Blends of corn steep liquor sufficient for 4 runs could be made, allowing the experiments to run all T = 4 treatments within each block (blend of corn steep liquor). A total of 5 such blocks were used, for a total of 5 × 4 = 20 runs. The experimental units were the successive runs. As dictated by the design, the order in which the treatments were run was randomized within each block.\n",
    "\n",
    "What if the $5$ blends are not an exhaustive set of all of the possible blend levels, but rather a random sample of each blend type. Then the inclusion of the blend levels would likely have some effect on the overall variability of the response.\n",
    "\n",
    "$$\n",
    "Y_{ij} = \\mu + \\tau_i + \\beta_j + \\epsilon_{ij}\n",
    "$$\n",
    "\n",
    "$$\n",
    "\\epsilon_{ij} \\sim N(0, \\sigma^2)\n",
    "$$\n",
    "\n",
    "$$\n",
    "\\beta_j \\sim N(0, \\sigma^2_B)\n",
    "$$\n",
    "\n",
    "Then \n",
    "$$\n",
    "Var(Y_{ij}) = Var(Y_{ij} - \\mu - \\tau_i) = Var(\\beta_j + \\epsilon_{ij}) = \\sigma^2_B + \\sigma^2_{\\epsilon} = V\n",
    "$$\n",
    "\n",
    "$$\n",
    "\\sigma^2_B = \\text{ Variation in the response due to varying levels of } \\beta_j\n",
    "$$"
   ]
  },
  {
   "cell_type": "code",
   "execution_count": 7,
   "metadata": {
    "collapsed": true
   },
   "outputs": [],
   "source": [
    "library(faraway)\n",
    "data(penicillin)"
   ]
  },
  {
   "cell_type": "code",
   "execution_count": 8,
   "metadata": {
    "collapsed": false
   },
   "outputs": [
    {
     "data": {
      "text/html": [
       "<table>\n",
       "<thead><tr><th></th><th scope=col>treat</th><th scope=col>blend</th><th scope=col>yield</th></tr></thead>\n",
       "<tbody>\n",
       "\t<tr><th scope=row>1</th><td>A</td><td>Blend1</td><td>89</td></tr>\n",
       "\t<tr><th scope=row>2</th><td>B</td><td>Blend1</td><td>88</td></tr>\n",
       "\t<tr><th scope=row>3</th><td>C</td><td>Blend1</td><td>97</td></tr>\n",
       "\t<tr><th scope=row>4</th><td>D</td><td>Blend1</td><td>94</td></tr>\n",
       "\t<tr><th scope=row>5</th><td>A</td><td>Blend2</td><td>84</td></tr>\n",
       "\t<tr><th scope=row>6</th><td>B</td><td>Blend2</td><td>77</td></tr>\n",
       "\t<tr><th scope=row>7</th><td>C</td><td>Blend2</td><td>92</td></tr>\n",
       "\t<tr><th scope=row>8</th><td>D</td><td>Blend2</td><td>79</td></tr>\n",
       "\t<tr><th scope=row>9</th><td>A</td><td>Blend3</td><td>81</td></tr>\n",
       "\t<tr><th scope=row>10</th><td>B</td><td>Blend3</td><td>87</td></tr>\n",
       "\t<tr><th scope=row>11</th><td>C</td><td>Blend3</td><td>87</td></tr>\n",
       "\t<tr><th scope=row>12</th><td>D</td><td>Blend3</td><td>85</td></tr>\n",
       "\t<tr><th scope=row>13</th><td>A</td><td>Blend4</td><td>87</td></tr>\n",
       "\t<tr><th scope=row>14</th><td>B</td><td>Blend4</td><td>92</td></tr>\n",
       "\t<tr><th scope=row>15</th><td>C</td><td>Blend4</td><td>89</td></tr>\n",
       "\t<tr><th scope=row>16</th><td>D</td><td>Blend4</td><td>84</td></tr>\n",
       "\t<tr><th scope=row>17</th><td>A</td><td>Blend5</td><td>79</td></tr>\n",
       "\t<tr><th scope=row>18</th><td>B</td><td>Blend5</td><td>81</td></tr>\n",
       "\t<tr><th scope=row>19</th><td>C</td><td>Blend5</td><td>80</td></tr>\n",
       "\t<tr><th scope=row>20</th><td>D</td><td>Blend5</td><td>88</td></tr>\n",
       "</tbody>\n",
       "</table>\n"
      ],
      "text/latex": [
       "\\begin{tabular}{r|lll}\n",
       "  & treat & blend & yield\\\\\n",
       "\\hline\n",
       "\t1 & A & Blend1 & 89\\\\\n",
       "\t2 & B & Blend1 & 88\\\\\n",
       "\t3 & C & Blend1 & 97\\\\\n",
       "\t4 & D & Blend1 & 94\\\\\n",
       "\t5 & A & Blend2 & 84\\\\\n",
       "\t6 & B & Blend2 & 77\\\\\n",
       "\t7 & C & Blend2 & 92\\\\\n",
       "\t8 & D & Blend2 & 79\\\\\n",
       "\t9 & A & Blend3 & 81\\\\\n",
       "\t10 & B & Blend3 & 87\\\\\n",
       "\t11 & C & Blend3 & 87\\\\\n",
       "\t12 & D & Blend3 & 85\\\\\n",
       "\t13 & A & Blend4 & 87\\\\\n",
       "\t14 & B & Blend4 & 92\\\\\n",
       "\t15 & C & Blend4 & 89\\\\\n",
       "\t16 & D & Blend4 & 84\\\\\n",
       "\t17 & A & Blend5 & 79\\\\\n",
       "\t18 & B & Blend5 & 81\\\\\n",
       "\t19 & C & Blend5 & 80\\\\\n",
       "\t20 & D & Blend5 & 88\\\\\n",
       "\\end{tabular}\n"
      ],
      "text/plain": [
       "   treat  blend yield\n",
       "1      A Blend1    89\n",
       "2      B Blend1    88\n",
       "3      C Blend1    97\n",
       "4      D Blend1    94\n",
       "5      A Blend2    84\n",
       "6      B Blend2    77\n",
       "7      C Blend2    92\n",
       "8      D Blend2    79\n",
       "9      A Blend3    81\n",
       "10     B Blend3    87\n",
       "11     C Blend3    87\n",
       "12     D Blend3    85\n",
       "13     A Blend4    87\n",
       "14     B Blend4    92\n",
       "15     C Blend4    89\n",
       "16     D Blend4    84\n",
       "17     A Blend5    79\n",
       "18     B Blend5    81\n",
       "19     C Blend5    80\n",
       "20     D Blend5    88"
      ]
     },
     "execution_count": 8,
     "metadata": {},
     "output_type": "execute_result"
    }
   ],
   "source": [
    "penicillin"
   ]
  },
  {
   "cell_type": "code",
   "execution_count": 12,
   "metadata": {
    "collapsed": false
   },
   "outputs": [],
   "source": [
    "rand_block_modl<-aov(yield~treat+Error(blend), data=penicillin)"
   ]
  },
  {
   "cell_type": "code",
   "execution_count": 13,
   "metadata": {
    "collapsed": false
   },
   "outputs": [
    {
     "data": {
      "text/plain": [
       "\n",
       "Error: blend\n",
       "          Df Sum Sq Mean Sq F value Pr(>F)\n",
       "Residuals  4    264      66               \n",
       "\n",
       "Error: Within\n",
       "          Df Sum Sq Mean Sq F value Pr(>F)\n",
       "treat      3     70   23.33   1.239  0.339\n",
       "Residuals 12    226   18.83               "
      ]
     },
     "execution_count": 13,
     "metadata": {},
     "output_type": "execute_result"
    }
   ],
   "source": [
    "summary(rand_block_modl)"
   ]
  },
  {
   "cell_type": "code",
   "execution_count": 15,
   "metadata": {
    "collapsed": false
   },
   "outputs": [
    {
     "data": {
      "text/html": [
       "<table>\n",
       "<thead><tr><th></th><th scope=col>Df</th><th scope=col>Sum Sq</th><th scope=col>Mean Sq</th><th scope=col>F value</th><th scope=col>Pr(>F)</th></tr></thead>\n",
       "<tbody>\n",
       "\t<tr><th scope=row>blend</th><td>4</td><td>264</td><td>66</td><td>3.504425</td><td>0.04074617</td></tr>\n",
       "\t<tr><th scope=row>treat</th><td>3</td><td>70</td><td>23.33333</td><td>1.238938</td><td>0.3386581</td></tr>\n",
       "\t<tr><th scope=row>Residuals</th><td>12</td><td>226</td><td>18.83333</td><td>NA</td><td>NA</td></tr>\n",
       "</tbody>\n",
       "</table>\n"
      ],
      "text/latex": [
       "\\begin{tabular}{r|lllll}\n",
       "  & Df & Sum Sq & Mean Sq & F value & Pr(>F)\\\\\n",
       "\\hline\n",
       "\tblend & 4 & 264 & 66 & 3.504425 & 0.04074617\\\\\n",
       "\ttreat & 3 & 70 & 23.33333 & 1.238938 & 0.3386581\\\\\n",
       "\tResiduals & 12 & 226 & 18.83333 & NA & NA\\\\\n",
       "\\end{tabular}\n"
      ],
      "text/plain": [
       "Analysis of Variance Table\n",
       "\n",
       "Response: yield\n",
       "          Df Sum Sq Mean Sq F value  Pr(>F)  \n",
       "blend      4    264  66.000  3.5044 0.04075 *\n",
       "treat      3     70  23.333  1.2389 0.33866  \n",
       "Residuals 12    226  18.833                  \n",
       "---\n",
       "Signif. codes:  0 ‘***’ 0.001 ‘**’ 0.01 ‘*’ 0.05 ‘.’ 0.1 ‘ ’ 1"
      ]
     },
     "execution_count": 15,
     "metadata": {},
     "output_type": "execute_result"
    }
   ],
   "source": [
    "penimod <- lm(yield ~ blend + treat, data=penicillin)\n",
    "anova(penimod)"
   ]
  },
  {
   "cell_type": "code",
   "execution_count": 16,
   "metadata": {
    "collapsed": false
   },
   "outputs": [
    {
     "name": "stderr",
     "output_type": "stream",
     "text": [
      "Loading required package: Matrix\n"
     ]
    }
   ],
   "source": [
    "library(lme4)"
   ]
  },
  {
   "cell_type": "code",
   "execution_count": 18,
   "metadata": {
    "collapsed": false
   },
   "outputs": [],
   "source": [
    "modl <- lmer(yield ~ treat + (1|blend), data=penicillin)"
   ]
  },
  {
   "cell_type": "code",
   "execution_count": 19,
   "metadata": {
    "collapsed": false,
    "scrolled": false
   },
   "outputs": [
    {
     "data": {
      "text/plain": [
       "Linear mixed model fit by REML ['lmerMod']\n",
       "Formula: yield ~ treat + (1 | blend)\n",
       "   Data: penicillin\n",
       "\n",
       "REML criterion at convergence: 103.8\n",
       "\n",
       "Scaled residuals: \n",
       "    Min      1Q  Median      3Q     Max \n",
       "-1.4152 -0.5017 -0.1644  0.6830  1.2836 \n",
       "\n",
       "Random effects:\n",
       " Groups   Name        Variance Std.Dev.\n",
       " blend    (Intercept) 11.79    3.434   \n",
       " Residual             18.83    4.340   \n",
       "Number of obs: 20, groups:  blend, 5\n",
       "\n",
       "Fixed effects:\n",
       "            Estimate Std. Error t value\n",
       "(Intercept)   84.000      2.475   33.94\n",
       "treatB         1.000      2.745    0.36\n",
       "treatC         5.000      2.745    1.82\n",
       "treatD         2.000      2.745    0.73\n",
       "\n",
       "Correlation of Fixed Effects:\n",
       "       (Intr) treatB treatC\n",
       "treatB -0.555              \n",
       "treatC -0.555  0.500       \n",
       "treatD -0.555  0.500  0.500"
      ]
     },
     "execution_count": 19,
     "metadata": {},
     "output_type": "execute_result"
    }
   ],
   "source": [
    "summary(modl)"
   ]
  },
  {
   "cell_type": "code",
   "execution_count": null,
   "metadata": {
    "collapsed": true
   },
   "outputs": [],
   "source": []
  }
 ],
 "metadata": {
  "kernelspec": {
   "display_name": "R",
   "language": "R",
   "name": "ir"
  },
  "language_info": {
   "codemirror_mode": "r",
   "file_extension": ".r",
   "mimetype": "text/x-r-source",
   "name": "R",
   "pygments_lexer": "r",
   "version": "3.2.2"
  }
 },
 "nbformat": 4,
 "nbformat_minor": 0
}
