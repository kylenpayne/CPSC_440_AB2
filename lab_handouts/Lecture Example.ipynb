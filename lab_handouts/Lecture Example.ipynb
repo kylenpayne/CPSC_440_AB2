{
 "cells": [
  {
   "cell_type": "markdown",
   "metadata": {},
   "source": [
    "#### Researchers from the Department of Fruit Crops at a university compared four different preservatives to be used in freezing strawberries. The researchers prepared the yield from a strawberry patch for freezing and randomly divided it into four equal groups. Within each group they treated the strawberries with the appropriate preservative and packaged them into eight small plas- tic bags for freezing at 0°C. The bags in group I served as a control group, while those in groups II, III, and IV were assigned one of three newly developed preservatives. After all 32 bags of straw- berries were prepared, they were stored at 0°C for a period of 6 months. At the end of this time, the contents of each bag were allowed to thaw and then rated on a scale of 1 to 10 points for discol- oration. (Note that a low score indicates little discoloration.) The ratings are given in the following data.frame:"
   ]
  },
  {
   "cell_type": "code",
   "execution_count": 1,
   "metadata": {
    "collapsed": false
   },
   "outputs": [],
   "source": [
    "library(reshape2)\n",
    "\n",
    "## just copy and paste, no need to type all this out.\n",
    "data <- matrix(scan(text=\"\n",
    "10 8 7.5 8 9.5 9 7.5 7 \n",
    "6 7.5 8 7 6.5 6 5 5.5 \n",
    "3 5.5 4 4.5 3 3.5 4 4.5 \n",
    "2 1 2.5 3 4 3.5 2 2\"\n",
    "),ncol=4,nrow=8,byrow=F)\n",
    "\n",
    "colnames(data)<-c(\"gr1\",\"gr2\",\"gr3\",\"gr4\")\n",
    "data_m <- melt(data)\n",
    "data_m <- data_m[2:3]\n",
    "colnames(data_m)<-c(\"group\", \"score\")"
   ]
  },
  {
   "cell_type": "code",
   "execution_count": 12,
   "metadata": {
    "collapsed": false
   },
   "outputs": [
    {
     "name": "stderr",
     "output_type": "stream",
     "text": [
      "also installing the dependencies ‘mvtnorm’, ‘TH.data’, ‘sandwich’\n",
      "\n",
      "Warning message:\n",
      "In install.packages(\"multcomp\", repos = \"http://cran.us.r-project.org\"): installation of package ‘mvtnorm’ had non-zero exit statusWarning message:\n",
      "In install.packages(\"multcomp\", repos = \"http://cran.us.r-project.org\"): installation of package ‘multcomp’ had non-zero exit status"
     ]
    },
    {
     "name": "stdout",
     "output_type": "stream",
     "text": [
      "\n",
      "The downloaded source packages are in\n",
      "\t‘/private/var/folders/44/z41l8sf111x6k2bjrjbdjhl80000gn/T/Rtmp4e5fgM/downloaded_packages’\n"
     ]
    },
    {
     "name": "stderr",
     "output_type": "stream",
     "text": [
      "Updating HTML index of packages in '.Library'\n",
      "Making 'packages.html' ... done\n"
     ]
    }
   ],
   "source": [
    "install.packages(\"multcomp\", repos='http://cran.us.r-project.org')\n",
    "\n",
    "modl<-lm(score ~ 0 + group, data=data_m)"
   ]
  },
  {
   "cell_type": "code",
   "execution_count": 9,
   "metadata": {
    "collapsed": false
   },
   "outputs": [
    {
     "data": {
      "text/html": [
       "<table>\n",
       "<thead><tr><th></th><th scope=col>Df</th><th scope=col>Sum Sq</th><th scope=col>Mean Sq</th><th scope=col>F value</th><th scope=col>Pr(>F)</th></tr></thead>\n",
       "<tbody>\n",
       "\t<tr><th scope=row>group</th><td>4</td><td>1062.312</td><td>265.5781</td><td>278.6393</td><td>4.130119e-22</td></tr>\n",
       "\t<tr><th scope=row>Residuals</th><td>28</td><td>26.6875</td><td>0.953125</td><td>NA</td><td>NA</td></tr>\n",
       "</tbody>\n",
       "</table>\n"
      ],
      "text/latex": [
       "\\begin{tabular}{r|lllll}\n",
       "  & Df & Sum Sq & Mean Sq & F value & Pr(>F)\\\\\n",
       "\\hline\n",
       "\tgroup & 4 & 1062.312 & 265.5781 & 278.6393 & 4.130119e-22\\\\\n",
       "\tResiduals & 28 & 26.6875 & 0.953125 & NA & NA\\\\\n",
       "\\end{tabular}\n"
      ],
      "text/plain": [
       "Analysis of Variance Table\n",
       "\n",
       "Response: score\n",
       "          Df  Sum Sq Mean Sq F value    Pr(>F)    \n",
       "group      4 1062.31 265.578  278.64 < 2.2e-16 ***\n",
       "Residuals 28   26.69   0.953                      \n",
       "---\n",
       "Signif. codes:  0 ‘***’ 0.001 ‘**’ 0.01 ‘*’ 0.05 ‘.’ 0.1 ‘ ’ 1"
      ]
     },
     "execution_count": 9,
     "metadata": {},
     "output_type": "execute_result"
    }
   ],
   "source": [
    "anova(modl)"
   ]
  },
  {
   "cell_type": "code",
   "execution_count": 10,
   "metadata": {
    "collapsed": false
   },
   "outputs": [
    {
     "data": {
      "text/plain": [
       "\n",
       "Call:\n",
       "lm(formula = score ~ 0 + group, data = data_m)\n",
       "\n",
       "Residuals:\n",
       "    Min      1Q  Median      3Q     Max \n",
       "-1.5000 -0.5781 -0.1562  0.5938  1.6875 \n",
       "\n",
       "Coefficients:\n",
       "         Estimate Std. Error t value Pr(>|t|)    \n",
       "groupgr1   8.3125     0.3452  24.083  < 2e-16 ***\n",
       "groupgr2   6.4375     0.3452  18.650  < 2e-16 ***\n",
       "groupgr3   4.0000     0.3452  11.589 3.38e-12 ***\n",
       "groupgr4   2.5000     0.3452   7.243 6.95e-08 ***\n",
       "---\n",
       "Signif. codes:  0 ‘***’ 0.001 ‘**’ 0.01 ‘*’ 0.05 ‘.’ 0.1 ‘ ’ 1\n",
       "\n",
       "Residual standard error: 0.9763 on 28 degrees of freedom\n",
       "Multiple R-squared:  0.9755,\tAdjusted R-squared:  0.972 \n",
       "F-statistic: 278.6 on 4 and 28 DF,  p-value: < 2.2e-16\n"
      ]
     },
     "execution_count": 10,
     "metadata": {},
     "output_type": "execute_result"
    }
   ],
   "source": [
    "summary(modl)"
   ]
  },
  {
   "cell_type": "markdown",
   "metadata": {},
   "source": [
    "## difference of group 3 and group 4."
   ]
  },
  {
   "cell_type": "code",
   "execution_count": 11,
   "metadata": {
    "collapsed": false
   },
   "outputs": [
    {
     "ename": "ERROR",
     "evalue": "Error in eval(expr, envir, enclos): could not find function \"glht\"\n",
     "output_type": "error",
     "traceback": [
      "Error in eval(expr, envir, enclos): could not find function \"glht\"\n"
     ]
    },
    {
     "ename": "ERROR",
     "evalue": "Error in object[[i]]: object of type 'closure' is not subsettable\n",
     "output_type": "error",
     "traceback": [
      "Error in object[[i]]: object of type 'closure' is not subsettable\n"
     ]
    }
   ],
   "source": [
    "library(mult)\n",
    "K <- matrix(c(0, 0, 1, -1, 0), 1)\n",
    "t <- glht(modl, linfct = K)\n",
    "summary(t)"
   ]
  },
  {
   "cell_type": "code",
   "execution_count": null,
   "metadata": {
    "collapsed": true
   },
   "outputs": [],
   "source": []
  }
 ],
 "metadata": {
  "kernelspec": {
   "display_name": "R",
   "language": "R",
   "name": "ir"
  },
  "language_info": {
   "codemirror_mode": "r",
   "file_extension": ".r",
   "mimetype": "text/x-r-source",
   "name": "R",
   "pygments_lexer": "r",
   "version": "3.2.2"
  }
 },
 "nbformat": 4,
 "nbformat_minor": 0
}
