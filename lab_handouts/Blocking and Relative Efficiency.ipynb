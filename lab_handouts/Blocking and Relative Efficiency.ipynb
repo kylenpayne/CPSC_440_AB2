{
 "cells": [
  {
   "cell_type": "markdown",
   "metadata": {},
   "source": [
    "#### Recall: In a comparative experiment, treatments are assigned to experimental units, and responses are observed.\n",
    "\n",
    "#### A major analytical limitation is experimental error: \n",
    "   ##### the degree to which the responses differ among different experimental units that are treated in the same way.\n",
    "\n",
    "   ##### Blocking is a method to increase precision in comparing treatments, by containing and analytically eliminating some of the contributions to experimental error. (Marden, 1995).\n",
    "   \n",
    "#### In general, blocks are groups of experimental units, designated by the experimenter, that provide a structure for the way treatments are randomized (Marden, 1995)."
   ]
  },
  {
   "cell_type": "markdown",
   "metadata": {},
   "source": [
    "#### In a randomized complete block design (RCBD) with T treatments,\n",
    "    􏲆1. each block has exactly T experimental units\n",
    "    􏲆2. the blocks are disjoint\n",
    "    􏲆3. every treatment is assigned to exactly one experimental unit in each block\n",
    "    􏲆4. treatments are completely randomized within each block, and independently in different blocks\n"
   ]
  },
  {
   "cell_type": "markdown",
   "metadata": {},
   "source": [
    "## Example 1\n",
    "    An experiment was performed to compare methods for the production of penicillin. A total of T = 4 variants of the basic manufacturing process (treatments A, B, C, and D) were studied.\n",
    "    It was known that an important raw material, corn steep liquor, was quite variable. Blends of corn steep liquor sufficient for 4 runs could be made, allowing the experiments to run all T = 4 treatments within each block (blend of corn steep liquor). A total of 5 such blocks were used, for a total of 5 × 4 = 20 runs. The experimental units were the successive runs. As dictated by the design, the order in which the treatments were run was randomized within each block."
   ]
  },
  {
   "cell_type": "code",
   "execution_count": 1,
   "metadata": {
    "collapsed": false
   },
   "outputs": [
    {
     "name": "stdout",
     "output_type": "stream",
     "text": [
      "\n",
      "The downloaded source packages are in\n",
      "\t‘/private/var/folders/44/z41l8sf111x6k2bjrjbdjhl80000gn/T/RtmpVITuLP/downloaded_packages’\n"
     ]
    },
    {
     "name": "stderr",
     "output_type": "stream",
     "text": [
      "Updating HTML index of packages in '.Library'\n",
      "Making 'packages.html' ... done\n"
     ]
    }
   ],
   "source": [
    "install.packages(\"faraway\", repos='http://cran.us.r-project.org')"
   ]
  },
  {
   "cell_type": "code",
   "execution_count": 2,
   "metadata": {
    "collapsed": true
   },
   "outputs": [],
   "source": [
    "library(faraway)\n",
    "data(penicillin)"
   ]
  },
  {
   "cell_type": "code",
   "execution_count": 3,
   "metadata": {
    "collapsed": false
   },
   "outputs": [
    {
     "data": {
      "text/html": [
       "<table>\n",
       "<thead><tr><th></th><th scope=col>treat</th><th scope=col>blend</th><th scope=col>yield</th></tr></thead>\n",
       "<tbody>\n",
       "\t<tr><th scope=row>1</th><td>A</td><td>Blend1</td><td>89</td></tr>\n",
       "\t<tr><th scope=row>2</th><td>B</td><td>Blend1</td><td>88</td></tr>\n",
       "\t<tr><th scope=row>3</th><td>C</td><td>Blend1</td><td>97</td></tr>\n",
       "\t<tr><th scope=row>4</th><td>D</td><td>Blend1</td><td>94</td></tr>\n",
       "\t<tr><th scope=row>5</th><td>A</td><td>Blend2</td><td>84</td></tr>\n",
       "\t<tr><th scope=row>6</th><td>B</td><td>Blend2</td><td>77</td></tr>\n",
       "\t<tr><th scope=row>7</th><td>C</td><td>Blend2</td><td>92</td></tr>\n",
       "\t<tr><th scope=row>8</th><td>D</td><td>Blend2</td><td>79</td></tr>\n",
       "\t<tr><th scope=row>9</th><td>A</td><td>Blend3</td><td>81</td></tr>\n",
       "\t<tr><th scope=row>10</th><td>B</td><td>Blend3</td><td>87</td></tr>\n",
       "\t<tr><th scope=row>11</th><td>C</td><td>Blend3</td><td>87</td></tr>\n",
       "\t<tr><th scope=row>12</th><td>D</td><td>Blend3</td><td>85</td></tr>\n",
       "\t<tr><th scope=row>13</th><td>A</td><td>Blend4</td><td>87</td></tr>\n",
       "\t<tr><th scope=row>14</th><td>B</td><td>Blend4</td><td>92</td></tr>\n",
       "\t<tr><th scope=row>15</th><td>C</td><td>Blend4</td><td>89</td></tr>\n",
       "\t<tr><th scope=row>16</th><td>D</td><td>Blend4</td><td>84</td></tr>\n",
       "\t<tr><th scope=row>17</th><td>A</td><td>Blend5</td><td>79</td></tr>\n",
       "\t<tr><th scope=row>18</th><td>B</td><td>Blend5</td><td>81</td></tr>\n",
       "\t<tr><th scope=row>19</th><td>C</td><td>Blend5</td><td>80</td></tr>\n",
       "\t<tr><th scope=row>20</th><td>D</td><td>Blend5</td><td>88</td></tr>\n",
       "</tbody>\n",
       "</table>\n"
      ],
      "text/latex": [
       "\\begin{tabular}{r|lll}\n",
       "  & treat & blend & yield\\\\\n",
       "\\hline\n",
       "\t1 & A & Blend1 & 89\\\\\n",
       "\t2 & B & Blend1 & 88\\\\\n",
       "\t3 & C & Blend1 & 97\\\\\n",
       "\t4 & D & Blend1 & 94\\\\\n",
       "\t5 & A & Blend2 & 84\\\\\n",
       "\t6 & B & Blend2 & 77\\\\\n",
       "\t7 & C & Blend2 & 92\\\\\n",
       "\t8 & D & Blend2 & 79\\\\\n",
       "\t9 & A & Blend3 & 81\\\\\n",
       "\t10 & B & Blend3 & 87\\\\\n",
       "\t11 & C & Blend3 & 87\\\\\n",
       "\t12 & D & Blend3 & 85\\\\\n",
       "\t13 & A & Blend4 & 87\\\\\n",
       "\t14 & B & Blend4 & 92\\\\\n",
       "\t15 & C & Blend4 & 89\\\\\n",
       "\t16 & D & Blend4 & 84\\\\\n",
       "\t17 & A & Blend5 & 79\\\\\n",
       "\t18 & B & Blend5 & 81\\\\\n",
       "\t19 & C & Blend5 & 80\\\\\n",
       "\t20 & D & Blend5 & 88\\\\\n",
       "\\end{tabular}\n"
      ],
      "text/plain": [
       "   treat  blend yield\n",
       "1      A Blend1    89\n",
       "2      B Blend1    88\n",
       "3      C Blend1    97\n",
       "4      D Blend1    94\n",
       "5      A Blend2    84\n",
       "6      B Blend2    77\n",
       "7      C Blend2    92\n",
       "8      D Blend2    79\n",
       "9      A Blend3    81\n",
       "10     B Blend3    87\n",
       "11     C Blend3    87\n",
       "12     D Blend3    85\n",
       "13     A Blend4    87\n",
       "14     B Blend4    92\n",
       "15     C Blend4    89\n",
       "16     D Blend4    84\n",
       "17     A Blend5    79\n",
       "18     B Blend5    81\n",
       "19     C Blend5    80\n",
       "20     D Blend5    88"
      ]
     },
     "execution_count": 3,
     "metadata": {},
     "output_type": "execute_result"
    }
   ],
   "source": [
    "penicillin"
   ]
  },
  {
   "cell_type": "markdown",
   "metadata": {},
   "source": [
    "#### You can verify that variables are factors in R"
   ]
  },
  {
   "cell_type": "code",
   "execution_count": 4,
   "metadata": {
    "collapsed": false
   },
   "outputs": [
    {
     "data": {
      "text/html": [
       "'factor'"
      ],
      "text/latex": [
       "'factor'"
      ],
      "text/markdown": [
       "'factor'"
      ],
      "text/plain": [
       "[1] \"factor\""
      ]
     },
     "execution_count": 4,
     "metadata": {},
     "output_type": "execute_result"
    }
   ],
   "source": [
    "class(penicillin$treat)\n"
   ]
  },
  {
   "cell_type": "markdown",
   "metadata": {},
   "source": [
    "The usual model equation for data from an experiment with a randomized complete block design has a term for the treatment factor and a term for the blocking factor:\n",
    "\n",
    "$$\n",
    "Y_{ij} = \\mu + \\tau_i + \\beta_j + \\epsilon_{ij}\n",
    "$$\n",
    "\n",
    "Blocks and treatments are assumed independent, and therefore there is no interaction term."
   ]
  },
  {
   "cell_type": "code",
   "execution_count": 5,
   "metadata": {
    "collapsed": true
   },
   "outputs": [],
   "source": [
    "penimod <- lm(yield ~ blend + treat, data=penicillin)"
   ]
  },
  {
   "cell_type": "code",
   "execution_count": 6,
   "metadata": {
    "collapsed": false
   },
   "outputs": [
    {
     "data": {
      "text/html": [
       "<table>\n",
       "<thead><tr><th></th><th scope=col>Df</th><th scope=col>Sum Sq</th><th scope=col>Mean Sq</th><th scope=col>F value</th><th scope=col>Pr(>F)</th></tr></thead>\n",
       "<tbody>\n",
       "\t<tr><th scope=row>blend</th><td>4</td><td>264</td><td>66</td><td>3.504425</td><td>0.04074617</td></tr>\n",
       "\t<tr><th scope=row>treat</th><td>3</td><td>70</td><td>23.33333</td><td>1.238938</td><td>0.3386581</td></tr>\n",
       "\t<tr><th scope=row>Residuals</th><td>12</td><td>226</td><td>18.83333</td><td>NA</td><td>NA</td></tr>\n",
       "</tbody>\n",
       "</table>\n"
      ],
      "text/latex": [
       "\\begin{tabular}{r|lllll}\n",
       "  & Df & Sum Sq & Mean Sq & F value & Pr(>F)\\\\\n",
       "\\hline\n",
       "\tblend & 4 & 264 & 66 & 3.504425 & 0.04074617\\\\\n",
       "\ttreat & 3 & 70 & 23.33333 & 1.238938 & 0.3386581\\\\\n",
       "\tResiduals & 12 & 226 & 18.83333 & NA & NA\\\\\n",
       "\\end{tabular}\n"
      ],
      "text/plain": [
       "Analysis of Variance Table\n",
       "\n",
       "Response: yield\n",
       "          Df Sum Sq Mean Sq F value  Pr(>F)  \n",
       "blend      4    264  66.000  3.5044 0.04075 *\n",
       "treat      3     70  23.333  1.2389 0.33866  \n",
       "Residuals 12    226  18.833                  \n",
       "---\n",
       "Signif. codes:  0 ‘***’ 0.001 ‘**’ 0.01 ‘*’ 0.05 ‘.’ 0.1 ‘ ’ 1"
      ]
     },
     "execution_count": 6,
     "metadata": {},
     "output_type": "execute_result"
    }
   ],
   "source": [
    "anova(penimod)"
   ]
  },
  {
   "cell_type": "markdown",
   "metadata": {},
   "source": [
    "What if we treated this model as a factorial design, i.e. a CRD?"
   ]
  },
  {
   "cell_type": "code",
   "execution_count": 7,
   "metadata": {
    "collapsed": true
   },
   "outputs": [],
   "source": [
    "crd_mod <- lm(yield ~ blend*treat, data=penicillin)"
   ]
  },
  {
   "cell_type": "code",
   "execution_count": 8,
   "metadata": {
    "collapsed": false
   },
   "outputs": [
    {
     "name": "stderr",
     "output_type": "stream",
     "text": [
      "Warning message:\n",
      "In anova.lm(crd_mod): ANOVA F-tests on an essentially perfect fit are unreliable"
     ]
    },
    {
     "data": {
      "text/html": [
       "<table>\n",
       "<thead><tr><th></th><th scope=col>Df</th><th scope=col>Sum Sq</th><th scope=col>Mean Sq</th><th scope=col>F value</th><th scope=col>Pr(>F)</th></tr></thead>\n",
       "<tbody>\n",
       "\t<tr><th scope=row>blend</th><td>4</td><td>264</td><td>66</td><td>NaN</td><td>NaN</td></tr>\n",
       "\t<tr><th scope=row>treat</th><td>3</td><td>70</td><td>23.33333</td><td>NaN</td><td>NaN</td></tr>\n",
       "\t<tr><th scope=row>blend:treat</th><td>12</td><td>226</td><td>18.83333</td><td>NaN</td><td>NaN</td></tr>\n",
       "\t<tr><th scope=row>Residuals</th><td>0</td><td>0</td><td>NaN</td><td>NA</td><td>NA</td></tr>\n",
       "</tbody>\n",
       "</table>\n"
      ],
      "text/latex": [
       "\\begin{tabular}{r|lllll}\n",
       "  & Df & Sum Sq & Mean Sq & F value & Pr(>F)\\\\\n",
       "\\hline\n",
       "\tblend & 4 & 264 & 66 & NaN & NaN\\\\\n",
       "\ttreat & 3 & 70 & 23.33333 & NaN & NaN\\\\\n",
       "\tblend:treat & 12 & 226 & 18.83333 & NaN & NaN\\\\\n",
       "\tResiduals & 0 & 0 & NaN & NA & NA\\\\\n",
       "\\end{tabular}\n"
      ],
      "text/plain": [
       "Analysis of Variance Table\n",
       "\n",
       "Response: yield\n",
       "            Df Sum Sq Mean Sq F value Pr(>F)\n",
       "blend        4    264  66.000               \n",
       "treat        3     70  23.333               \n",
       "blend:treat 12    226  18.833               \n",
       "Residuals    0      0                       "
      ]
     },
     "execution_count": 8,
     "metadata": {},
     "output_type": "execute_result"
    }
   ],
   "source": [
    "anova(crd_mod)"
   ]
  },
  {
   "cell_type": "markdown",
   "metadata": {},
   "source": [
    "#### Q1. Why is there a perfect fit?"
   ]
  },
  {
   "cell_type": "markdown",
   "metadata": {},
   "source": [
    "#### Relative Efficiency is a general concept in estimation theory, in which we try to evaluate two statistical procedures based on overall amount of data either procedure needs in order to have a particular result. This is typically represented as a ratio of two sample sizes\n",
    "\n",
    "$$\n",
    "\\frac{n_1}{n_2}\n",
    "$$\n",
    "\n",
    "Where the ratio tells you how much of a sample size of procedure 1 you would need to get the same result from procedure 2. You can vaguely attach this meaning to the definition in Longnecker of Relative Efficiency\n",
    "\n",
    "$$\n",
    "RE(RCBD, CR) = \\frac{(b-1)MSB + b(t-1)MSE}{(bt-1)MSE}\n",
    "$$"
   ]
  },
  {
   "cell_type": "markdown",
   "metadata": {},
   "source": [
    "#### Q2. Use the ANOVA table above to calculate the Relative Efficiency of the randomized complete block design to the completely randomized design."
   ]
  },
  {
   "cell_type": "markdown",
   "metadata": {},
   "source": [
    "#### Two devices have been proposed to reduce the air pollution resulting from the emission of carbon monoxide (CO) from the exhaust of automobiles. To evaluate the effectiveness of the devices, 48 cars of varying age and mechanical condition were selected for the study. The amount of carbon monoxide in the exhaust (in ppm) was measured prior to installing the device on each of the cars. Because there were considerable differences in the mechanical condition of the cars, the cars were paired based on the level of CO in their exhaust. The two devices were then ran- domly assigned to the cars within each pair of cars. Five months after installation, the amount of CO in the exhaust was again measured on each of the cars. The reduction in carbon monoxide from the initial measurements are given here."
   ]
  },
  {
   "cell_type": "code",
   "execution_count": 12,
   "metadata": {
    "collapsed": false
   },
   "outputs": [],
   "source": [
    "data <- read.csv('../ASCII-comma/CH15/ex15-4.TXT', header = T)\n",
    "colnames(data)<-c(\"pair\", \"before\", \"after\")"
   ]
  },
  {
   "cell_type": "code",
   "execution_count": 13,
   "metadata": {
    "collapsed": true
   },
   "outputs": [],
   "source": [
    "library(reshape2)"
   ]
  },
  {
   "cell_type": "code",
   "execution_count": 15,
   "metadata": {
    "collapsed": false
   },
   "outputs": [],
   "source": [
    "data<-melt(data, id.vars =\"pair\")\n",
    "colnames(data)<- c(\"pair\", \"treat\", \"CO\")"
   ]
  },
  {
   "cell_type": "code",
   "execution_count": 16,
   "metadata": {
    "collapsed": false
   },
   "outputs": [
    {
     "data": {
      "text/html": [
       "<table>\n",
       "<thead><tr><th></th><th scope=col>pair</th><th scope=col>treat</th><th scope=col>CO</th></tr></thead>\n",
       "<tbody>\n",
       "\t<tr><th scope=row>1</th><td>1</td><td>before</td><td>2.37</td></tr>\n",
       "\t<tr><th scope=row>2</th><td>2</td><td>before</td><td>3.17</td></tr>\n",
       "\t<tr><th scope=row>3</th><td>3</td><td>before</td><td>3.07</td></tr>\n",
       "\t<tr><th scope=row>4</th><td>4</td><td>before</td><td>2.73</td></tr>\n",
       "\t<tr><th scope=row>5</th><td>5</td><td>before</td><td>3.49</td></tr>\n",
       "\t<tr><th scope=row>6</th><td>6</td><td>before</td><td>4.35</td></tr>\n",
       "</tbody>\n",
       "</table>\n"
      ],
      "text/latex": [
       "\\begin{tabular}{r|lll}\n",
       "  & pair & treat & CO\\\\\n",
       "\\hline\n",
       "\t1 & 1 & before & 2.37\\\\\n",
       "\t2 & 2 & before & 3.17\\\\\n",
       "\t3 & 3 & before & 3.07\\\\\n",
       "\t4 & 4 & before & 2.73\\\\\n",
       "\t5 & 5 & before & 3.49\\\\\n",
       "\t6 & 6 & before & 4.35\\\\\n",
       "\\end{tabular}\n"
      ],
      "text/plain": [
       "  pair  treat   CO\n",
       "1    1 before 2.37\n",
       "2    2 before 3.17\n",
       "3    3 before 3.07\n",
       "4    4 before 2.73\n",
       "5    5 before 3.49\n",
       "6    6 before 4.35"
      ]
     },
     "execution_count": 16,
     "metadata": {},
     "output_type": "execute_result"
    }
   ],
   "source": [
    "head(data)"
   ]
  },
  {
   "cell_type": "code",
   "execution_count": 17,
   "metadata": {
    "collapsed": false
   },
   "outputs": [
    {
     "data": {
      "text/html": [
       "<table>\n",
       "<thead><tr><th></th><th scope=col>pair</th><th scope=col>treat</th><th scope=col>CO</th></tr></thead>\n",
       "<tbody>\n",
       "\t<tr><th scope=row>43</th><td>19</td><td>after</td><td>3.11</td></tr>\n",
       "\t<tr><th scope=row>44</th><td>20</td><td>after</td><td>1.9</td></tr>\n",
       "\t<tr><th scope=row>45</th><td>21</td><td>after</td><td>2.5</td></tr>\n",
       "\t<tr><th scope=row>46</th><td>22</td><td>after</td><td>3.18</td></tr>\n",
       "\t<tr><th scope=row>47</th><td>23</td><td>after</td><td>3.24</td></tr>\n",
       "\t<tr><th scope=row>48</th><td>24</td><td>after</td><td>2.16</td></tr>\n",
       "</tbody>\n",
       "</table>\n"
      ],
      "text/latex": [
       "\\begin{tabular}{r|lll}\n",
       "  & pair & treat & CO\\\\\n",
       "\\hline\n",
       "\t43 & 19 & after & 3.11\\\\\n",
       "\t44 & 20 & after & 1.9\\\\\n",
       "\t45 & 21 & after & 2.5\\\\\n",
       "\t46 & 22 & after & 3.18\\\\\n",
       "\t47 & 23 & after & 3.24\\\\\n",
       "\t48 & 24 & after & 2.16\\\\\n",
       "\\end{tabular}\n"
      ],
      "text/plain": [
       "   pair treat   CO\n",
       "43   19 after 3.11\n",
       "44   20 after 1.90\n",
       "45   21 after 2.50\n",
       "46   22 after 3.18\n",
       "47   23 after 3.24\n",
       "48   24 after 2.16"
      ]
     },
     "execution_count": 17,
     "metadata": {},
     "output_type": "execute_result"
    }
   ],
   "source": [
    "tail(data)"
   ]
  },
  {
   "cell_type": "markdown",
   "metadata": {},
   "source": [
    "#### a. Does the device appear to reduce the average amount of CO in the exhaust of the cars? Use $\\alpha=0.05$.\n",
    "#### b. Compute the relative efficiency of the randomized complete block design (blocking on car) relative to a completely randomized design in which the 48 cars would have been randomly assigned to the two devices without regard to any pairing. Interpret the value of the relative efficiency.\n",
    "#### c. Based on the relative efficiency computed in part (b), would you recommend pairing the cars in future studies?\n",
    "#### d. In Chapter 6, we introduced the paired t-test. Analyze the above data using this test statistic.\n",
    "#### e. Show that the paired t-test is equivalent to the F-test from the randomized block AOV by showing that your computed values for the t-test and F-test satisfy $t^2=F$"
   ]
  },
  {
   "cell_type": "markdown",
   "metadata": {},
   "source": [
    "http://www.stat.ucla.edu/history/latin_square.gif"
   ]
  },
  {
   "cell_type": "markdown",
   "metadata": {},
   "source": [
    "## Latin Squares\n",
    "\n",
    "Consider a study in which four cars and four drivers are employed to study the differences between four gasoline additives on automobile emissions. Even if the cars are identical models, there are likely slight differences in their performance. Also, even if drivers are given a strict protocol for how to drive, there are likely to be driver-to-driver differences.\n",
    "The Latin square arrangement shows how these car and driver effects can be separated from the gasoline additive effects ...\n",
    "\n",
    "For a Latin square design, the Latin square should be chosen at random. Methods for doing this are described in other textbooks (and implemented in some software)."
   ]
  },
  {
   "cell_type": "code",
   "execution_count": 18,
   "metadata": {
    "collapsed": false
   },
   "outputs": [
    {
     "data": {
      "text/html": [
       "<table>\n",
       "<tbody>\n",
       "\t<tr><td>C</td><td>A</td><td>D</td><td>B</td></tr>\n",
       "\t<tr><td>D</td><td>B</td><td>C</td><td>A</td></tr>\n",
       "\t<tr><td>B</td><td>D</td><td>A</td><td>C</td></tr>\n",
       "\t<tr><td>A</td><td>C</td><td>B</td><td>D</td></tr>\n",
       "</tbody>\n",
       "</table>\n"
      ],
      "text/latex": [
       "\\begin{tabular}{llll}\n",
       "\t C & A & D & B\\\\\n",
       "\t D & B & C & A\\\\\n",
       "\t B & D & A & C\\\\\n",
       "\t A & C & B & D\\\\\n",
       "\\end{tabular}\n"
      ],
      "text/markdown": [
       "1. 'C'\n",
       "2. 'D'\n",
       "3. 'B'\n",
       "4. 'A'\n",
       "5. 'A'\n",
       "6. 'B'\n",
       "7. 'D'\n",
       "8. 'C'\n",
       "9. 'D'\n",
       "10. 'C'\n",
       "11. 'A'\n",
       "12. 'B'\n",
       "13. 'B'\n",
       "14. 'A'\n",
       "15. 'C'\n",
       "16. 'D'\n",
       "\n",
       "\n"
      ],
      "text/plain": [
       "     [,1] [,2] [,3] [,4]\n",
       "[1,] \"C\"  \"A\"  \"D\"  \"B\" \n",
       "[2,] \"D\"  \"B\"  \"C\"  \"A\" \n",
       "[3,] \"B\"  \"D\"  \"A\"  \"C\" \n",
       "[4,] \"A\"  \"C\"  \"B\"  \"D\" "
      ]
     },
     "execution_count": 18,
     "metadata": {},
     "output_type": "execute_result"
    }
   ],
   "source": [
    "library(faraway)\n",
    "data(abrasion)\n",
    "\n",
    "matrix(abrasion$material,4,4)"
   ]
  },
  {
   "cell_type": "markdown",
   "metadata": {},
   "source": [
    "$$\n",
    "Y_{ijk} = \\mu + \\tau_i + \\beta_j + \\gamma_k + \\epsilon_{ijk}\n",
    "$$\n"
   ]
  },
  {
   "cell_type": "code",
   "execution_count": 19,
   "metadata": {
    "collapsed": false
   },
   "outputs": [
    {
     "data": {
      "text/html": [
       "<table>\n",
       "<thead><tr><th></th><th scope=col>Df</th><th scope=col>Sum Sq</th><th scope=col>Mean Sq</th><th scope=col>F value</th><th scope=col>Pr(>F)</th></tr></thead>\n",
       "<tbody>\n",
       "\t<tr><th scope=row>position</th><td>3</td><td>1468.5</td><td>489.5</td><td>7.991837</td><td>0.01616848</td></tr>\n",
       "\t<tr><th scope=row>run</th><td>3</td><td>986.5</td><td>328.8333</td><td>5.368707</td><td>0.03901297</td></tr>\n",
       "\t<tr><th scope=row>material</th><td>3</td><td>4621.5</td><td>1540.5</td><td>25.15102</td><td>0.0008498192</td></tr>\n",
       "\t<tr><th scope=row>Residuals</th><td>6</td><td>367.5</td><td>61.25</td><td>NA</td><td>NA</td></tr>\n",
       "</tbody>\n",
       "</table>\n"
      ],
      "text/latex": [
       "\\begin{tabular}{r|lllll}\n",
       "  & Df & Sum Sq & Mean Sq & F value & Pr(>F)\\\\\n",
       "\\hline\n",
       "\tposition & 3 & 1468.5 & 489.5 & 7.991837 & 0.01616848\\\\\n",
       "\trun & 3 & 986.5 & 328.8333 & 5.368707 & 0.03901297\\\\\n",
       "\tmaterial & 3 & 4621.5 & 1540.5 & 25.15102 & 0.0008498192\\\\\n",
       "\tResiduals & 6 & 367.5 & 61.25 & NA & NA\\\\\n",
       "\\end{tabular}\n"
      ],
      "text/plain": [
       "Analysis of Variance Table\n",
       "\n",
       "Response: wear\n",
       "          Df Sum Sq Mean Sq F value    Pr(>F)    \n",
       "position   3 1468.5  489.50  7.9918 0.0161685 *  \n",
       "run        3  986.5  328.83  5.3687 0.0390130 *  \n",
       "material   3 4621.5 1540.50 25.1510 0.0008498 ***\n",
       "Residuals  6  367.5   61.25                      \n",
       "---\n",
       "Signif. codes:  0 ‘***’ 0.001 ‘**’ 0.01 ‘*’ 0.05 ‘.’ 0.1 ‘ ’ 1"
      ]
     },
     "execution_count": 19,
     "metadata": {},
     "output_type": "execute_result"
    }
   ],
   "source": [
    "linmod <- lm(wear ~ position + run + material, data=abrasion)\n",
    "anova(linmod)"
   ]
  },
  {
   "cell_type": "code",
   "execution_count": 20,
   "metadata": {
    "collapsed": false
   },
   "outputs": [
    {
     "data": {
      "text/html": [
       "<table>\n",
       "<thead><tr><th></th><th scope=col>diff</th><th scope=col>lwr</th><th scope=col>upr</th><th scope=col>p adj</th></tr></thead>\n",
       "<tbody>\n",
       "\t<tr><th scope=row>B-A</th><td>-4.575000e+01</td><td>-6.490706e+01</td><td>-2.659294e+01</td><td> 7.030032e-04</td></tr>\n",
       "\t<tr><th scope=row>C-A</th><td>-24.00000000</td><td>-43.15706199</td><td> -4.84293801</td><td>  0.01903555</td></tr>\n",
       "\t<tr><th scope=row>D-A</th><td>-35.250000000</td><td>-54.407061991</td><td>-16.092938009</td><td>  0.002866207</td></tr>\n",
       "\t<tr><th scope=row>C-B</th><td>21.75000000</td><td> 2.59293801</td><td>40.90706199</td><td> 0.02947738</td></tr>\n",
       "\t<tr><th scope=row>D-B</th><td>10.5000000</td><td>-8.6570620</td><td>29.6570620</td><td> 0.3206306</td></tr>\n",
       "\t<tr><th scope=row>D-C</th><td>-11.2500000</td><td>-30.4070620</td><td>  7.9070620</td><td>  0.2742765</td></tr>\n",
       "</tbody>\n",
       "</table>\n"
      ],
      "text/latex": [
       "\\begin{tabular}{r|llll}\n",
       "  & diff & lwr & upr & p adj\\\\\n",
       "\\hline\n",
       "\tB-A & -4.575000e+01 & -6.490706e+01 & -2.659294e+01 &  7.030032e-04\\\\\n",
       "\tC-A & -24.00000000 & -43.15706199 &  -4.84293801 &   0.01903555\\\\\n",
       "\tD-A & -35.250000000 & -54.407061991 & -16.092938009 &   0.002866207\\\\\n",
       "\tC-B & 21.75000000 &  2.59293801 & 40.90706199 &  0.02947738\\\\\n",
       "\tD-B & 10.5000000 & -8.6570620 & 29.6570620 &  0.3206306\\\\\n",
       "\tD-C & -11.2500000 & -30.4070620 &   7.9070620 &   0.2742765\\\\\n",
       "\\end{tabular}\n"
      ],
      "text/markdown": [
       "1. -45.75\n",
       "2. -24\n",
       "3. -35.25\n",
       "4. 21.75\n",
       "5. 10.5\n",
       "6. -11.25\n",
       "7. -64.9070619907539\n",
       "8. -43.1570619907539\n",
       "9. -54.4070619907539\n",
       "10. 2.59293800924614\n",
       "11. -8.65706199075386\n",
       "12. -30.4070619907539\n",
       "13. -26.5929380092461\n",
       "14. -4.84293800924614\n",
       "15. -16.0929380092461\n",
       "16. 40.9070619907539\n",
       "17. 29.6570619907539\n",
       "18. 7.90706199075386\n",
       "19. 0.000703003237613742\n",
       "20. 0.0190355513571815\n",
       "21. 0.00286620668244486\n",
       "22. 0.0294773816099292\n",
       "23. 0.320630579438063\n",
       "24. 0.274276520501254\n",
       "\n",
       "\n"
      ],
      "text/plain": [
       "      diff        lwr        upr        p adj\n",
       "B-A -45.75 -64.907062 -26.592938 0.0007030032\n",
       "C-A -24.00 -43.157062  -4.842938 0.0190355514\n",
       "D-A -35.25 -54.407062 -16.092938 0.0028662067\n",
       "C-B  21.75   2.592938  40.907062 0.0294773816\n",
       "D-B  10.50  -8.657062  29.657062 0.3206305794\n",
       "D-C -11.25 -30.407062   7.907062 0.2742765205"
      ]
     },
     "execution_count": 20,
     "metadata": {},
     "output_type": "execute_result"
    }
   ],
   "source": [
    "TukeyHSD(aov(wear ~ position + run + material, data=abrasion))$material"
   ]
  },
  {
   "cell_type": "code",
   "execution_count": null,
   "metadata": {
    "collapsed": true
   },
   "outputs": [],
   "source": []
  }
 ],
 "metadata": {
  "kernelspec": {
   "display_name": "R",
   "language": "R",
   "name": "ir"
  },
  "language_info": {
   "codemirror_mode": "r",
   "file_extension": ".r",
   "mimetype": "text/x-r-source",
   "name": "R",
   "pygments_lexer": "r",
   "version": "3.2.2"
  }
 },
 "nbformat": 4,
 "nbformat_minor": 0
}
