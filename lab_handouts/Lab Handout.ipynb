{
 "cells": [
  {
   "cell_type": "markdown",
   "metadata": {},
   "source": [
    "## Multiple Comparisons:\n",
    "\n",
    "\n",
    "When you preform a hypothesis test, or find a confidence interval, you often try to control the chance of an error. In the testing situation, the Type I error is the chance you reject the null hypothesis when the null hypothesis is true, that is, it is the chance of a false positive. One often wants that chance to be no larger than a specified level $\\alpha$, e.g., $.05$. With confidence intervals, you wish that the chance the parameter of interest is covered by the interval to be at least $1-\\alpha$.\n",
    "\n",
    "\n",
    "Suppose there are several tests or confidence intervals begin considered simultaneously. For example, in the leprosy example, one may want confidence intervals for $\\gamma_1 = (\\alpha_1 + \\alpha_2)/2 − \\alpha_3$ and $\\gamma_2 = \\alpha_1 − \\alpha_2$. If each confidence interval has a $0.95$ chance of covering its true value, what is the chance that both cover their true values simultaneously? It is somewhere between $0.90$ and $0.95$. Thus we can at best guarantee that there is a $0.90$ chance both are correct. The difference between $0.90$ and $0.95$ may not be a big deal, but consider more than two intervals, say 5, or 10, or 20. The chance that ten $0.95$ intervals are all correct is bounded from below by $0.50$: For twenty, the bound is $0$!\n",
    "\n",
    "$A_i$ is true iff $$ \\gamma_i \\in (\\gamma_i \\pm t_\\nu,\\alpha_i/2se(\\gamma_i)); P(A_i) = 1 - \\alpha_i $$\n",
    "\n",
    "\n",
    "Then if $1 − \\alpha_0$ is the desired chance all intervals cover their parameters, we need that\n",
    "\n",
    "$$\n",
    "P(A_1 \\cap A_2 \\cap \\dots \\cap A_J) \\geq 1-\\alpha_0\n",
    "$$\n",
    "\n",
    "Looking at complements instead, we have that $P(\\bar{A_i})=\\alpha_i$ and wish to have\n",
    "\n",
    "\n",
    "\n",
    "$$\n",
    "P(\\bar{A_1} \\cup \\bar{A_2} \\cup \\dots \\cup \\bar{A_J}) \\leq \\alpha_0\n",
    "$$\n",
    "\n",
    "(why?)\n",
    "\n",
    "\n",
    "The probability of a union is less than or equal to the sum of probabilities, hence\n",
    "\n",
    "$$\n",
    "P(\\bar{A_1} \\cup \\bar{A_2} \\cup \\dots \\cup \\bar{A_J})\\leq \\sum_{i=1}^{J}\\alpha_i\n",
    "$$\n",
    "\n",
    "So how can we choose the $\\alpha_i$ so that $\\sum_{i}\\alpha_i \\leq \\alpha_0$ ?\n"
   ]
  },
  {
   "cell_type": "markdown",
   "metadata": {},
   "source": [
    "## Question 1. How do we choose individual type 1 error rates such that we get an experimentwise error rate of $\\alpha_0$?\n"
   ]
  },
  {
   "cell_type": "markdown",
   "metadata": {},
   "source": [
    "The big advantage of the Bonferroni approach is that there are no special assumptions on the relationships between the intervals. They can be any type (t, z, etc.); they can be from the same experiment or different experiments; they can be on any combination of parameters. They main drawback is the conservativeness. That is, because there is a $\\geq$ in the equation, one is likely to be understating the overall coverage probability, maybe by a great deal if $J$ is large. More accurate bounds in special cases lead to smaller intervals (which is good), without violating the coverage probability bound. The next two sections deal with such cases.\n"
   ]
  },
  {
   "cell_type": "markdown",
   "metadata": {},
   "source": [
    "Fisher's Least Significant Difference.\n",
    "\n",
    "\n",
    "1. Perform an analysis of variance to test $H_0: \\mu_1 = \\mu_2 = \\dots = \\mu_t$ against the alternative hypothesis that at least one of the means differs from the rest.\n",
    "2. If there is insufficient evidence to reject $H_0$ using $F=MSB/MSW$ proceed no further.\n",
    "3. If H0 is rejected, define the least significant difference (LSD) to be the observed difference between two sample means necessary to declare the corresponding population means different.\n",
    "\n",
    "4. For a specified value of $\\alpha$, the least significant difference for comparing two means is\n",
    "\n",
    "￼￼￼$$\n",
    "LSD_{ij} = t_{\\alpha/2}\\sqrt{S^2_W(1/n_i + 1/n_j)}\n",
    "$$\n",
    "\n",
    "￼5. Then compare all pairs of sample means. If $|\\bar{y_i}-\\bar{y_j}| \\geq LSD_{ij}$ then\n",
    "the corresponding population means $\\mu_i$ and $\\mu_j$ are considered different.\n",
    "\n",
    "6.For each pairwise comparison of population means, the probability of a Type I error is fixed at a specified value of $\\alpha=0.05$."
   ]
  },
  {
   "cell_type": "markdown",
   "metadata": {},
   "source": [
    "Researchers conducted an experiment to compare the effectiveness of four new weight-reducing agents to that of an existing agent. The researchers randomly divided a random sample of 50 males into five equal groups, with preparation A1 assigned to the first group, A2 to the second group, and so on. They then gave a prestudy physical to each person in the experiment and told him how many pounds overweight he was. A comparison of the mean number of pounds overweight for the groups showed no significant differences. The researchers then began the study, and each group took the prescribed preparation for a fixed period of time. The weight losses recorded at the end of the study period are given in the following data.frame\n",
    "The standard agent is labeled agent S, and the four new agents are labeled A1, A2, A3, and A4. "
   ]
  },
  {
   "cell_type": "code",
   "execution_count": 31,
   "metadata": {
    "collapsed": false
   },
   "outputs": [
    {
     "data": {
      "text/html": [
       "<table>\n",
       "<tbody>\n",
       "\t<tr><th scope=row>a1</th><td>12.4</td><td>10.7</td><td>11.9</td><td>11.0</td><td>12.4</td><td>12.3</td><td>13.0</td></tr>\n",
       "\t<tr><th scope=row>a2</th><td> 9.1</td><td>11.5</td><td>11.3</td><td> 9.7</td><td>13.2</td><td>12.5</td><td>10.7</td></tr>\n",
       "\t<tr><th scope=row>a3</th><td> 8.5</td><td>11.6</td><td>10.2</td><td>10.9</td><td> 9.0</td><td>10.6</td><td>11.3</td></tr>\n",
       "\t<tr><th scope=row>a4</th><td>12.7</td><td>13.2</td><td>11.8</td><td>11.9</td><td>12.2</td><td> 9.6</td><td> 9.9</td></tr>\n",
       "\t<tr><th scope=row>s</th><td> 8.7</td><td> 9.3</td><td> 8.2</td><td> 8.3</td><td> 9.0</td><td>11.3</td><td>11.2</td></tr>\n",
       "</tbody>\n",
       "</table>\n"
      ],
      "text/latex": [
       "\\begin{tabular}{r|lllllll}\n",
       "\ta1 & 12.4 & 10.7 & 11.9 & 11.0 & 12.4 & 12.3 & 13.0\\\\\n",
       "\ta2 &  9.1 & 11.5 & 11.3 &  9.7 & 13.2 & 12.5 & 10.7\\\\\n",
       "\ta3 &  8.5 & 11.6 & 10.2 & 10.9 &  9.0 & 10.6 & 11.3\\\\\n",
       "\ta4 & 12.7 & 13.2 & 11.8 & 11.9 & 12.2 &  9.6 &  9.9\\\\\n",
       "\ts &  8.7 &  9.3 &  8.2 &  8.3 &  9.0 & 11.3 & 11.2\\\\\n",
       "\\end{tabular}\n"
      ],
      "text/markdown": [
       "1. 12.4\n",
       "2. 9.1\n",
       "3. 8.5\n",
       "4. 12.7\n",
       "5. 8.7\n",
       "6. 10.7\n",
       "7. 11.5\n",
       "8. 11.6\n",
       "9. 13.2\n",
       "10. 9.3\n",
       "11. 11.9\n",
       "12. 11.3\n",
       "13. 10.2\n",
       "14. 11.8\n",
       "15. 8.2\n",
       "16. 11\n",
       "17. 9.7\n",
       "18. 10.9\n",
       "19. 11.9\n",
       "20. 8.3\n",
       "21. 12.4\n",
       "22. 13.2\n",
       "23. 9\n",
       "24. 12.2\n",
       "25. 9\n",
       "26. 12.3\n",
       "27. 12.5\n",
       "28. 10.6\n",
       "29. 9.6\n",
       "30. 11.3\n",
       "31. 13\n",
       "32. 10.7\n",
       "33. 11.3\n",
       "34. 9.9\n",
       "35. 11.2\n",
       "\n",
       "\n"
      ],
      "text/plain": [
       "   [,1] [,2] [,3] [,4] [,5] [,6] [,7]\n",
       "a1 12.4 10.7 11.9 11.0 12.4 12.3 13.0\n",
       "a2  9.1 11.5 11.3  9.7 13.2 12.5 10.7\n",
       "a3  8.5 11.6 10.2 10.9  9.0 10.6 11.3\n",
       "a4 12.7 13.2 11.8 11.9 12.2  9.6  9.9\n",
       "s   8.7  9.3  8.2  8.3  9.0 11.3 11.2"
      ]
     },
     "execution_count": 31,
     "metadata": {},
     "output_type": "execute_result"
    }
   ],
   "source": [
    "data <- scan(text='\n",
    "12.4 10.7 11.9 11.0 12.4 12.3 13.0 \n",
    "9.1 11.5 11.3 9.7 13.2 12.5 10.7 \n",
    "8.5 11.6 10.2 10.9 9.0 10.6 11.3\n",
    "12.7 13.2 11.8 11.9 12.2 9.6 9.9\n",
    "8.7 9.3 8.2 8.3 9.0 11.3 11.2')\n",
    "\n",
    "data <- matrix(data, ncol=7,nrow=5, byrow=T)\n",
    "row.names(data)<-c(\"a1\", \"a2\", \"a3\", \"a4\", \"s\")\n",
    "data"
   ]
  },
  {
   "cell_type": "code",
   "execution_count": 32,
   "metadata": {
    "collapsed": false
   },
   "outputs": [
    {
     "name": "stderr",
     "output_type": "stream",
     "text": [
      "No id variables; using all as measure variables\n"
     ]
    }
   ],
   "source": [
    "data <- t(data)\n",
    "data<-data.frame(data)\n",
    "library(reshape2)\n",
    "library(plyr)\n",
    "\n",
    "data_m<-melt(data)\n",
    "colnames(data_m)<-c(\"agent\",\"weight\")\n",
    "data_m$agent <- factor(data_m$agent)\n",
    "ms <- ddply(data_m, .(agent), summarize, mean= mean(weight))"
   ]
  },
  {
   "cell_type": "code",
   "execution_count": 33,
   "metadata": {
    "collapsed": false
   },
   "outputs": [
    {
     "data": {
      "text/html": [
       "<table>\n",
       "<thead><tr><th></th><th scope=col>agent</th><th scope=col>mean</th></tr></thead>\n",
       "<tbody>\n",
       "\t<tr><th scope=row>1</th><td>a1</td><td>11.95714</td></tr>\n",
       "\t<tr><th scope=row>2</th><td>a2</td><td>11.14286</td></tr>\n",
       "\t<tr><th scope=row>3</th><td>a3</td><td>10.3</td></tr>\n",
       "\t<tr><th scope=row>4</th><td>a4</td><td>11.61429</td></tr>\n",
       "\t<tr><th scope=row>5</th><td>s</td><td>9.428571</td></tr>\n",
       "</tbody>\n",
       "</table>\n"
      ],
      "text/latex": [
       "\\begin{tabular}{r|ll}\n",
       "  & agent & mean\\\\\n",
       "\\hline\n",
       "\t1 & a1 & 11.95714\\\\\n",
       "\t2 & a2 & 11.14286\\\\\n",
       "\t3 & a3 & 10.3\\\\\n",
       "\t4 & a4 & 11.61429\\\\\n",
       "\t5 & s & 9.428571\\\\\n",
       "\\end{tabular}\n"
      ],
      "text/plain": [
       "  agent      mean\n",
       "1    a1 11.957143\n",
       "2    a2 11.142857\n",
       "3    a3 10.300000\n",
       "4    a4 11.614286\n",
       "5     s  9.428571"
      ]
     },
     "execution_count": 33,
     "metadata": {},
     "output_type": "execute_result"
    }
   ],
   "source": [
    "ms\n"
   ]
  },
  {
   "cell_type": "code",
   "execution_count": 34,
   "metadata": {
    "collapsed": false
   },
   "outputs": [],
   "source": [
    "Sw2 <- 1.24"
   ]
  },
  {
   "cell_type": "markdown",
   "metadata": {},
   "source": [
    "#### Q2. Using the data in the table and $S_{w}^2$ provided, perform a Fisher's Least Significant Difference Procedure at $\\alpha=0.05$. Report the agent means that are significantly different from each other.\n",
    "(You can also use LSD.test in the agricolae package)."
   ]
  },
  {
   "cell_type": "markdown",
   "metadata": {},
   "source": [
    "#### Tukey's W Procedure\n",
    "\n",
    "1. Rank the t sample means.\n",
    "2. Two population means mi and mj are declared different if $|\\bar{y_i}-\\bar{y_j}| \\geq W$ where $W=q_{\\alpha}(t,v)\\sqrt{s_w^2/n}$ $s_w^2$ is the mean square within samples based on $v$ degrees of freedom, $q_{\\alpha}(t, v)$ is the upper-tail critical value of the Studentized range for comparing $t$ different populations, and $n$ is the number of observations in each sample. \n",
    "3. The error rate that is controlled is an experimentwise error rate. Thus, the probability of observing an experiment with one or more pairwise comparisons falsely declared to be significant is specified at $\\alpha_0$\n",
    "\n",
    "A limitation of Tukey’s procedure is the requirement that all the sample means are based on the same number of data values. Tukey (1953) and Kramer (1956) independently proposed an approximate procedure in the case of unequal sample sizes. \n",
    "\n",
    "#### Q3. Using the weight loss data, perform a Tukey's W Procedure on all pairwise comparisons between the agents. \n",
    "\n",
    "(You may use the TukeyHSD function)"
   ]
  },
  {
   "cell_type": "code",
   "execution_count": 35,
   "metadata": {
    "collapsed": false
   },
   "outputs": [
    {
     "name": "stdout",
     "output_type": "stream",
     "text": [
      "\n",
      "The downloaded source packages are in\n",
      "\t‘/private/var/folders/44/z41l8sf111x6k2bjrjbdjhl80000gn/T/RtmpimS48t/downloaded_packages’\n"
     ]
    },
    {
     "name": "stderr",
     "output_type": "stream",
     "text": [
      "Updating HTML index of packages in '.Library'\n",
      "Making 'packages.html' ... done\n"
     ]
    }
   ],
   "source": [
    "install.packages(c(\"agricolae\", \"DescTools\", \"multcomp\"), repos='http://cran.us.r-project.org')"
   ]
  },
  {
   "cell_type": "code",
   "execution_count": 36,
   "metadata": {
    "collapsed": false
   },
   "outputs": [],
   "source": [
    "modl <- lm(weight ~ agent, data=data_m)\n",
    "### TukeyHSD(aov(modl))"
   ]
  },
  {
   "cell_type": "markdown",
   "metadata": {},
   "source": [
    "#### Q4. Report the means that are significantly different."
   ]
  },
  {
   "cell_type": "markdown",
   "metadata": {},
   "source": [
    "#### Dunnett's Procedure.\n",
    "\n",
    "In experiments in which a control is included, the researchers would want to determine whether the mean responses from the active treatments differ from the mean for the control. Dunnett (1955) developed a procedure for comparisons to a control that controls the experimentwise Type I error rate.\n",
    "\n",
    "1. For a specified value of $\\alpha_E$ Dunnett’s D value for comparing $\\mu_i$ to $\\mu_c$, the control mean is\n",
    "$D = d_{\\alpha}(k,v)\\sqrt{2s^2_w/n}$ where $n$ is the common sample size for the treatment groups (including the control) $k =t-1$, the number of noncontrol treatments; $\\alpha$ is the desired experimentwise error rate; $s_w^2$ is the mean square within; $v$ is the degrees of freedom associated with $s_w^2$ ; and $d_{\\alpha}(k,v)$ is the critical Dunnett value (Table 11 of the Appendix).\n",
    "\n",
    "2. For the two-sided alternative $H_a: \\mu_i\\neq\\mu_c$, we declare $\\mu_i$ different from $\\mu_c$ if \n",
    "$|\\bar{y_i} - \\bar{y_c}| \\geq D$ where the value of $d_{\\alpha}(k,v)$ is the two-sided value in Table 11 in the\n",
    "Appendix.\n",
    "\n",
    "3. For the one-sided alternative $H_a: \\mu_i>\\mu_c$, we declare $\\mu_i$ different from $\\mu_c$ if \n",
    "$(\\bar{y_i} - \\bar{y_c}) \\geq D$ where the value of $d_{\\alpha}(k,v)$ is the two-sided value in Table 11 in the\n",
    "Appendix.\n",
    "\n",
    "4. For the one-sided alternative $H_a: \\mu_i < \\mu_c$, we declare $\\mu_i$ different from $\\mu_c$ if \n",
    "$(\\bar{y_i}-\\bar{y_c}) \\leq -D$ where the value of $d_{\\alpha}(k,v)$ is the two-sided value in Table 11 in the\n",
    "Appendix.\n",
    "\n",
    "5. The Type I error rate that is controlled is the experimentwise error.\n",
    "\n",
    "\n",
    "#### Q5. Treat agent $s$ as a control. Perform dunnett's procedure at $\\alpha=0.05$. "
   ]
  },
  {
   "cell_type": "code",
   "execution_count": 37,
   "metadata": {
    "collapsed": false
   },
   "outputs": [],
   "source": [
    "### Try this code!\n",
    "library(multcomp)\n",
    "\n",
    "modl <- aov(weight ~ agent, data=data_m)\n",
    "### summary(glht(modl, linfct=mcp(agent=\"Dunnett\")))\n"
   ]
  },
  {
   "cell_type": "markdown",
   "metadata": {},
   "source": [
    "#### Scheffe's S Procedure\n",
    "\n",
    "A more general procedure, proposed by Scheffé (1953), can be used to make all possible comparisons among the $t$ population means. Although Scheffé’s procedure can be applied to pairwise comparisons among the $t$ population means, it is more conservative \n",
    "\n",
    "\n",
    "1. Consider any linear comparison among the t population means of the form\n",
    "$a_1\\mu_1 + \\dots + a_t\\mu_t$. \n",
    "2. We wish to test the null hypothesis\n",
    "$H_0: l=0$ vs. $H_a: l\\neq 0$.\n",
    "3. The test statistic is $\\hat{l} = a_1\\bar{y_1} + \\dots + a_t\\bar{y_t}$\n",
    "4. $S = \\sqrt{\\hat{V}(\\hat{l})(t-1)F_{\\alpha, df_1, df_2}}$\n",
    "5. $\\hat{V}(\\hat{l}) = s_w^2 \\sum_{i=1}^{t} \\frac{a_i^2}{n_i}$\n",
    "6. Reject if $|\\hat{l}| > S$ \n",
    "7. The error rate that is controlled is an experimentwise error rate. If weconsider all imaginable contrasts, the probability of observing an experiment with one or more contrasts falsely declared to be significant is designated by $\\alpha$"
   ]
  },
  {
   "cell_type": "markdown",
   "metadata": {},
   "source": [
    "#### Q6. Use Scheffe's S Procedure to test the following set of linear contrasts"
   ]
  },
  {
   "cell_type": "code",
   "execution_count": 38,
   "metadata": {
    "collapsed": false
   },
   "outputs": [
    {
     "data": {
      "text/html": [
       "<table>\n",
       "<thead><tr><th scope=col>a1</th><th scope=col>a2</th><th scope=col>a3</th><th scope=col>a4</th><th scope=col>s</th></tr></thead>\n",
       "<tbody>\n",
       "\t<tr><td> 4</td><td>-1</td><td>-1</td><td>-1</td><td>-1</td></tr>\n",
       "\t<tr><td> 0</td><td> 1</td><td> 1</td><td>-1</td><td>-1</td></tr>\n",
       "\t<tr><td> 0</td><td> 1</td><td>-1</td><td> 0</td><td> 0</td></tr>\n",
       "\t<tr><td> 0</td><td> 0</td><td> 0</td><td> 1</td><td>-1</td></tr>\n",
       "</tbody>\n",
       "</table>\n"
      ],
      "text/latex": [
       "\\begin{tabular}{lllll}\n",
       " a1 & a2 & a3 & a4 & s\\\\\n",
       "\\hline\n",
       "\t  4 & -1 & -1 & -1 & -1\\\\\n",
       "\t  0 &  1 &  1 & -1 & -1\\\\\n",
       "\t  0 &  1 & -1 &  0 &  0\\\\\n",
       "\t  0 &  0 &  0 &  1 & -1\\\\\n",
       "\\end{tabular}\n"
      ],
      "text/markdown": [
       "1. 4\n",
       "2. 0\n",
       "3. 0\n",
       "4. 0\n",
       "5. -1\n",
       "6. 1\n",
       "7. 1\n",
       "8. 0\n",
       "9. -1\n",
       "10. 1\n",
       "11. -1\n",
       "12. 0\n",
       "13. -1\n",
       "14. -1\n",
       "15. 0\n",
       "16. 1\n",
       "17. -1\n",
       "18. -1\n",
       "19. 0\n",
       "20. -1\n",
       "\n",
       "\n"
      ],
      "text/plain": [
       "     a1 a2 a3 a4  s\n",
       "[1,]  4 -1 -1 -1 -1\n",
       "[2,]  0  1  1 -1 -1\n",
       "[3,]  0  1 -1  0  0\n",
       "[4,]  0  0  0  1 -1"
      ]
     },
     "execution_count": 38,
     "metadata": {},
     "output_type": "execute_result"
    }
   ],
   "source": [
    "contr <- matrix(scan(\n",
    "text=\"4 -1 -1 -1 -1\n",
    "      0 1 1 -1 -1\n",
    "      0 1 -1 0 0\n",
    "      0 0 0 1 -1\"), ncol=5, nrow=4, byrow=T)\n",
    "\n",
    "colnames(contr) <- c(\"a1\", \"a2\", \"a3\", \"a4\", \"s\")\n",
    "contr"
   ]
  }
 ],
 "metadata": {
  "kernelspec": {
   "display_name": "R",
   "language": "R",
   "name": "ir"
  },
  "language_info": {
   "codemirror_mode": "r",
   "file_extension": ".r",
   "mimetype": "text/x-r-source",
   "name": "R",
   "pygments_lexer": "r",
   "version": "3.2.2"
  }
 },
 "nbformat": 4,
 "nbformat_minor": 0
}
