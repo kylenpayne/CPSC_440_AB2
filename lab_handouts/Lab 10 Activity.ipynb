{
 "cells": [
  {
   "cell_type": "markdown",
   "metadata": {},
   "source": [
    "### (Longnecker & Ott, 2010) Factorial treatment structures are useful for examining the effects of two or more factors on a response y, whether or not interaction exists. As before, the choice of the number of levels of each variable and the actual settings of these variables is important. However, assuming that we have made these selections with help from an investigator knowledgeable in the area being examined, we must de- cide at what factor–level combinations we will observe y.\n",
    "\n",
    "### (Notes) This is when the response variable Y is observed for a combination of factors each of which has multiple levels.  Those combinations are often referred to as treatment combinations.  \n"
   ]
  },
  {
   "cell_type": "markdown",
   "metadata": {},
   "source": [
    "\n",
    "1. Researchers conducted an experiment to assess the oral body temperature for persons taking one of nine different medications often prescribed for high blood pressure. The researchers were concerned that the effect of the drug may be different depending on the severity of the patient’s high blood pressure disorder. Patients with high blood pressure who satisfy the study’s entrance criteria were classified into one of the three levels of severity of the blood pressure disorder. The patients were then randomly assigned to receive one of the nine medications. Each patient in the study was given the assigned medication at 6:00 A.M. of the designated study day. Temperatures were taken at hourly intervals beginning at 8:00 A.M. and continuing for 10 hours. During this time, the patients were not allowed to do any physical activity and had to lie in bed. To eliminate the variability of temperature readings within a day, the average of the hourly determinations was the recorded response for each patient. These data are given below:"
   ]
  },
  {
   "cell_type": "code",
   "execution_count": 1,
   "metadata": {
    "collapsed": true
   },
   "outputs": [],
   "source": [
    "temp_data <- read.csv(\"temp_data.csv\", header=T)\n"
   ]
  },
  {
   "cell_type": "code",
   "execution_count": 2,
   "metadata": {
    "collapsed": false
   },
   "outputs": [
    {
     "data": {
      "text/html": [
       "<table>\n",
       "<thead><tr><th></th><th scope=col>Severity</th><th scope=col>A</th><th scope=col>B</th><th scope=col>C</th><th scope=col>D</th><th scope=col>E</th><th scope=col>F</th><th scope=col>G</th><th scope=col>H</th><th scope=col>I</th></tr></thead>\n",
       "<tbody>\n",
       "\t<tr><th scope=row>1</th><td>1</td><td>97.8</td><td>98.1</td><td>98</td><td>97.3</td><td>97.9</td><td>97.9</td><td>97.1</td><td>98</td><td>97.8</td></tr>\n",
       "\t<tr><th scope=row>2</th><td>1</td><td>97.2</td><td>98.1</td><td>97.8</td><td>97.3</td><td>97.8</td><td>97.9</td><td>97.6</td><td>97.8</td><td>98</td></tr>\n",
       "\t<tr><th scope=row>3</th><td>1</td><td>97.6</td><td>98</td><td>98.1</td><td>97.5</td><td>97.8</td><td>97.8</td><td>97.3</td><td>98</td><td>97.7</td></tr>\n",
       "\t<tr><th scope=row>4</th><td>1</td><td>97.2</td><td>97.7</td><td>97.8</td><td>97.5</td><td>97.7</td><td>97.8</td><td>97.7</td><td>97.9</td><td>97.9</td></tr>\n",
       "\t<tr><th scope=row>5</th><td>1</td><td>97.6</td><td>97.7</td><td>97.9</td><td>97.6</td><td>97.8</td><td>97.6</td><td>97.5</td><td>98</td><td>97.8</td></tr>\n",
       "\t<tr><th scope=row>6</th><td>2</td><td>97.6</td><td>97.8</td><td>97.9</td><td>97.5</td><td>97.8</td><td>98</td><td>97.6</td><td>97.9</td><td>98</td></tr>\n",
       "\t<tr><th scope=row>7</th><td>2</td><td>97.4</td><td>97.7</td><td>98.1</td><td>97.4</td><td>97.8</td><td>97.7</td><td>97.5</td><td>98</td><td>97.6</td></tr>\n",
       "\t<tr><th scope=row>8</th><td>2</td><td>97.3</td><td>97.6</td><td>97.8</td><td>97.5</td><td>97.7</td><td>97.8</td><td>97.6</td><td>97.9</td><td>98</td></tr>\n",
       "\t<tr><th scope=row>9</th><td>2</td><td>97.5</td><td>97.7</td><td>97.8</td><td>97.6</td><td>97.7</td><td>97.9</td><td>97.5</td><td>97.9</td><td>97.9</td></tr>\n",
       "\t<tr><th scope=row>10</th><td>2</td><td>97.5</td><td>97.7</td><td>97.6</td><td>97.7</td><td>97.8</td><td>97.8</td><td>97.3</td><td>97.8</td><td>97.9</td></tr>\n",
       "\t<tr><th scope=row>11</th><td>3</td><td>97.5</td><td>97.6</td><td>98</td><td>97.9</td><td>97.7</td><td>97.9</td><td>97.4</td><td>97.8</td><td>98</td></tr>\n",
       "\t<tr><th scope=row>12</th><td>3</td><td>97.9</td><td>97.7</td><td>97.8</td><td>97.8</td><td>97.8</td><td>98</td><td>97.8</td><td>97.8</td><td>98.1</td></tr>\n",
       "\t<tr><th scope=row>13</th><td>3</td><td>97.6</td><td>97.9</td><td>98.1</td><td>97.8</td><td>97.9</td><td>97.7</td><td>97.4</td><td>98</td><td>97.9</td></tr>\n",
       "\t<tr><th scope=row>14</th><td>3</td><td>97.6</td><td>97.9</td><td>97.7</td><td>97.8</td><td>98</td><td>97.9</td><td>97.6</td><td>97.9</td><td>98.1</td></tr>\n",
       "\t<tr><th scope=row>15</th><td>3</td><td>97.7</td><td>97.8</td><td>98.7</td><td>97.6</td><td>98.1</td><td>97.9</td><td>97.6</td><td>97.8</td><td>97.9</td></tr>\n",
       "</tbody>\n",
       "</table>\n"
      ],
      "text/latex": [
       "\\begin{tabular}{r|llllllllll}\n",
       "  & Severity & A & B & C & D & E & F & G & H & I\\\\\n",
       "\\hline\n",
       "\t1 & 1 & 97.8 & 98.1 & 98 & 97.3 & 97.9 & 97.9 & 97.1 & 98 & 97.8\\\\\n",
       "\t2 & 1 & 97.2 & 98.1 & 97.8 & 97.3 & 97.8 & 97.9 & 97.6 & 97.8 & 98\\\\\n",
       "\t3 & 1 & 97.6 & 98 & 98.1 & 97.5 & 97.8 & 97.8 & 97.3 & 98 & 97.7\\\\\n",
       "\t4 & 1 & 97.2 & 97.7 & 97.8 & 97.5 & 97.7 & 97.8 & 97.7 & 97.9 & 97.9\\\\\n",
       "\t5 & 1 & 97.6 & 97.7 & 97.9 & 97.6 & 97.8 & 97.6 & 97.5 & 98 & 97.8\\\\\n",
       "\t6 & 2 & 97.6 & 97.8 & 97.9 & 97.5 & 97.8 & 98 & 97.6 & 97.9 & 98\\\\\n",
       "\t7 & 2 & 97.4 & 97.7 & 98.1 & 97.4 & 97.8 & 97.7 & 97.5 & 98 & 97.6\\\\\n",
       "\t8 & 2 & 97.3 & 97.6 & 97.8 & 97.5 & 97.7 & 97.8 & 97.6 & 97.9 & 98\\\\\n",
       "\t9 & 2 & 97.5 & 97.7 & 97.8 & 97.6 & 97.7 & 97.9 & 97.5 & 97.9 & 97.9\\\\\n",
       "\t10 & 2 & 97.5 & 97.7 & 97.6 & 97.7 & 97.8 & 97.8 & 97.3 & 97.8 & 97.9\\\\\n",
       "\t11 & 3 & 97.5 & 97.6 & 98 & 97.9 & 97.7 & 97.9 & 97.4 & 97.8 & 98\\\\\n",
       "\t12 & 3 & 97.9 & 97.7 & 97.8 & 97.8 & 97.8 & 98 & 97.8 & 97.8 & 98.1\\\\\n",
       "\t13 & 3 & 97.6 & 97.9 & 98.1 & 97.8 & 97.9 & 97.7 & 97.4 & 98 & 97.9\\\\\n",
       "\t14 & 3 & 97.6 & 97.9 & 97.7 & 97.8 & 98 & 97.9 & 97.6 & 97.9 & 98.1\\\\\n",
       "\t15 & 3 & 97.7 & 97.8 & 98.7 & 97.6 & 98.1 & 97.9 & 97.6 & 97.8 & 97.9\\\\\n",
       "\\end{tabular}\n"
      ],
      "text/plain": [
       "   Severity    A    B    C    D    E    F    G    H    I\n",
       "1         1 97.8 98.1 98.0 97.3 97.9 97.9 97.1 98.0 97.8\n",
       "2         1 97.2 98.1 97.8 97.3 97.8 97.9 97.6 97.8 98.0\n",
       "3         1 97.6 98.0 98.1 97.5 97.8 97.8 97.3 98.0 97.7\n",
       "4         1 97.2 97.7 97.8 97.5 97.7 97.8 97.7 97.9 97.9\n",
       "5         1 97.6 97.7 97.9 97.6 97.8 97.6 97.5 98.0 97.8\n",
       "6         2 97.6 97.8 97.9 97.5 97.8 98.0 97.6 97.9 98.0\n",
       "7         2 97.4 97.7 98.1 97.4 97.8 97.7 97.5 98.0 97.6\n",
       "8         2 97.3 97.6 97.8 97.5 97.7 97.8 97.6 97.9 98.0\n",
       "9         2 97.5 97.7 97.8 97.6 97.7 97.9 97.5 97.9 97.9\n",
       "10        2 97.5 97.7 97.6 97.7 97.8 97.8 97.3 97.8 97.9\n",
       "11        3 97.5 97.6 98.0 97.9 97.7 97.9 97.4 97.8 98.0\n",
       "12        3 97.9 97.7 97.8 97.8 97.8 98.0 97.8 97.8 98.1\n",
       "13        3 97.6 97.9 98.1 97.8 97.9 97.7 97.4 98.0 97.9\n",
       "14        3 97.6 97.9 97.7 97.8 98.0 97.9 97.6 97.9 98.1\n",
       "15        3 97.7 97.8 98.7 97.6 98.1 97.9 97.6 97.8 97.9"
      ]
     },
     "execution_count": 2,
     "metadata": {},
     "output_type": "execute_result"
    }
   ],
   "source": [
    "temp_data"
   ]
  },
  {
   "cell_type": "markdown",
   "metadata": {},
   "source": [
    "#### Identify the design for this experiment."
   ]
  },
  {
   "cell_type": "markdown",
   "metadata": {},
   "source": [
    "#### Write an appropriate statistical model and identify the parameters of the model.\n"
   ]
  },
  {
   "cell_type": "markdown",
   "metadata": {},
   "source": [
    "####  Provide a complete ANOVA table for the model in part (b)\n"
   ]
  },
  {
   "cell_type": "markdown",
   "metadata": {},
   "source": [
    "####  Are the differences in mean temperatures for the nine medications the same for all three severities of the blood pressure disorders? Use a 􏰋 $\\alpha=0.05$."
   ]
  },
  {
   "cell_type": "markdown",
   "metadata": {},
   "source": [
    "#### Use a profile plot to determine any interaction between medication and severity."
   ]
  },
  {
   "cell_type": "code",
   "execution_count": 13,
   "metadata": {
    "collapsed": false,
    "scrolled": true
   },
   "outputs": [
    {
     "data": {
      "text/html": [
       "<table>\n",
       "<thead><tr><th></th><th scope=col>severity</th><th scope=col>drug</th><th scope=col>temp</th></tr></thead>\n",
       "<tbody>\n",
       "\t<tr><th scope=row>1</th><td>1</td><td>A</td><td>97.8</td></tr>\n",
       "\t<tr><th scope=row>2</th><td>1</td><td>A</td><td>97.2</td></tr>\n",
       "\t<tr><th scope=row>3</th><td>1</td><td>A</td><td>97.6</td></tr>\n",
       "\t<tr><th scope=row>4</th><td>1</td><td>A</td><td>97.2</td></tr>\n",
       "\t<tr><th scope=row>5</th><td>1</td><td>A</td><td>97.6</td></tr>\n",
       "\t<tr><th scope=row>6</th><td>2</td><td>A</td><td>97.6</td></tr>\n",
       "</tbody>\n",
       "</table>\n"
      ],
      "text/latex": [
       "\\begin{tabular}{r|lll}\n",
       "  & severity & drug & temp\\\\\n",
       "\\hline\n",
       "\t1 & 1 & A & 97.8\\\\\n",
       "\t2 & 1 & A & 97.2\\\\\n",
       "\t3 & 1 & A & 97.6\\\\\n",
       "\t4 & 1 & A & 97.2\\\\\n",
       "\t5 & 1 & A & 97.6\\\\\n",
       "\t6 & 2 & A & 97.6\\\\\n",
       "\\end{tabular}\n"
      ],
      "text/plain": [
       "  severity drug temp\n",
       "1        1    A 97.8\n",
       "2        1    A 97.2\n",
       "3        1    A 97.6\n",
       "4        1    A 97.2\n",
       "5        1    A 97.6\n",
       "6        2    A 97.6"
      ]
     },
     "execution_count": 13,
     "metadata": {},
     "output_type": "execute_result"
    }
   ],
   "source": [
    "## b.\n",
    "\n",
    "### --- the first part is kind of ugly\n",
    "library(reshape2)\n",
    "\n",
    "temp_data_m <- melt(temp_data, id.vars=\"Severity\")\n",
    "colnames(temp_data_m) <- c(\"severity\", \"drug\", \"temp\")\n",
    "\n",
    "head(temp_data_m)"
   ]
  },
  {
   "cell_type": "code",
   "execution_count": 14,
   "metadata": {
    "collapsed": true
   },
   "outputs": [],
   "source": [
    "modl1<- lm(temp ~ drug + severity + drug:severity, data=temp_data_m)"
   ]
  },
  {
   "cell_type": "code",
   "execution_count": 15,
   "metadata": {
    "collapsed": false
   },
   "outputs": [
    {
     "data": {
      "text/html": [
       "<table>\n",
       "<thead><tr><th></th><th scope=col>Df</th><th scope=col>Sum Sq</th><th scope=col>Mean Sq</th><th scope=col>F value</th><th scope=col>Pr(>F)</th></tr></thead>\n",
       "<tbody>\n",
       "\t<tr><th scope=row>drug</th><td>8</td><td>3.511704</td><td>0.438963</td><td>17.76502</td><td>3.996259e-17</td></tr>\n",
       "\t<tr><th scope=row>severity</th><td>1</td><td>0.225</td><td>0.225</td><td>9.105846</td><td>0.003127218</td></tr>\n",
       "\t<tr><th scope=row>drug:severity</th><td>8</td><td>0.4</td><td>0.05</td><td>2.023521</td><td>0.04939538</td></tr>\n",
       "\t<tr><th scope=row>Residuals</th><td>117</td><td>2.891</td><td>0.0247094</td><td>NA</td><td>NA</td></tr>\n",
       "</tbody>\n",
       "</table>\n"
      ],
      "text/latex": [
       "\\begin{tabular}{r|lllll}\n",
       "  & Df & Sum Sq & Mean Sq & F value & Pr(>F)\\\\\n",
       "\\hline\n",
       "\tdrug & 8 & 3.511704 & 0.438963 & 17.76502 & 3.996259e-17\\\\\n",
       "\tseverity & 1 & 0.225 & 0.225 & 9.105846 & 0.003127218\\\\\n",
       "\tdrug:severity & 8 & 0.4 & 0.05 & 2.023521 & 0.04939538\\\\\n",
       "\tResiduals & 117 & 2.891 & 0.0247094 & NA & NA\\\\\n",
       "\\end{tabular}\n"
      ],
      "text/plain": [
       "Analysis of Variance Table\n",
       "\n",
       "Response: temp\n",
       "               Df Sum Sq Mean Sq F value    Pr(>F)    \n",
       "drug            8 3.5117 0.43896 17.7650 < 2.2e-16 ***\n",
       "severity        1 0.2250 0.22500  9.1058  0.003127 ** \n",
       "drug:severity   8 0.4000 0.05000  2.0235  0.049395 *  \n",
       "Residuals     117 2.8910 0.02471                      \n",
       "---\n",
       "Signif. codes:  0 ‘***’ 0.001 ‘**’ 0.01 ‘*’ 0.05 ‘.’ 0.1 ‘ ’ 1"
      ]
     },
     "execution_count": 15,
     "metadata": {},
     "output_type": "execute_result"
    }
   ],
   "source": [
    "anova(modl1)"
   ]
  },
  {
   "cell_type": "code",
   "execution_count": 17,
   "metadata": {
    "collapsed": false
   },
   "outputs": [
    {
     "data": {
      "image/png": "[encoded data removed]",
      "text/plain": [
       "plot without title"
      ]
     },
     "metadata": {
      "image/svg+xml": {
       "isolated": true
      }
     },
     "output_type": "display_data"
    }
   ],
   "source": [
    "with(temp_data_m, interaction.plot(x.factor = drug, trace.factor = severity, response = temp))"
   ]
  },
  {
   "cell_type": "markdown",
   "metadata": {},
   "source": [
    "2. An experiment was conducted to investigate heat loss for five different designs of commercial thermal panes. The researcher in order to obtain results that would be applicable throughout most regions of the country decided to evaluate the panes at five temperatures, 0°F, 20°F, 40°F, 60°F, and 80°F. A sample of 10 panes of each design was obtained. Two panes of each design were randomly assigned to each of the five exterior temperature settings. The interior temperature of the test was controlled at 70°F for all five exterior temperatures. The heat losses associated with the five pane designs are given here."
   ]
  },
  {
   "cell_type": "code",
   "execution_count": 32,
   "metadata": {
    "collapsed": false
   },
   "outputs": [],
   "source": [
    "heat_data <- read.csv(\"heat_data.TXT\", header = T)"
   ]
  },
  {
   "cell_type": "code",
   "execution_count": 33,
   "metadata": {
    "collapsed": false
   },
   "outputs": [],
   "source": [
    "colnames(heat_data)<-c(\"heat_loss\", \"pane_design\", \"temp_setting\")\n",
    "heat_data$pane_design<-factor(heat_data$pane_design)"
   ]
  },
  {
   "cell_type": "code",
   "execution_count": 34,
   "metadata": {
    "collapsed": false
   },
   "outputs": [
    {
     "data": {
      "text/html": [
       "<table>\n",
       "<thead><tr><th></th><th scope=col>heat_loss</th><th scope=col>pane_design</th><th scope=col>temp_setting</th></tr></thead>\n",
       "<tbody>\n",
       "\t<tr><th scope=row>1</th><td>7.2</td><td>'A'</td><td>80</td></tr>\n",
       "\t<tr><th scope=row>2</th><td>8.1</td><td>'A'</td><td>60</td></tr>\n",
       "\t<tr><th scope=row>3</th><td>9</td><td>'A'</td><td>40</td></tr>\n",
       "\t<tr><th scope=row>4</th><td>9.2</td><td>'A'</td><td>20</td></tr>\n",
       "\t<tr><th scope=row>5</th><td>10.2</td><td>'A'</td><td>0</td></tr>\n",
       "\t<tr><th scope=row>6</th><td>7.8</td><td>'A'</td><td>80</td></tr>\n",
       "\t<tr><th scope=row>7</th><td>8.1</td><td>'A'</td><td>60</td></tr>\n",
       "\t<tr><th scope=row>8</th><td>9.9</td><td>'A'</td><td>40</td></tr>\n",
       "\t<tr><th scope=row>9</th><td>9.8</td><td>'A'</td><td>20</td></tr>\n",
       "\t<tr><th scope=row>10</th><td>10.8</td><td>'A'</td><td>0</td></tr>\n",
       "\t<tr><th scope=row>11</th><td>7.1</td><td>'B'</td><td>80</td></tr>\n",
       "\t<tr><th scope=row>12</th><td>8</td><td>'B'</td><td>60</td></tr>\n",
       "\t<tr><th scope=row>13</th><td>9.2</td><td>'B'</td><td>40</td></tr>\n",
       "\t<tr><th scope=row>14</th><td>9.1</td><td>'B'</td><td>20</td></tr>\n",
       "\t<tr><th scope=row>15</th><td>10.1</td><td>'B'</td><td>0</td></tr>\n",
       "\t<tr><th scope=row>16</th><td>7.9</td><td>'B'</td><td>80</td></tr>\n",
       "\t<tr><th scope=row>17</th><td>8.9</td><td>'B'</td><td>60</td></tr>\n",
       "\t<tr><th scope=row>18</th><td>9.8</td><td>'B'</td><td>40</td></tr>\n",
       "\t<tr><th scope=row>19</th><td>9.9</td><td>'B'</td><td>20</td></tr>\n",
       "\t<tr><th scope=row>20</th><td>10.9</td><td>'B'</td><td>0</td></tr>\n",
       "\t<tr><th scope=row>21</th><td>7.9</td><td>'C'</td><td>80</td></tr>\n",
       "\t<tr><th scope=row>22</th><td>8.9</td><td>'C'</td><td>60</td></tr>\n",
       "\t<tr><th scope=row>23</th><td>9.8</td><td>'C'</td><td>40</td></tr>\n",
       "\t<tr><th scope=row>24</th><td>9.9</td><td>'C'</td><td>20</td></tr>\n",
       "\t<tr><th scope=row>25</th><td>10.9</td><td>'C'</td><td>0</td></tr>\n",
       "\t<tr><th scope=row>26</th><td>8.1</td><td>'C'</td><td>80</td></tr>\n",
       "\t<tr><th scope=row>27</th><td>8.2</td><td>'C'</td><td>60</td></tr>\n",
       "\t<tr><th scope=row>28</th><td>10</td><td>'C'</td><td>40</td></tr>\n",
       "\t<tr><th scope=row>29</th><td>10.1</td><td>'C'</td><td>20</td></tr>\n",
       "\t<tr><th scope=row>30</th><td>11.1</td><td>'C'</td><td>0</td></tr>\n",
       "\t<tr><th scope=row>31</th><td>8.1</td><td>'D'</td><td>80</td></tr>\n",
       "\t<tr><th scope=row>32</th><td>8.9</td><td>'D'</td><td>60</td></tr>\n",
       "\t<tr><th scope=row>33</th><td>10.8</td><td>'D'</td><td>40</td></tr>\n",
       "\t<tr><th scope=row>34</th><td>10.8</td><td>'D'</td><td>20</td></tr>\n",
       "\t<tr><th scope=row>35</th><td>11.8</td><td>'D'</td><td>0</td></tr>\n",
       "\t<tr><th scope=row>36</th><td>8.3</td><td>'D'</td><td>80</td></tr>\n",
       "\t<tr><th scope=row>37</th><td>8.1</td><td>'D'</td><td>60</td></tr>\n",
       "\t<tr><th scope=row>38</th><td>10.2</td><td>'D'</td><td>40</td></tr>\n",
       "\t<tr><th scope=row>39</th><td>10.3</td><td>'D'</td><td>20</td></tr>\n",
       "\t<tr><th scope=row>40</th><td>11.3</td><td>'D'</td><td>0</td></tr>\n",
       "\t<tr><th scope=row>41</th><td>9.3</td><td>'E'</td><td>80</td></tr>\n",
       "\t<tr><th scope=row>42</th><td>9.2</td><td>'E'</td><td>60</td></tr>\n",
       "\t<tr><th scope=row>43</th><td>9.9</td><td>'E'</td><td>40</td></tr>\n",
       "\t<tr><th scope=row>44</th><td>9.3</td><td>'E'</td><td>20</td></tr>\n",
       "\t<tr><th scope=row>45</th><td>9.3</td><td>'E'</td><td>0</td></tr>\n",
       "\t<tr><th scope=row>46</th><td>9.8</td><td>'E'</td><td>80</td></tr>\n",
       "\t<tr><th scope=row>47</th><td>9.9</td><td>'E'</td><td>60</td></tr>\n",
       "\t<tr><th scope=row>48</th><td>9</td><td>'E'</td><td>40</td></tr>\n",
       "\t<tr><th scope=row>49</th><td>9.8</td><td>'E'</td><td>20</td></tr>\n",
       "\t<tr><th scope=row>50</th><td>9.9</td><td>'E'</td><td>0</td></tr>\n",
       "</tbody>\n",
       "</table>\n"
      ],
      "text/latex": [
       "\\begin{tabular}{r|lll}\n",
       "  & heat_loss & pane_design & temp_setting\\\\\n",
       "\\hline\n",
       "\t1 & 7.2 & 'A' & 80\\\\\n",
       "\t2 & 8.1 & 'A' & 60\\\\\n",
       "\t3 & 9 & 'A' & 40\\\\\n",
       "\t4 & 9.2 & 'A' & 20\\\\\n",
       "\t5 & 10.2 & 'A' & 0\\\\\n",
       "\t6 & 7.8 & 'A' & 80\\\\\n",
       "\t7 & 8.1 & 'A' & 60\\\\\n",
       "\t8 & 9.9 & 'A' & 40\\\\\n",
       "\t9 & 9.8 & 'A' & 20\\\\\n",
       "\t10 & 10.8 & 'A' & 0\\\\\n",
       "\t11 & 7.1 & 'B' & 80\\\\\n",
       "\t12 & 8 & 'B' & 60\\\\\n",
       "\t13 & 9.2 & 'B' & 40\\\\\n",
       "\t14 & 9.1 & 'B' & 20\\\\\n",
       "\t15 & 10.1 & 'B' & 0\\\\\n",
       "\t16 & 7.9 & 'B' & 80\\\\\n",
       "\t17 & 8.9 & 'B' & 60\\\\\n",
       "\t18 & 9.8 & 'B' & 40\\\\\n",
       "\t19 & 9.9 & 'B' & 20\\\\\n",
       "\t20 & 10.9 & 'B' & 0\\\\\n",
       "\t21 & 7.9 & 'C' & 80\\\\\n",
       "\t22 & 8.9 & 'C' & 60\\\\\n",
       "\t23 & 9.8 & 'C' & 40\\\\\n",
       "\t24 & 9.9 & 'C' & 20\\\\\n",
       "\t25 & 10.9 & 'C' & 0\\\\\n",
       "\t26 & 8.1 & 'C' & 80\\\\\n",
       "\t27 & 8.2 & 'C' & 60\\\\\n",
       "\t28 & 10 & 'C' & 40\\\\\n",
       "\t29 & 10.1 & 'C' & 20\\\\\n",
       "\t30 & 11.1 & 'C' & 0\\\\\n",
       "\t31 & 8.1 & 'D' & 80\\\\\n",
       "\t32 & 8.9 & 'D' & 60\\\\\n",
       "\t33 & 10.8 & 'D' & 40\\\\\n",
       "\t34 & 10.8 & 'D' & 20\\\\\n",
       "\t35 & 11.8 & 'D' & 0\\\\\n",
       "\t36 & 8.3 & 'D' & 80\\\\\n",
       "\t37 & 8.1 & 'D' & 60\\\\\n",
       "\t38 & 10.2 & 'D' & 40\\\\\n",
       "\t39 & 10.3 & 'D' & 20\\\\\n",
       "\t40 & 11.3 & 'D' & 0\\\\\n",
       "\t41 & 9.3 & 'E' & 80\\\\\n",
       "\t42 & 9.2 & 'E' & 60\\\\\n",
       "\t43 & 9.9 & 'E' & 40\\\\\n",
       "\t44 & 9.3 & 'E' & 20\\\\\n",
       "\t45 & 9.3 & 'E' & 0\\\\\n",
       "\t46 & 9.8 & 'E' & 80\\\\\n",
       "\t47 & 9.9 & 'E' & 60\\\\\n",
       "\t48 & 9 & 'E' & 40\\\\\n",
       "\t49 & 9.8 & 'E' & 20\\\\\n",
       "\t50 & 9.9 & 'E' & 0\\\\\n",
       "\\end{tabular}\n"
      ],
      "text/plain": [
       "   heat_loss pane_design temp_setting\n",
       "1        7.2         'A'           80\n",
       "2        8.1         'A'           60\n",
       "3        9.0         'A'           40\n",
       "4        9.2         'A'           20\n",
       "5       10.2         'A'            0\n",
       "6        7.8         'A'           80\n",
       "7        8.1         'A'           60\n",
       "8        9.9         'A'           40\n",
       "9        9.8         'A'           20\n",
       "10      10.8         'A'            0\n",
       "11       7.1         'B'           80\n",
       "12       8.0         'B'           60\n",
       "13       9.2         'B'           40\n",
       "14       9.1         'B'           20\n",
       "15      10.1         'B'            0\n",
       "16       7.9         'B'           80\n",
       "17       8.9         'B'           60\n",
       "18       9.8         'B'           40\n",
       "19       9.9         'B'           20\n",
       "20      10.9         'B'            0\n",
       "21       7.9         'C'           80\n",
       "22       8.9         'C'           60\n",
       "23       9.8         'C'           40\n",
       "24       9.9         'C'           20\n",
       "25      10.9         'C'            0\n",
       "26       8.1         'C'           80\n",
       "27       8.2         'C'           60\n",
       "28      10.0         'C'           40\n",
       "29      10.1         'C'           20\n",
       "30      11.1         'C'            0\n",
       "31       8.1         'D'           80\n",
       "32       8.9         'D'           60\n",
       "33      10.8         'D'           40\n",
       "34      10.8         'D'           20\n",
       "35      11.8         'D'            0\n",
       "36       8.3         'D'           80\n",
       "37       8.1         'D'           60\n",
       "38      10.2         'D'           40\n",
       "39      10.3         'D'           20\n",
       "40      11.3         'D'            0\n",
       "41       9.3         'E'           80\n",
       "42       9.2         'E'           60\n",
       "43       9.9         'E'           40\n",
       "44       9.3         'E'           20\n",
       "45       9.3         'E'            0\n",
       "46       9.8         'E'           80\n",
       "47       9.9         'E'           60\n",
       "48       9.0         'E'           40\n",
       "49       9.8         'E'           20\n",
       "50       9.9         'E'            0"
      ]
     },
     "execution_count": 34,
     "metadata": {},
     "output_type": "execute_result"
    }
   ],
   "source": [
    "heat_data"
   ]
  },
  {
   "cell_type": "markdown",
   "metadata": {},
   "source": [
    "#### a. Identify the experimental design and write an appropriate statistical model."
   ]
  },
  {
   "cell_type": "markdown",
   "metadata": {},
   "source": [
    "#### b. Is there a significant difference in the mean heat loss of the five pane designs?"
   ]
  },
  {
   "cell_type": "markdown",
   "metadata": {},
   "source": [
    "#### c. Are the differences in the five designs consistent across the five temperatures? Use a profile plot in reaching your conclusion."
   ]
  },
  {
   "cell_type": "markdown",
   "metadata": {},
   "source": [
    "#### d. Use Tukey’s W procedure at an $\\alpha=0.05$ level to compare the mean heat loss for the five pane designs."
   ]
  },
  {
   "cell_type": "markdown",
   "metadata": {},
   "source": [
    "In testing food products for palatability, General Foods employed a 7-point scale from -3 (terrible to +3 (excellent) with 0 representing \"average\". Their standard method for testing palatability was to conduct a taste test with 50 persons - 25 men and 25 women. The experiment reported here involved the effects on palatability of a course versus fine screen and of a low versus high concentration of a liquid compo- nent. Four groups of 50 consumers each were recruited from local churches and club groups. Persons were assigned randomly to the four treatment groups as they were recruited. The experiment was replicated four times, so that there were 16 groups of 50 consumers each in the entire experiment.\n",
    "Taken from (E. Street and M.G. Carroll, \"Preliminary Evaluation of a Food Product,\" in Statistics: A Guide to the Unknown (Judith M. Tanur, Ed.) Holden-Day, San Francisco, 1972, 220-238)\n"
   ]
  },
  {
   "cell_type": "code",
   "execution_count": 35,
   "metadata": {
    "collapsed": true
   },
   "outputs": [],
   "source": [
    "taste_test <- read.csv(\"taste_test.txt\", sep=\"\")"
   ]
  },
  {
   "cell_type": "code",
   "execution_count": 36,
   "metadata": {
    "collapsed": true
   },
   "outputs": [],
   "source": [
    "model_1 <- lm(SCORE ~ SCR*LIQ, data=taste_test)"
   ]
  },
  {
   "cell_type": "markdown",
   "metadata": {},
   "source": [
    "a. Test the assumptions of ANOVA (i.e. Normality, Constant Variance, etc. You can use either statistical tests or Diagnostic Plots for these).\n",
    "\n",
    "b. Is the interaction term between SCR and LIQ statistically significant at the $\\alpha=0.05$ level?\n"
   ]
  }
 ],
 "metadata": {
  "kernelspec": {
   "display_name": "R",
   "language": "R",
   "name": "ir"
  },
  "language_info": {
   "codemirror_mode": "r",
   "file_extension": ".r",
   "mimetype": "text/x-r-source",
   "name": "R",
   "pygments_lexer": "r",
   "version": "3.2.2"
  }
 },
 "nbformat": 4,
 "nbformat_minor": 0
}
