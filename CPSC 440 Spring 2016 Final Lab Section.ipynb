{
 "cells": [
  {
   "cell_type": "markdown",
   "metadata": {},
   "source": [
    "####  Problem 1. Grab a donut.\n",
    "\n",
    "#### Problem 2. Eat donut.\n",
    "\n",
    "\n",
    "#### Problem 3. Please attempt to sustain attention while I talk about the lack of fit test for awhile/review homework.\n",
    "\n",
    "#### Let's go over some of the review questions.\n",
    "\n",
    "#### Quiz time.\n",
    "\n",
    "https://www.youtube.com/watch?v=xGytDsqkQY8"
   ]
  },
  {
   "cell_type": "code",
   "execution_count": null,
   "metadata": {
    "collapsed": true
   },
   "outputs": [],
   "source": []
  }
 ],
 "metadata": {
  "kernelspec": {
   "display_name": "R",
   "language": "R",
   "name": "ir"
  },
  "language_info": {
   "codemirror_mode": "r",
   "file_extension": ".r",
   "mimetype": "text/x-r-source",
   "name": "R",
   "pygments_lexer": "r",
   "version": "3.2.2"
  }
 },
 "nbformat": 4,
 "nbformat_minor": 0
}
