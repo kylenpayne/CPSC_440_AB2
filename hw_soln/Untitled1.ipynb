{
 "cells": [
  {
   "cell_type": "code",
   "execution_count": 2,
   "metadata": {
    "collapsed": false
   },
   "outputs": [
    {
     "data": {
      "text/html": [
       "<table>\n",
       "<thead><tr><th></th><th scope=col>x</th><th scope=col>y</th></tr></thead>\n",
       "<tbody>\n",
       "\t<tr><th scope=row>1</th><td>5</td><td>78.2</td></tr>\n",
       "\t<tr><th scope=row>2</th><td>5</td><td>76.79</td></tr>\n",
       "\t<tr><th scope=row>3</th><td>5</td><td>82.26</td></tr>\n",
       "\t<tr><th scope=row>4</th><td>10</td><td>313.12</td></tr>\n",
       "\t<tr><th scope=row>5</th><td>10</td><td>309.69</td></tr>\n",
       "\t<tr><th scope=row>6</th><td>10</td><td>318.32</td></tr>\n",
       "\t<tr><th scope=row>7</th><td>15</td><td>701.57</td></tr>\n",
       "\t<tr><th scope=row>8</th><td>15</td><td>701.75</td></tr>\n",
       "\t<tr><th scope=row>9</th><td>15</td><td>698.7</td></tr>\n",
       "\t<tr><th scope=row>10</th><td>20</td><td>1233.38</td></tr>\n",
       "\t<tr><th scope=row>11</th><td>20</td><td>1234.84</td></tr>\n",
       "\t<tr><th scope=row>12</th><td>20</td><td>1238.8</td></tr>\n",
       "</tbody>\n",
       "</table>\n"
      ],
      "text/latex": [
       "\\begin{tabular}{r|ll}\n",
       "  & x & y\\\\\n",
       "\\hline\n",
       "\t1 & 5 & 78.2\\\\\n",
       "\t2 & 5 & 76.79\\\\\n",
       "\t3 & 5 & 82.26\\\\\n",
       "\t4 & 10 & 313.12\\\\\n",
       "\t5 & 10 & 309.69\\\\\n",
       "\t6 & 10 & 318.32\\\\\n",
       "\t7 & 15 & 701.57\\\\\n",
       "\t8 & 15 & 701.75\\\\\n",
       "\t9 & 15 & 698.7\\\\\n",
       "\t10 & 20 & 1233.38\\\\\n",
       "\t11 & 20 & 1234.84\\\\\n",
       "\t12 & 20 & 1238.8\\\\\n",
       "\\end{tabular}\n"
      ],
      "text/plain": [
       "    x       y\n",
       "1   5   78.20\n",
       "2   5   76.79\n",
       "3   5   82.26\n",
       "4  10  313.12\n",
       "5  10  309.69\n",
       "6  10  318.32\n",
       "7  15  701.57\n",
       "8  15  701.75\n",
       "9  15  698.70\n",
       "10 20 1233.38\n",
       "11 20 1234.84\n",
       "12 20 1238.80"
      ]
     },
     "execution_count": 2,
     "metadata": {},
     "output_type": "execute_result"
    }
   ],
   "source": [
    "data <- scan(text='\n",
    "5 78.20\n",
    "5 76.79\n",
    "5 82.26\n",
    "10 313.12\n",
    "10 309.69\n",
    "10 318.32\n",
    "15 701.57\n",
    "15 701.75\n",
    "15 698.70\n",
    "20 1233.38\n",
    "20 1234.84\n",
    "20 1238.80')\n",
    "data<-matrix(data, byrow = T,ncol=2)\n",
    "data<-data.frame(data)\n",
    "colnames(data)<-c(\"x\", \"y\")\n",
    "data"
   ]
  },
  {
   "cell_type": "code",
   "execution_count": 6,
   "metadata": {
    "collapsed": false
   },
   "outputs": [],
   "source": [
    "modl <- lm(y~x, data=data)"
   ]
  },
  {
   "cell_type": "code",
   "execution_count": 7,
   "metadata": {
    "collapsed": false
   },
   "outputs": [
    {
     "data": {
      "text/html": [
       "<table>\n",
       "<thead><tr><th></th><th scope=col>Res.Df</th><th scope=col>RSS</th><th scope=col>Df</th><th scope=col>Sum of Sq</th><th scope=col>F</th><th scope=col>Pr(>F)</th></tr></thead>\n",
       "<tbody>\n",
       "\t<tr><th scope=row>1</th><td>10</td><td>67746.36</td><td>NA</td><td>NA</td><td>NA</td><td>NA</td></tr>\n",
       "\t<tr><th scope=row>2</th><td>8</td><td>75.4786</td><td>2</td><td>67670.88</td><td>3586.229</td><td>1.540819e-12</td></tr>\n",
       "</tbody>\n",
       "</table>\n"
      ],
      "text/latex": [
       "\\begin{tabular}{r|llllll}\n",
       "  & Res.Df & RSS & Df & Sum of Sq & F & Pr(>F)\\\\\n",
       "\\hline\n",
       "\t1 & 10 & 67746.36 & NA & NA & NA & NA\\\\\n",
       "\t2 & 8 & 75.4786 & 2 & 67670.88 & 3586.229 & 1.540819e-12\\\\\n",
       "\\end{tabular}\n"
      ],
      "text/plain": [
       "Analysis of Variance Table\n",
       "\n",
       "Model 1: y ~ x\n",
       "Model 2: y ~ factor(x)\n",
       "  Res.Df   RSS Df Sum of Sq      F    Pr(>F)    \n",
       "1     10 67746                                  \n",
       "2      8    75  2     67671 3586.2 1.541e-12 ***\n",
       "---\n",
       "Signif. codes:  0 ‘***’ 0.001 ‘**’ 0.01 ‘*’ 0.05 ‘.’ 0.1 ‘ ’ 1"
      ]
     },
     "execution_count": 7,
     "metadata": {},
     "output_type": "execute_result"
    }
   ],
   "source": [
    "modl_lof <-lm(y ~ factor(x), data=data)\n",
    "\n",
    "anova(modl, modl_lof)"
   ]
  },
  {
   "cell_type": "code",
   "execution_count": 10,
   "metadata": {
    "collapsed": false
   },
   "outputs": [
    {
     "data": {
      "text/html": [
       "75.4785999999992"
      ],
      "text/latex": [
       "75.4785999999992"
      ],
      "text/markdown": [
       "75.4785999999992"
      ],
      "text/plain": [
       "[1] 75.4786"
      ]
     },
     "execution_count": 10,
     "metadata": {},
     "output_type": "execute_result"
    }
   ],
   "source": [
    "library(plyr)\n",
    "\n",
    "ys <- ddply(data, .(x), summarize, sum((y-mean(y))^2))\n",
    "colnames(ys)<-c(\"x\",\"y\")\n",
    "sum(ys$y)"
   ]
  },
  {
   "cell_type": "code",
   "execution_count": 16,
   "metadata": {
    "collapsed": false
   },
   "outputs": [
    {
     "data": {
      "text/html": [
       "67670.8814"
      ],
      "text/latex": [
       "67670.8814"
      ],
      "text/markdown": [
       "67670.8814"
      ],
      "text/plain": [
       "[1] 67670.88"
      ]
     },
     "execution_count": 16,
     "metadata": {},
     "output_type": "execute_result"
    }
   ],
   "source": [
    "67746.36 - 75.4786"
   ]
  },
  {
   "cell_type": "code",
   "execution_count": 13,
   "metadata": {
    "collapsed": false
   },
   "outputs": [
    {
     "data": {
      "text/html": [
       "67746.3586"
      ],
      "text/latex": [
       "67746.3586"
      ],
      "text/markdown": [
       "67746.3586"
      ],
      "text/plain": [
       "[1] 67746.36"
      ]
     },
     "execution_count": 13,
     "metadata": {},
     "output_type": "execute_result"
    }
   ],
   "source": []
  },
  {
   "cell_type": "code",
   "execution_count": null,
   "metadata": {
    "collapsed": true
   },
   "outputs": [],
   "source": []
  }
 ],
 "metadata": {
  "kernelspec": {
   "display_name": "R",
   "language": "R",
   "name": "ir"
  },
  "language_info": {
   "codemirror_mode": "r",
   "file_extension": ".r",
   "mimetype": "text/x-r-source",
   "name": "R",
   "pygments_lexer": "r",
   "version": "3.2.2"
  }
 },
 "nbformat": 4,
 "nbformat_minor": 0
}
