{
 "cells": [
  {
   "cell_type": "markdown",
   "metadata": {},
   "source": [
    "You are given a matrix A and a vector b (both are given to you as numpy arrays):\n",
    "\n",
    "Implement Gaussian Elimination with no pivoting, to factor the matrix as A=LUA=LU. Store these as numpy arrays L and U.\n",
    "\n",
    "Implement two successive backward/forward substitutions to solve for the vector xx that satisfies Ax=bAx=b. Store this as a numpy array x.\n",
    "\n",
    "Neither the LU factorization, nor the triangular substitutions can be performed with scipy or numpy library functions.\n",
    "\n",
    "inputs: A,b\n",
    "\n",
    "outputs: L,U,x"
   ]
  },
  {
   "cell_type": "code",
   "execution_count": 7,
   "metadata": {
    "collapsed": false
   },
   "outputs": [
    {
     "data": {
      "text/plain": [
       "array([[ -6.,   3.,  -2.,   4.],\n",
       "       [ -2.,   7.,   1.,   6.],\n",
       "       [-12.,   1.,  -2.,  -1.],\n",
       "       [  2.,   5.,   3.,  -0.]])"
      ]
     },
     "execution_count": 7,
     "metadata": {},
     "output_type": "execute_result"
    }
   ],
   "source": [
    "import numpy as np \n",
    "import numpy.linalg as la\n",
    "np.random.seed(400)\n",
    "n = 4\n",
    "A = np.round(np.random.randn(n, n) * 5)\n",
    "A"
   ]
  },
  {
   "cell_type": "markdown",
   "metadata": {},
   "source": [
    "## If there are n rows in the matrix, then there are n-1 elimination\n",
    "## matrices for the elimination of the first column\n"
   ]
  },
  {
   "cell_type": "code",
   "execution_count": 10,
   "metadata": {
    "collapsed": false
   },
   "outputs": [
    {
     "data": {
      "text/plain": [
       "array([[ 1.        ,  0.        ,  0.        ,  0.        ],\n",
       "       [ 0.33333333,  1.        ,  0.        ,  0.        ],\n",
       "       [ 2.        , -0.83333333,  1.        ,  0.        ],\n",
       "       [-0.33333333,  1.        ,  0.19672131,  1.        ]])"
      ]
     },
     "execution_count": 10,
     "metadata": {},
     "output_type": "execute_result"
    }
   ],
   "source": [
    "### ---- this is the better solution, and doesn't take as much time\n",
    "### ---- to get the L matrix as the second solution below\n",
    "def gelim(A,n):\n",
    "    '''\n",
    "    returns a dictionary of L, U\n",
    "    '''\n",
    "    ## set the temp U matrix to a copy of the A matrix\n",
    "    # set the temp L matrix to identity\n",
    "    l_tmp = np.identity(n)\n",
    "    u_tmp = A.copy()\n",
    "    \n",
    "    # --- the product of the inverse matricies\n",
    "    # --- is just the identity + all of the below diagonal elements\n",
    "\n",
    "    for j in range(0, n):\n",
    "        pivot = u_tmp[j,j]\n",
    "        for k in range(j+1, n):\n",
    "            m = np.identity(n)\n",
    "            m[k, j] = -(pivot**(-1))*u_tmp[k,j]\n",
    "            l_tmp[k, j] = (pivot**(-1))*u_tmp[k,j]\n",
    "            u_tmp = np.dot(m, u_tmp)\n",
    "            \n",
    "\n",
    "    \n",
    "    L = l_tmp\n",
    "    U = u_tmp\n",
    "    return {\"L\": L, \"U\": U}\n",
    "\n",
    "\n",
    "\n",
    "def Ly_solve(L, b, n):\n",
    "    ycomp = np.zeros(n)\n",
    "    ## ---- forward step\n",
    "    for i in range(0, n):\n",
    "        tmp = b[i]\n",
    "        for j in range(0, n):\n",
    "            tmp -= ycomp[j]*L[i,j]\n",
    "        ycomp[i] = tmp/L[i,i]\n",
    "        \n",
    "    return ycomp\n",
    "\n",
    "\n",
    "def Ux_solve(U, y,n):\n",
    "    xcomp = np.zeros(n)\n",
    "    for i in range(n-1, -1, -1):\n",
    "        tmp = y[i]\n",
    "        for j in range(n-1, i, -1):\n",
    "            tmp -= xcomp[j]*U[i,j]\n",
    "        xcomp[i] = tmp/U[i,i]\n",
    "    \n",
    "    return xcomp\n",
    "\n",
    "        \n",
    "\n",
    "def lu_solver(A, b):\n",
    "    dim = A.shape\n",
    "    n = dim[0]\n",
    "    B = gelim(A, n)\n",
    "    ## LU factorize, then solve using back\n",
    "    ## -ward substitution.\n",
    "    L = B[\"L\"]\n",
    "    U = B[\"U\"]    \n",
    "    ycomp = Ly_solve(L, b, n)\n",
    "    xcomp = Ux_solve(U, ycomp, n)\n",
    "\n",
    "    return {\"L\": L, \"U\" : U, \"x\" : xcomp}\n",
    "\n",
    "\n",
    "ret = lu_solver(A,b)\n",
    "\n",
    "L = ret[\"L\"]\n",
    "U = ret[\"U\"]\n",
    "x = ret[\"x\"]"
   ]
  },
  {
   "cell_type": "code",
   "execution_count": 11,
   "metadata": {
    "collapsed": false
   },
   "outputs": [
    {
     "name": "stdout",
     "output_type": "stream",
     "text": [
      "[[ -6.   3.  -2.   4.]\n",
      " [ -2.   7.   1.   6.]\n",
      " [-12.   1.  -2.  -1.]\n",
      " [  2.   5.   3.   0.]] \n",
      " [[ -6.   3.  -2.   4.]\n",
      " [ -2.   7.   1.   6.]\n",
      " [-12.   1.  -2.  -1.]\n",
      " [  2.   5.   3.  -0.]]\n"
     ]
    }
   ],
   "source": [
    "print(np.dot(L,U) ,\"\\n\", A)"
   ]
  },
  {
   "cell_type": "code",
   "execution_count": 29,
   "metadata": {
    "collapsed": false
   },
   "outputs": [
    {
     "name": "stdout",
     "output_type": "stream",
     "text": [
      "ycomp looks like:  [-1.24382633  0.41538626 -0.0058204   1.86513418] y original looks like [-1.24382633  0.41538626 -0.0058204   1.86513418]\n"
     ]
    }
   ],
   "source": [
    "import numpy as np\n",
    "def gelim(A):\n",
    "    '''\n",
    "    returns a dictionary of L, U\n",
    "    '''\n",
    "    ## set the temp U matrix to a copy of the A matrix\n",
    "    # set the temp L matrix to identity\n",
    "    dim = A.shape\n",
    "    l_tmp = np.identity(dim[0])\n",
    "    u_tmp = A.copy()\n",
    "    \n",
    "    ## ---- create a list of inverse elimination matricies\n",
    "    ## ---- to store the results,\n",
    "    m_inv_list = []\n",
    "    \n",
    "    for j in range(0, dim[1]):\n",
    "        pivot = u_tmp[j,j]\n",
    "        for k in range(j+1, dim[0]):\n",
    "            m = np.identity(dim[0])\n",
    "            m_inv = np.identity(dim[0])\n",
    "            m[k, j] = -(pivot**(-1))*u_tmp[k,j]\n",
    "            m_inv[k, j] = (pivot**(-1))*u_tmp[k,j]\n",
    "            u_tmp = np.dot(m, u_tmp)\n",
    "            \n",
    "            ## --- pop the latest m^(-1) onto the fron\n",
    "            ## --- of the list\n",
    "            ## --- so ... M_(n-1)^(-1)* ... * M_1^(-1)\n",
    "            m_inv_list.insert(0,m_inv)\n",
    "            \n",
    "    for mi in m_inv_list:\n",
    "        ## --- when you multiply, it's\n",
    "        ## --- M_1^(-1)* ... * M_(n-1)^(-1)*I = L\n",
    "        l_tmp = np.dot(mi,l_tmp)\n",
    "    \n",
    "    L = l_tmp\n",
    "    U = u_tmp\n",
    "    return {\"L\": L, \"U\": U}\n",
    "\n",
    "\n",
    "\n",
    "def Ly_solve(L, b, n):\n",
    "    ycomp = np.zeros(n)\n",
    "    ## ---- forward step\n",
    "    for i in range(0, n):\n",
    "        tmp = b[i]\n",
    "        for j in range(0, n):\n",
    "            tmp -= ycomp[j]*L[i,j]\n",
    "        ycomp[i] = tmp/L[i,i]\n",
    "        \n",
    "    return ycomp\n",
    "\n",
    "\n",
    "def Ux_solve(U, y,n):\n",
    "    xcomp = np.zeros(n)\n",
    "    for i in range(n-1, -1, -1):\n",
    "        tmp = y[i]\n",
    "        for j in range(n-1, i, -1):\n",
    "            tmp -= xcomp[j]*U[i,j]\n",
    "        xcomp[i] = tmp/U[i,i]\n",
    "    \n",
    "    return xcomp\n",
    "\n",
    "        \n",
    "\n",
    "def lu_solver(A, b):\n",
    "    B = gelim(A)\n",
    "    ## LU factorize, then solve using back\n",
    "    ## -ward substitution.\n",
    "    L = B[\"L\"]\n",
    "    U = B[\"U\"]\n",
    "    \n",
    "    dim = A.shape\n",
    "    n = dim[0]\n",
    "    \n",
    "    ycomp = Ly_solve(L, b, n)\n",
    "    xcomp = Ux_solve(U, ycomp, n)\n",
    "\n",
    "    return {\"L\": L, \"U\" : U, \"x\" : xcomp}\n",
    "\n",
    "ret = lu_solver(A,b)\n",
    "\n",
    "L = ret[\"L\"]\n",
    "U = ret[\"U\"]\n",
    "x = ret[\"x\"]\n",
    "\n",
    "\n",
    "## ---- first solution"
   ]
  },
  {
   "cell_type": "code",
   "execution_count": 5,
   "metadata": {
    "collapsed": false
   },
   "outputs": [
    {
     "name": "stdout",
     "output_type": "stream",
     "text": [
      "[[ 1.  0.  0.  0.]\n",
      " [-2.  1.  0.  0.]\n",
      " [ 0.  0.  1.  0.]\n",
      " [ 0.  0.  0.  1.]] [[ 1.  0.  0.  0.]\n",
      " [ 0.  1.  0.  0.]\n",
      " [ 4.  0.  1.  0.]\n",
      " [ 0.  0.  0.  1.]] [[ 1.  0.  0.  0.]\n",
      " [ 0.  1.  0.  0.]\n",
      " [ 0.  0.  1.  0.]\n",
      " [ 5.  0.  0.  1.]]\n"
     ]
    },
    {
     "data": {
      "text/plain": [
       "array([[ 1.,  0.,  0.,  0.],\n",
       "       [-2.,  1.,  0.,  0.],\n",
       "       [ 4.,  6.,  1.,  0.],\n",
       "       [ 5.,  0.,  0.,  1.]])"
      ]
     },
     "execution_count": 5,
     "metadata": {},
     "output_type": "execute_result"
    }
   ],
   "source": [
    "import numpy as np\n",
    "M_1 = np.eye(4)\n",
    "M_2 = np.eye(4)\n",
    "M_3 = np.eye(4)\n",
    "M_4 = np.eye(4)\n",
    "\n",
    "M_1[1,0] = -2\n",
    "M_2[2, 0] = 4\n",
    "M_3[3, 0] = 5\n",
    "M_4[2,1] = 6\n",
    "\n",
    "print(M_1, M_2, M_3)\n",
    "\n",
    "np.dot(np.dot(M_1,np.dot(M_2, M_3)),M_4)"
   ]
  },
  {
   "cell_type": "code",
   "execution_count": null,
   "metadata": {
    "collapsed": true
   },
   "outputs": [],
   "source": []
  }
 ],
 "metadata": {
  "kernelspec": {
   "display_name": "Python 3",
   "language": "python",
   "name": "python3"
  },
  "language_info": {
   "codemirror_mode": {
    "name": "ipython",
    "version": 3
   },
   "file_extension": ".py",
   "mimetype": "text/x-python",
   "name": "python",
   "nbconvert_exporter": "python",
   "pygments_lexer": "ipython3",
   "version": "3.4.4"
  }
 },
 "nbformat": 4,
 "nbformat_minor": 0
}
