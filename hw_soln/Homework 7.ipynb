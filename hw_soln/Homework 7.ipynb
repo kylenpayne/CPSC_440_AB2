{
 "cells": [
  {
   "cell_type": "markdown",
   "metadata": {},
   "source": [
    "#### 1.\t (5 points) Here in Champaign-Urbana, IL, the winter of 2015-2016 was noticeably warmer than the winter of 2014-2015. Below are some data on the maximum daily temperatures of ten randomly selected days from the winter of 2015-2016, and then the maximum daily temperatures from nine randomly selected days from 2014-2015. Below are these data.\n"
   ]
  },
  {
   "cell_type": "code",
   "execution_count": 88,
   "metadata": {
    "collapsed": false
   },
   "outputs": [],
   "source": [
    "source('../cspc440/R/utility.R')\n",
    "temp_data <- read.csv(file = \"../../temp_data.csv\", header = T)"
   ]
  },
  {
   "cell_type": "code",
   "execution_count": 89,
   "metadata": {
    "collapsed": false
   },
   "outputs": [],
   "source": [
    "library(reshape2)\n",
    "temp_data<-melt(temp_data, id.vars = c('Winter.Season', 'Winter.Season.1'),\n",
    "                measure.vars = c('Maximum.Temp', 'Maximum.Temp.1'))\n",
    "temp_data <- temp_data[,3:4]\n",
    "colnames(temp_data)<-c(\"season\", \"max_temp\")\n",
    "temp_data$season <- factor(temp_data$season)\n",
    "levels(temp_data$season) <- c(\"2015-2016\", \"2014-2015\")"
   ]
  },
  {
   "cell_type": "code",
   "execution_count": 90,
   "metadata": {
    "collapsed": false
   },
   "outputs": [
    {
     "data": {
      "text/html": [
       "<table>\n",
       "<thead><tr><th></th><th scope=col>season</th><th scope=col>pval</th></tr></thead>\n",
       "<tbody>\n",
       "\t<tr><th scope=row>1</th><td>2015-2016</td><td>0.9463874</td></tr>\n",
       "\t<tr><th scope=row>2</th><td>2014-2015</td><td>0.4463203</td></tr>\n",
       "</tbody>\n",
       "</table>\n"
      ],
      "text/latex": [
       "\\begin{tabular}{r|ll}\n",
       "  & season & pval\\\\\n",
       "\\hline\n",
       "\t1 & 2015-2016 & 0.9463874\\\\\n",
       "\t2 & 2014-2015 & 0.4463203\\\\\n",
       "\\end{tabular}\n"
      ],
      "text/plain": [
       "     season      pval\n",
       "1 2015-2016 0.9463874\n",
       "2 2014-2015 0.4463203"
      ]
     },
     "execution_count": 90,
     "metadata": {},
     "output_type": "execute_result"
    }
   ],
   "source": [
    "library(plyr)\n",
    "\n",
    "ddply(.data = temp_data,.variables = .(season), summarise, \n",
    "      pval=shapiro.test(max_temp)$p.value)\n"
   ]
  },
  {
   "cell_type": "markdown",
   "metadata": {},
   "source": [
    "We see that we fail to reject the null hypothesis of the shapiro wilk test and therefore we can use the two sample t-test"
   ]
  },
  {
   "cell_type": "code",
   "execution_count": 91,
   "metadata": {
    "collapsed": false
   },
   "outputs": [
    {
     "data": {
      "text/html": [
       "<table>\n",
       "<thead><tr><th scope=col>pval</th><th scope=col>tstat</th></tr></thead>\n",
       "<tbody>\n",
       "\t<tr><td>0.00224618</td><td>4.00655551</td></tr>\n",
       "</tbody>\n",
       "</table>\n"
      ],
      "text/latex": [
       "\\begin{tabular}{ll}\n",
       " pval & tstat\\\\\n",
       "\\hline\n",
       "\t 0.00224618 & 4.00655551\\\\\n",
       "\\end{tabular}\n"
      ],
      "text/markdown": [
       "1. 0.00224617996787251\n",
       "2. 4.00655551181242\n",
       "\n",
       "\n"
      ],
      "text/plain": [
       "           pval    tstat\n",
       "[1,] 0.00224618 4.006556"
      ]
     },
     "execution_count": 91,
     "metadata": {},
     "output_type": "execute_result"
    }
   ],
   "source": [
    "p <- t.test(x = temp_data[which(temp_data$season == \"2015-2016\"), \"max_temp\"],\n",
    "       y = temp_data[which(temp_data$season == \"2014-2015\"), \"max_temp\"])$p.value\n",
    "t <- t.test(x = temp_data[which(temp_data$season == \"2015-2016\"), \"max_temp\"],\n",
    "       y = temp_data[which(temp_data$season == \"2014-2015\"), \"max_temp\"])$statistic\n",
    "\n",
    "tab <- matrix(c(p,t), ncol=2,nrow=1,byrow=T)\n",
    "colnames(tab) <- c(\"pval\", \"tstat\")\n",
    "tab"
   ]
  },
  {
   "cell_type": "markdown",
   "metadata": {},
   "source": [
    "Thus, we can reject the null hypothesis that the means are equal between the two populations."
   ]
  },
  {
   "cell_type": "code",
   "execution_count": 92,
   "metadata": {
    "collapsed": false
   },
   "outputs": [
    {
     "data": {
      "text/html": [
       "<table>\n",
       "<thead><tr><th scope=col>pval</th><th scope=col>Fstat</th></tr></thead>\n",
       "<tbody>\n",
       "\t<tr><td> 0.001465821</td><td>12.844387002</td></tr>\n",
       "</tbody>\n",
       "</table>\n"
      ],
      "text/latex": [
       "\\begin{tabular}{ll}\n",
       " pval & Fstat\\\\\n",
       "\\hline\n",
       "\t  0.001465821 & 12.844387002\\\\\n",
       "\\end{tabular}\n"
      ],
      "text/markdown": [
       "1. 0.00146582106247495\n",
       "2. 12.8443870017912\n",
       "\n",
       "\n"
      ],
      "text/plain": [
       "            pval    Fstat\n",
       "[1,] 0.001465821 12.84439"
      ]
     },
     "execution_count": 92,
     "metadata": {},
     "output_type": "execute_result"
    }
   ],
   "source": [
    "p<-var.test(x = temp_data[which(temp_data$season == \"2015-2016\"), \"max_temp\"],\n",
    "         y = temp_data[which(temp_data$season == \"2014-2015\"), \"max_temp\"])$p.value\n",
    "F<-var.test(x = temp_data[which(temp_data$season == \"2015-2016\"), \"max_temp\"],\n",
    "         y = temp_data[which(temp_data$season == \"2014-2015\"), \"max_temp\"])$statistic\n",
    "\n",
    "tab <- matrix(c(p,F), ncol=2,nrow=1,byrow=T)\n",
    "colnames(tab) <- c(\"pval\", \"Fstat\")\n",
    "tab"
   ]
  },
  {
   "cell_type": "markdown",
   "metadata": {},
   "source": [
    "Thus we reject the null hypothesis that the variances are the same."
   ]
  },
  {
   "cell_type": "code",
   "execution_count": 93,
   "metadata": {
    "collapsed": true
   },
   "outputs": [],
   "source": [
    "source('../cspc440/R/test_of_vars.R')\n",
    "source('../cspc440/R/utility.R')"
   ]
  },
  {
   "cell_type": "code",
   "execution_count": 94,
   "metadata": {
    "collapsed": false
   },
   "outputs": [],
   "source": [
    "temp_2015<-temp_data[which(temp_data$season == \"2015-2016\"), \"max_temp\"]\n",
    "temp_2014<-temp_data[which(temp_data$season == \"2014-2015\"), \"max_temp\"]\n",
    "\n",
    "confint_var_ratio <- function(var1, var2, alpha){\n",
    "  if(var(var1,na.rm = T)>var(var2,na.rm = T)){\n",
    "    ratio <- var(var1, na.rm = T)/var(var2, na.rm=T)\n",
    "    F_l <- qf(alpha/2, df1=length(var1)-1, df2=length(var2)-1)\n",
    "    F_u <- qf(1-alpha/2,df1=length(var1)-1, df2=length(var2)-1)\n",
    "  }else{\n",
    "    ratio <- var(var2, na.rm=T)/var(var1,na.rm=T)\n",
    "    F_l <- qf(alpha/2, df1=length(var2)-1, df2=length(var1)-1)\n",
    "    F_u <- qf(1-alpha/2,df1=length(var2)-1, df2=length(var1)-1)\n",
    "\n",
    "  }\n",
    "\n",
    "  confint <- matrix(c(ratio*F_l ,  ratio*F_u), ncol=2, nrow=1, byrow=T)\n",
    "  colnames(confint) <- c(\"lower $F_l\\\\times \\\\frac{s^2_1}{s^2_2}$\", \"upper $F_U\\\\times\\\\frac{s^2_1}{s^2_2}$\")\n",
    "\n",
    "  return(confint)\n",
    "}"
   ]
  },
  {
   "cell_type": "code",
   "execution_count": 95,
   "metadata": {
    "collapsed": false
   },
   "outputs": [
    {
     "data": {
      "text/html": [
       "<table>\n",
       "<thead><tr><th scope=col>lower $F_l\\times \\frac{s^2_1}{s^2_2}$</th><th scope=col>upper $F_U\\times\\frac{s^2_1}{s^2_2}$</th></tr></thead>\n",
       "<tbody>\n",
       "\t<tr><td> 3.190364</td><td>51.711427</td></tr>\n",
       "</tbody>\n",
       "</table>\n"
      ],
      "text/latex": [
       "\\begin{tabular}{ll}\n",
       " lower $F_l\\times \\frac{s^2_1}{s^2_2}$ & upper $F_U\\times\\frac{s^2_1}{s^2_2}$\\\\\n",
       "\\hline\n",
       "\t  3.190364 & 51.711427\\\\\n",
       "\\end{tabular}\n"
      ],
      "text/markdown": [
       "1. 3.19036404346627\n",
       "2. 51.7114270359374\n",
       "\n",
       "\n"
      ],
      "text/plain": [
       "     lower $F_l\\\\times \\\\frac{s^2_1}{s^2_2}$\n",
       "[1,]                                3.190364\n",
       "     upper $F_U\\\\times\\\\frac{s^2_1}{s^2_2}$\n",
       "[1,]                               51.71143"
      ]
     },
     "execution_count": 95,
     "metadata": {},
     "output_type": "execute_result"
    }
   ],
   "source": [
    "confint_var_ratio(temp_2014,temp_2015, alpha=0.05)"
   ]
  },
  {
   "cell_type": "markdown",
   "metadata": {},
   "source": [
    "#### 1.\t(5 points) A meteorologist studying the impact of el niño on winter temperatures is interested in assessing the temperatures during the winters of 2015-2016 in contrast to the previous two winters (i.e., the winters of 2014-2015 and 2013-2014). Therefore, this meteorologist has obtained maximum daily temperatures in Champaign-Urbana, IL from 15 randomly selected days from each of these three winter seasons. Below are these data.\n"
   ]
  },
  {
   "cell_type": "code",
   "execution_count": 96,
   "metadata": {
    "collapsed": false
   },
   "outputs": [],
   "source": [
    "temp_data_2 <- read.csv(file = '../../temp_data_2.csv', header = T)"
   ]
  },
  {
   "cell_type": "markdown",
   "metadata": {},
   "source": [
    "#### a. (1 point) Suppose that the objective of this experiment is to determine whether or not the mean temperatures differed for these three winter seasons.  Write down the linear model for this experiment. Show all symbols, degrees of freedom and subscripts. Define each term in the model and state the assumptions made about the errors.\n"
   ]
  },
  {
   "cell_type": "markdown",
   "metadata": {},
   "source": [
    "$$\n",
    "Y_{ij} = \\mu + \\tau_i + \\epsilon_{ij}\n",
    "$$\n",
    "\n",
    "$$\n",
    "\\mu, df=1, \\text{  Population Grand Mean } \n",
    "$$\n",
    "\n",
    "$$\n",
    "\\tau_i, df=t-1=2, \\text{    Effect of the ith treatment   }\n",
    "$$\n",
    "\n",
    "$$\n",
    "\\epsilon_{ij} \\overset{i.i.d.}{\\sim} N(0,\\sigma^2), df=n-t = 42, \\text{    Random Residual Error }\n",
    "$$\n",
    "\n"
   ]
  },
  {
   "cell_type": "markdown",
   "metadata": {},
   "source": [
    "1. Use either SAS or R to determine if all 45 of these daily maximum temperatures collectively follow a normal distribution. Use α = 0.01."
   ]
  },
  {
   "cell_type": "code",
   "execution_count": 97,
   "metadata": {
    "collapsed": false
   },
   "outputs": [
    {
     "data": {
      "text/html": [
       "<table>\n",
       "<thead><tr><th scope=col>pval</th><th scope=col>Wstat</th></tr></thead>\n",
       "<tbody>\n",
       "\t<tr><td>0.004035848</td><td>0.919403409</td></tr>\n",
       "</tbody>\n",
       "</table>\n"
      ],
      "text/latex": [
       "\\begin{tabular}{ll}\n",
       " pval & Wstat\\\\\n",
       "\\hline\n",
       "\t 0.004035848 & 0.919403409\\\\\n",
       "\\end{tabular}\n"
      ],
      "text/markdown": [
       "1. 0.00403584801543416\n",
       "2. 0.919403408740563\n",
       "\n",
       "\n"
      ],
      "text/plain": [
       "            pval     Wstat\n",
       "[1,] 0.004035848 0.9194034"
      ]
     },
     "execution_count": 97,
     "metadata": {},
     "output_type": "execute_result"
    }
   ],
   "source": [
    "p<-shapiro.test(x = temp_data_2$Maximum.Temp)$p.value\n",
    "W<-shapiro.test(x = temp_data_2$Maximum.Temp)$statistic\n",
    "tab <- matrix(c(p,W), ncol=2,nrow=1,byrow=T)\n",
    "colnames(tab) <- c(\"pval\", \"Wstat\")\n",
    "tab"
   ]
  },
  {
   "cell_type": "markdown",
   "metadata": {},
   "source": [
    "We reject the null hypothesis that the data are normally distributed."
   ]
  },
  {
   "cell_type": "markdown",
   "metadata": {},
   "source": [
    "c.\t(1 point) Use either SAS or R to determine if the daily temperatures from the 15 randomly selected days within each of the three winter seasons follow a normal distribution. Use α = 0.01. Compare with the results from b.) and discuss which procedure is correct (i.e. either the diagnostics conducted in b.) or the diagnostics conducted in c.) ) for determining if the assumptions of normality are satisfied for an ANOVA. The R code and SAS code provided in the lecture notes and previous homework can be adapted to conduct this analysis. \n"
   ]
  },
  {
   "cell_type": "code",
   "execution_count": 98,
   "metadata": {
    "collapsed": false
   },
   "outputs": [
    {
     "data": {
      "text/html": [
       "<table>\n",
       "<thead><tr><th></th><th scope=col>Winter.Season</th><th scope=col>pval</th></tr></thead>\n",
       "<tbody>\n",
       "\t<tr><th scope=row>1</th><td>2013-2014</td><td>0.07404333</td></tr>\n",
       "\t<tr><th scope=row>2</th><td>2014-2015</td><td>0.9578433</td></tr>\n",
       "\t<tr><th scope=row>3</th><td>2015-2016</td><td>0.7984743</td></tr>\n",
       "</tbody>\n",
       "</table>\n"
      ],
      "text/latex": [
       "\\begin{tabular}{r|ll}\n",
       "  & Winter.Season & pval\\\\\n",
       "\\hline\n",
       "\t1 & 2013-2014 & 0.07404333\\\\\n",
       "\t2 & 2014-2015 & 0.9578433\\\\\n",
       "\t3 & 2015-2016 & 0.7984743\\\\\n",
       "\\end{tabular}\n"
      ],
      "text/plain": [
       "  Winter.Season       pval\n",
       "1     2013-2014 0.07404333\n",
       "2     2014-2015 0.95784328\n",
       "3     2015-2016 0.79847430"
      ]
     },
     "execution_count": 98,
     "metadata": {},
     "output_type": "execute_result"
    }
   ],
   "source": [
    "\n",
    "ddply(.data = temp_data_2,.variables = .(Winter.Season), summarise, \n",
    "      pval=shapiro.test(Maximum.Temp)$p.value)\n"
   ]
  },
  {
   "cell_type": "markdown",
   "metadata": {},
   "source": [
    "The assumptions of anova are that the errors $\\epsilon_{ij}$ are normally distributed. Thus, we know that each observation within should be normally distributed, but each $i^{th}$ group could have a different mean, and therefore, testing for normality for several normally distributed treatments together could cause a test of normality to reject. One should perform a test of normality on either the residuals or on the individual groups."
   ]
  },
  {
   "cell_type": "markdown",
   "metadata": {},
   "source": [
    "d.\t(2 points) Conduct an ANOVA and show all of your work. You can use Excel or R to help with the arithmetic, but make sure you understand how each part is calculated. Show the null and alternative hypotheses of the treatment, all degrees of freedom, all sums of squares, all mean squares, the test statistic (i.e., F calculated), the F critical value at α = 0.05 and give a complete conclusion. \n"
   ]
  },
  {
   "cell_type": "code",
   "execution_count": 99,
   "metadata": {
    "collapsed": false
   },
   "outputs": [
    {
     "data": {
      "text/html": [
       "<table>\n",
       "<thead><tr><th></th><th scope=col>Df</th><th scope=col>Sum Sq</th><th scope=col>Mean Sq</th><th scope=col>F value</th><th scope=col>Pr(>F)</th></tr></thead>\n",
       "<tbody>\n",
       "\t<tr><th scope=row>season</th><td>2</td><td>2576.503</td><td>1288.251</td><td>6.191893</td><td>0.004399231</td></tr>\n",
       "\t<tr><th scope=row>Residuals</th><td>42</td><td>8738.289</td><td>208.0545</td><td>NA</td><td>NA</td></tr>\n",
       "</tbody>\n",
       "</table>\n"
      ],
      "text/latex": [
       "\\begin{tabular}{r|lllll}\n",
       "  & Df & Sum Sq & Mean Sq & F value & Pr(>F)\\\\\n",
       "\\hline\n",
       "\tseason & 2 & 2576.503 & 1288.251 & 6.191893 & 0.004399231\\\\\n",
       "\tResiduals & 42 & 8738.289 & 208.0545 & NA & NA\\\\\n",
       "\\end{tabular}\n"
      ],
      "text/plain": [
       "Analysis of Variance Table\n",
       "\n",
       "Response: max_temp\n",
       "          Df Sum Sq Mean Sq F value   Pr(>F)   \n",
       "season     2 2576.5 1288.25  6.1919 0.004399 **\n",
       "Residuals 42 8738.3  208.05                    \n",
       "---\n",
       "Signif. codes:  0 ‘***’ 0.001 ‘**’ 0.01 ‘*’ 0.05 ‘.’ 0.1 ‘ ’ 1"
      ]
     },
     "execution_count": 99,
     "metadata": {},
     "output_type": "execute_result"
    }
   ],
   "source": [
    "colnames(temp_data_2)<-c(\"season\", \"max_temp\")\n",
    "anova_mod <- lm(max_temp ~ season, data=temp_data_2)\n",
    "anova(anova_mod)"
   ]
  },
  {
   "cell_type": "markdown",
   "metadata": {},
   "source": [
    "As anticipated, we get degrees of freedom of $2$ and $42$ for both the treatment effect and the residuals. For the null hypothesis\n",
    "\n",
    "$$\n",
    "H_0: \\tau_1=\\tau_2=\\tau_3 = 0\n",
    "$$\n",
    "\n",
    "we use the F-test \n",
    "\n",
    "$$\n",
    "F= \\frac{MST}{MSE} = \\frac{SST/df_{treat}}{SSE/df_{error}} = \\frac{\t2576.503/2}{8738.289/42} \\approx 6.2\n",
    "$$\n",
    "\n",
    "The F-distribution has an expected value of $d_2/(d_2-2)$, that is, $42/40 \\approx 1$. So, if the season had no effect on the temperature, we would expect the f test to have a value of approximately $1$. We obviously reject the anova F-test with $\\alpha=0.01$ and thus conclude that we have sufficient evidence to support the assertion that the temperatures differed across seasons. "
   ]
  }
 ],
 "metadata": {
  "kernelspec": {
   "display_name": "R",
   "language": "R",
   "name": "ir"
  },
  "language_info": {
   "codemirror_mode": "r",
   "file_extension": ".r",
   "mimetype": "text/x-r-source",
   "name": "R",
   "pygments_lexer": "r",
   "version": "3.2.2"
  }
 },
 "nbformat": 4,
 "nbformat_minor": 0
}
