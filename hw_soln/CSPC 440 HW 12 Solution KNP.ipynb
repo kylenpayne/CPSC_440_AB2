{
 "cells": [
  {
   "cell_type": "markdown",
   "metadata": {},
   "source": [
    "CPSC 440 – Homework 12\n",
    "\n",
    "Due in class on Tuesday, April 26, 2016\n",
    "\n",
    "1.\t(10 points) A brewery is interested in assessing the acidity of five hops varieties (Armarillo, Cascade, Fuggle, Nugget, and Willamette) grown in a field in the state of Washington. Due to the need to control for row and column (i.e., range) field effects and the fact that only 25 plots were available, a Latin square design was implemented. The resulting data are provided in “HW.12.Latin.Square.Output.Data.xlxs”. Assume that all effects are fixed.\n",
    "\n"
   ]
  },
  {
   "cell_type": "code",
   "execution_count": 1,
   "metadata": {
    "collapsed": true
   },
   "outputs": [],
   "source": [
    "hw12_data <- read.csv('../../HW.12.Latin.Square.Output.Data.csv', header = T)"
   ]
  },
  {
   "cell_type": "code",
   "execution_count": 2,
   "metadata": {
    "collapsed": false
   },
   "outputs": [
    {
     "data": {
      "text/html": [
       "<table>\n",
       "<thead><tr><th></th><th scope=col>Row</th><th scope=col>Column</th><th scope=col>Line</th><th scope=col>Acidity</th></tr></thead>\n",
       "<tbody>\n",
       "\t<tr><th scope=row>1</th><td>1</td><td>1</td><td>Armarillo</td><td>14.84</td></tr>\n",
       "\t<tr><th scope=row>2</th><td>1</td><td>2</td><td>Cascade</td><td>13.13</td></tr>\n",
       "\t<tr><th scope=row>3</th><td>1</td><td>3</td><td>Fuggle</td><td>16.72</td></tr>\n",
       "\t<tr><th scope=row>4</th><td>1</td><td>4</td><td>Nugget</td><td>15.37</td></tr>\n",
       "\t<tr><th scope=row>5</th><td>1</td><td>5</td><td>Williamette</td><td>3.63</td></tr>\n",
       "\t<tr><th scope=row>6</th><td>2</td><td>1</td><td>Cascade</td><td>14.05</td></tr>\n",
       "\t<tr><th scope=row>7</th><td>2</td><td>2</td><td>Fuggle</td><td>15.69</td></tr>\n",
       "\t<tr><th scope=row>8</th><td>2</td><td>3</td><td>Nugget</td><td>14.71</td></tr>\n",
       "\t<tr><th scope=row>9</th><td>2</td><td>4</td><td>Williamette</td><td>7</td></tr>\n",
       "\t<tr><th scope=row>10</th><td>2</td><td>5</td><td>Armarillo</td><td>11.5</td></tr>\n",
       "\t<tr><th scope=row>11</th><td>3</td><td>1</td><td>Fuggle</td><td>10.85</td></tr>\n",
       "\t<tr><th scope=row>12</th><td>3</td><td>2</td><td>Nugget</td><td>13.14</td></tr>\n",
       "\t<tr><th scope=row>13</th><td>3</td><td>3</td><td>Williamette</td><td>2.86</td></tr>\n",
       "\t<tr><th scope=row>14</th><td>3</td><td>4</td><td>Armarillo</td><td>12.24</td></tr>\n",
       "\t<tr><th scope=row>15</th><td>3</td><td>5</td><td>Cascade</td><td>9.74</td></tr>\n",
       "\t<tr><th scope=row>16</th><td>4</td><td>1</td><td>Nugget</td><td>15.1</td></tr>\n",
       "\t<tr><th scope=row>17</th><td>4</td><td>2</td><td>Williamette</td><td>4.9</td></tr>\n",
       "\t<tr><th scope=row>18</th><td>4</td><td>3</td><td>Armarillo</td><td>13.4</td></tr>\n",
       "\t<tr><th scope=row>19</th><td>4</td><td>4</td><td>Cascade</td><td>14</td></tr>\n",
       "\t<tr><th scope=row>20</th><td>4</td><td>5</td><td>Fuggle</td><td>13.79</td></tr>\n",
       "\t<tr><th scope=row>21</th><td>5</td><td>1</td><td>Williamette</td><td>7.71</td></tr>\n",
       "\t<tr><th scope=row>22</th><td>5</td><td>2</td><td>Armarillo</td><td>14.33</td></tr>\n",
       "\t<tr><th scope=row>23</th><td>5</td><td>3</td><td>Cascade</td><td>12.36</td></tr>\n",
       "\t<tr><th scope=row>24</th><td>5</td><td>4</td><td>Fuggle</td><td>14.72</td></tr>\n",
       "\t<tr><th scope=row>25</th><td>5</td><td>5</td><td>Nugget</td><td>13.39</td></tr>\n",
       "</tbody>\n",
       "</table>\n"
      ],
      "text/latex": [
       "\\begin{tabular}{r|llll}\n",
       "  & Row & Column & Line & Acidity\\\\\n",
       "\\hline\n",
       "\t1 & 1 & 1 & Armarillo & 14.84\\\\\n",
       "\t2 & 1 & 2 & Cascade & 13.13\\\\\n",
       "\t3 & 1 & 3 & Fuggle & 16.72\\\\\n",
       "\t4 & 1 & 4 & Nugget & 15.37\\\\\n",
       "\t5 & 1 & 5 & Williamette & 3.63\\\\\n",
       "\t6 & 2 & 1 & Cascade & 14.05\\\\\n",
       "\t7 & 2 & 2 & Fuggle & 15.69\\\\\n",
       "\t8 & 2 & 3 & Nugget & 14.71\\\\\n",
       "\t9 & 2 & 4 & Williamette & 7\\\\\n",
       "\t10 & 2 & 5 & Armarillo & 11.5\\\\\n",
       "\t11 & 3 & 1 & Fuggle & 10.85\\\\\n",
       "\t12 & 3 & 2 & Nugget & 13.14\\\\\n",
       "\t13 & 3 & 3 & Williamette & 2.86\\\\\n",
       "\t14 & 3 & 4 & Armarillo & 12.24\\\\\n",
       "\t15 & 3 & 5 & Cascade & 9.74\\\\\n",
       "\t16 & 4 & 1 & Nugget & 15.1\\\\\n",
       "\t17 & 4 & 2 & Williamette & 4.9\\\\\n",
       "\t18 & 4 & 3 & Armarillo & 13.4\\\\\n",
       "\t19 & 4 & 4 & Cascade & 14\\\\\n",
       "\t20 & 4 & 5 & Fuggle & 13.79\\\\\n",
       "\t21 & 5 & 1 & Williamette & 7.71\\\\\n",
       "\t22 & 5 & 2 & Armarillo & 14.33\\\\\n",
       "\t23 & 5 & 3 & Cascade & 12.36\\\\\n",
       "\t24 & 5 & 4 & Fuggle & 14.72\\\\\n",
       "\t25 & 5 & 5 & Nugget & 13.39\\\\\n",
       "\\end{tabular}\n"
      ],
      "text/plain": [
       "   Row Column        Line Acidity\n",
       "1    1      1   Armarillo   14.84\n",
       "2    1      2     Cascade   13.13\n",
       "3    1      3      Fuggle   16.72\n",
       "4    1      4      Nugget   15.37\n",
       "5    1      5 Williamette    3.63\n",
       "6    2      1     Cascade   14.05\n",
       "7    2      2      Fuggle   15.69\n",
       "8    2      3      Nugget   14.71\n",
       "9    2      4 Williamette    7.00\n",
       "10   2      5   Armarillo   11.50\n",
       "11   3      1      Fuggle   10.85\n",
       "12   3      2      Nugget   13.14\n",
       "13   3      3 Williamette    2.86\n",
       "14   3      4   Armarillo   12.24\n",
       "15   3      5     Cascade    9.74\n",
       "16   4      1      Nugget   15.10\n",
       "17   4      2 Williamette    4.90\n",
       "18   4      3   Armarillo   13.40\n",
       "19   4      4     Cascade   14.00\n",
       "20   4      5      Fuggle   13.79\n",
       "21   5      1 Williamette    7.71\n",
       "22   5      2   Armarillo   14.33\n",
       "23   5      3     Cascade   12.36\n",
       "24   5      4      Fuggle   14.72\n",
       "25   5      5      Nugget   13.39"
      ]
     },
     "execution_count": 2,
     "metadata": {},
     "output_type": "execute_result"
    }
   ],
   "source": [
    "hw12_data"
   ]
  },
  {
   "cell_type": "markdown",
   "metadata": {},
   "source": [
    "\n",
    "#### a.\t(1 point) Write down the model. Include all subscripts and degrees of freedom. Define each term and write down the model assumptions.\n",
    "\n",
    "$$\n",
    "Y_{ijk} = \\mu + \\tau_i + \\beta_j + \\gamma_k + \\epsilon_{ijk}, \\epsilon_{ijk} \\sim i.i.d. N(0, \\sigma^2)\n",
    "$$\n",
    "$$\n",
    "dfs = 25 = (1) + (4) + (4) + (4) + (12)\n",
    "$$\n",
    "\n",
    "$$\n",
    "(i, j, k) \\in \\{1,2,3,4,5\\}\n",
    "$$\n",
    "\n",
    "$$\n",
    "\\mu = \\text{ grand mean}\n",
    "$$\n",
    "\n",
    "$$\n",
    "\\tau_i = \\text{ effect of treatment}\n",
    "$$\n",
    "\n",
    "$$\n",
    "\\beta_j = \\text{ effect of row block }\n",
    "$$\n",
    "\n",
    "$$\n",
    "\\gamma_k = \\text{ effect of column block }\n",
    "$$\n",
    "\n",
    "$$\n",
    "\\epsilon_{ijk} \\sim i.i.d. N(0, \\sigma^2) \\text{ random residual error }\n",
    "$$\n",
    "\n"
   ]
  },
  {
   "cell_type": "markdown",
   "metadata": {},
   "source": [
    "\n",
    "#### b.\t(2 points) Fit the ANOVA model. Indicate the null and alternative hypotheses for the F test, as well as the F critical value you would use to test whether or not the population mean acidity is the same across all five hops varieties at $\\alpha = 0.05$. \n"
   ]
  },
  {
   "cell_type": "code",
   "execution_count": 15,
   "metadata": {
    "collapsed": false
   },
   "outputs": [
    {
     "data": {
      "text/html": [
       "<table>\n",
       "<thead><tr><th></th><th scope=col>term</th><th scope=col>df</th><th scope=col>sumsq</th><th scope=col>meansq</th><th scope=col>statistic</th><th scope=col>p.value</th></tr></thead>\n",
       "<tbody>\n",
       "\t<tr><th scope=row>1</th><td>Row</td><td>4</td><td>30.93318</td><td>7.733296</td><td>6.263861</td><td>0.005832642</td></tr>\n",
       "\t<tr><th scope=row>2</th><td>Column</td><td>4</td><td>16.41494</td><td>4.103736</td><td>3.323968</td><td>0.04733943</td></tr>\n",
       "\t<tr><th scope=row>3</th><td>Line</td><td>4</td><td>295.0607</td><td>73.76519</td><td>59.74876</td><td>8.017193e-08</td></tr>\n",
       "\t<tr><th scope=row>4</th><td>Residuals</td><td>12</td><td>14.81507</td><td>1.234589</td><td>NA</td><td>NA</td></tr>\n",
       "</tbody>\n",
       "</table>\n"
      ],
      "text/latex": [
       "\\begin{tabular}{r|llllll}\n",
       "  & term & df & sumsq & meansq & statistic & p.value\\\\\n",
       "\\hline\n",
       "\t1 & Row & 4 & 30.93318 & 7.733296 & 6.263861 & 0.005832642\\\\\n",
       "\t2 & Column & 4 & 16.41494 & 4.103736 & 3.323968 & 0.04733943\\\\\n",
       "\t3 & Line & 4 & 295.0607 & 73.76519 & 59.74876 & 8.017193e-08\\\\\n",
       "\t4 & Residuals & 12 & 14.81507 & 1.234589 & NA & NA\\\\\n",
       "\\end{tabular}\n"
      ],
      "text/plain": [
       "       term df     sumsq    meansq statistic      p.value\n",
       "1       Row  4  30.93318  7.733296  6.263861 5.832642e-03\n",
       "2    Column  4  16.41494  4.103736  3.323968 4.733943e-02\n",
       "3      Line  4 295.06074 73.765186 59.748763 8.017193e-08\n",
       "4 Residuals 12  14.81507  1.234589        NA           NA"
      ]
     },
     "execution_count": 15,
     "metadata": {},
     "output_type": "execute_result"
    }
   ],
   "source": [
    "library(magrittr)\n",
    "library(broom)\n",
    "hw12_data$Row <- factor(hw12_data$Row)\n",
    "hw12_data$Column <- factor(hw12_data$Column)\n",
    "hw12_data %>% aov(Acidity ~ Row + Column + Line, data=.) -> modl \n",
    "\n",
    "modl %>% tidy"
   ]
  },
  {
   "cell_type": "markdown",
   "metadata": {},
   "source": [
    "$$\n",
    "H_0: \\mu_1 = ... =\\mu_5 = 0\n",
    "$$\n",
    "\n",
    "$$\n",
    "H_a: \\text{ At least one mean is different}\n",
    "$$\n",
    "The ANOVA F-test is significant at the $\\alpha=0.05$ level, and thus we reject the null that the population mean acidity is the same across all five lines."
   ]
  },
  {
   "cell_type": "markdown",
   "metadata": {},
   "source": [
    "#### c.\t(1 point) Conduct a mean separation for the yield of the five hops varieties using Tukey’s W procedure."
   ]
  },
  {
   "cell_type": "code",
   "execution_count": 19,
   "metadata": {
    "collapsed": false
   },
   "outputs": [
    {
     "data": {
      "text/html": [
       "<table>\n",
       "<thead><tr><th></th><th scope=col>diff</th><th scope=col>lwr</th><th scope=col>upr</th><th scope=col>p adj</th></tr></thead>\n",
       "<tbody>\n",
       "\t<tr><th scope=row>Cascade-Armarillo</th><td>-0.606</td><td>-2.846</td><td> 1.634</td><td> 0.905</td></tr>\n",
       "\t<tr><th scope=row>Fuggle-Armarillo</th><td> 1.092</td><td>-1.148</td><td> 3.332</td><td> 0.550</td></tr>\n",
       "\t<tr><th scope=row>Nugget-Armarillo</th><td> 1.08</td><td>-1.16</td><td> 3.32</td><td> 0.56</td></tr>\n",
       "\t<tr><th scope=row>Williamette-Armarillo</th><td> -8.042</td><td>-10.282</td><td> -5.802</td><td>  0.000</td></tr>\n",
       "\t<tr><th scope=row>Fuggle-Cascade</th><td> 1.698</td><td>-0.542</td><td> 3.938</td><td> 0.176</td></tr>\n",
       "\t<tr><th scope=row>Nugget-Cascade</th><td> 1.686</td><td>-0.554</td><td> 3.926</td><td> 0.181</td></tr>\n",
       "\t<tr><th scope=row>Williamette-Cascade</th><td>-7.436</td><td>-9.676</td><td>-5.196</td><td> 0.000</td></tr>\n",
       "\t<tr><th scope=row>Nugget-Fuggle</th><td>-0.012</td><td>-2.252</td><td> 2.228</td><td> 1.000</td></tr>\n",
       "\t<tr><th scope=row>Williamette-Fuggle</th><td> -9.134</td><td>-11.374</td><td> -6.894</td><td>  0.000</td></tr>\n",
       "\t<tr><th scope=row>Williamette-Nugget</th><td> -9.122</td><td>-11.362</td><td> -6.882</td><td>  0.000</td></tr>\n",
       "</tbody>\n",
       "</table>\n"
      ],
      "text/latex": [
       "\\begin{tabular}{r|llll}\n",
       "  & diff & lwr & upr & p adj\\\\\n",
       "\\hline\n",
       "\tCascade-Armarillo & -0.606 & -2.846 &  1.634 &  0.905\\\\\n",
       "\tFuggle-Armarillo &  1.092 & -1.148 &  3.332 &  0.550\\\\\n",
       "\tNugget-Armarillo &  1.08 & -1.16 &  3.32 &  0.56\\\\\n",
       "\tWilliamette-Armarillo &  -8.042 & -10.282 &  -5.802 &   0.000\\\\\n",
       "\tFuggle-Cascade &  1.698 & -0.542 &  3.938 &  0.176\\\\\n",
       "\tNugget-Cascade &  1.686 & -0.554 &  3.926 &  0.181\\\\\n",
       "\tWilliamette-Cascade & -7.436 & -9.676 & -5.196 &  0.000\\\\\n",
       "\tNugget-Fuggle & -0.012 & -2.252 &  2.228 &  1.000\\\\\n",
       "\tWilliamette-Fuggle &  -9.134 & -11.374 &  -6.894 &   0.000\\\\\n",
       "\tWilliamette-Nugget &  -9.122 & -11.362 &  -6.882 &   0.000\\\\\n",
       "\\end{tabular}\n"
      ],
      "text/markdown": [
       "1. -0.606\n",
       "2. 1.092\n",
       "3. 1.08\n",
       "4. -8.042\n",
       "5. 1.698\n",
       "6. 1.686\n",
       "7. -7.436\n",
       "8. -0.012\n",
       "9. -9.134\n",
       "10. -9.122\n",
       "11. -2.846\n",
       "12. -1.148\n",
       "13. -1.16\n",
       "14. -10.282\n",
       "15. -0.542\n",
       "16. -0.554\n",
       "17. -9.676\n",
       "18. -2.252\n",
       "19. -11.374\n",
       "20. -11.362\n",
       "21. 1.634\n",
       "22. 3.332\n",
       "23. 3.32\n",
       "24. -5.802\n",
       "25. 3.938\n",
       "26. 3.926\n",
       "27. -5.196\n",
       "28. 2.228\n",
       "29. -6.894\n",
       "30. -6.882\n",
       "31. 0.905\n",
       "32. 0.55\n",
       "33. 0.56\n",
       "34. 0\n",
       "35. 0.176\n",
       "36. 0.181\n",
       "37. 0\n",
       "38. 1\n",
       "39. 0\n",
       "40. 0\n",
       "\n",
       "\n"
      ],
      "text/plain": [
       "                        diff     lwr    upr p adj\n",
       "Cascade-Armarillo     -0.606  -2.846  1.634 0.905\n",
       "Fuggle-Armarillo       1.092  -1.148  3.332 0.550\n",
       "Nugget-Armarillo       1.080  -1.160  3.320 0.560\n",
       "Williamette-Armarillo -8.042 -10.282 -5.802 0.000\n",
       "Fuggle-Cascade         1.698  -0.542  3.938 0.176\n",
       "Nugget-Cascade         1.686  -0.554  3.926 0.181\n",
       "Williamette-Cascade   -7.436  -9.676 -5.196 0.000\n",
       "Nugget-Fuggle         -0.012  -2.252  2.228 1.000\n",
       "Williamette-Fuggle    -9.134 -11.374 -6.894 0.000\n",
       "Williamette-Nugget    -9.122 -11.362 -6.882 0.000"
      ]
     },
     "execution_count": 19,
     "metadata": {},
     "output_type": "execute_result"
    }
   ],
   "source": [
    "modl %>% TukeyHSD(x=., which = \"Line\") -> W\n",
    "round(W$Line,3)"
   ]
  },
  {
   "cell_type": "markdown",
   "metadata": {},
   "source": [
    "#### d.\t(3 point) Reanalyze the data without the row effect; that is, redo parts a.), b.), and c.) without the row effect in the model. Comment on how the results change.\n"
   ]
  },
  {
   "cell_type": "code",
   "execution_count": 20,
   "metadata": {
    "collapsed": false
   },
   "outputs": [
    {
     "data": {
      "text/html": [
       "<table>\n",
       "<thead><tr><th></th><th scope=col>term</th><th scope=col>df</th><th scope=col>sumsq</th><th scope=col>meansq</th><th scope=col>statistic</th><th scope=col>p.value</th></tr></thead>\n",
       "<tbody>\n",
       "\t<tr><th scope=row>1</th><td>Column</td><td>4</td><td>16.41494</td><td>4.103736</td><td>1.435241</td><td>0.2678171</td></tr>\n",
       "\t<tr><th scope=row>2</th><td>Line</td><td>4</td><td>295.0607</td><td>73.76519</td><td>25.79864</td><td>8.355431e-07</td></tr>\n",
       "\t<tr><th scope=row>3</th><td>Residuals</td><td>16</td><td>45.74826</td><td>2.859266</td><td>NA</td><td>NA</td></tr>\n",
       "</tbody>\n",
       "</table>\n"
      ],
      "text/latex": [
       "\\begin{tabular}{r|llllll}\n",
       "  & term & df & sumsq & meansq & statistic & p.value\\\\\n",
       "\\hline\n",
       "\t1 & Column & 4 & 16.41494 & 4.103736 & 1.435241 & 0.2678171\\\\\n",
       "\t2 & Line & 4 & 295.0607 & 73.76519 & 25.79864 & 8.355431e-07\\\\\n",
       "\t3 & Residuals & 16 & 45.74826 & 2.859266 & NA & NA\\\\\n",
       "\\end{tabular}\n"
      ],
      "text/plain": [
       "       term df     sumsq    meansq statistic      p.value\n",
       "1    Column  4  16.41494  4.103736  1.435241 2.678171e-01\n",
       "2      Line  4 295.06074 73.765186 25.798644 8.355431e-07\n",
       "3 Residuals 16  45.74826  2.859266        NA           NA"
      ]
     },
     "execution_count": 20,
     "metadata": {},
     "output_type": "execute_result"
    },
    {
     "data": {
      "text/html": [
       "<table>\n",
       "<thead><tr><th></th><th scope=col>diff</th><th scope=col>lwr</th><th scope=col>upr</th><th scope=col>p adj</th></tr></thead>\n",
       "<tbody>\n",
       "\t<tr><th scope=row>Cascade-Armarillo</th><td>-0.606</td><td>-3.882</td><td> 2.670</td><td> 0.978</td></tr>\n",
       "\t<tr><th scope=row>Fuggle-Armarillo</th><td> 1.092</td><td>-2.184</td><td> 4.368</td><td> 0.842</td></tr>\n",
       "\t<tr><th scope=row>Nugget-Armarillo</th><td> 1.080</td><td>-2.196</td><td> 4.356</td><td> 0.847</td></tr>\n",
       "\t<tr><th scope=row>Williamette-Armarillo</th><td> -8.042</td><td>-11.318</td><td> -4.766</td><td>  0.000</td></tr>\n",
       "\t<tr><th scope=row>Fuggle-Cascade</th><td> 1.698</td><td>-1.578</td><td> 4.974</td><td> 0.525</td></tr>\n",
       "\t<tr><th scope=row>Nugget-Cascade</th><td> 1.686</td><td>-1.590</td><td> 4.962</td><td> 0.532</td></tr>\n",
       "\t<tr><th scope=row>Williamette-Cascade</th><td> -7.436</td><td>-10.712</td><td> -4.160</td><td>  0.000</td></tr>\n",
       "\t<tr><th scope=row>Nugget-Fuggle</th><td>-0.012</td><td>-3.288</td><td> 3.264</td><td> 1.000</td></tr>\n",
       "\t<tr><th scope=row>Williamette-Fuggle</th><td> -9.134</td><td>-12.410</td><td> -5.858</td><td>  0.000</td></tr>\n",
       "\t<tr><th scope=row>Williamette-Nugget</th><td> -9.122</td><td>-12.398</td><td> -5.846</td><td>  0.000</td></tr>\n",
       "</tbody>\n",
       "</table>\n"
      ],
      "text/latex": [
       "\\begin{tabular}{r|llll}\n",
       "  & diff & lwr & upr & p adj\\\\\n",
       "\\hline\n",
       "\tCascade-Armarillo & -0.606 & -3.882 &  2.670 &  0.978\\\\\n",
       "\tFuggle-Armarillo &  1.092 & -2.184 &  4.368 &  0.842\\\\\n",
       "\tNugget-Armarillo &  1.080 & -2.196 &  4.356 &  0.847\\\\\n",
       "\tWilliamette-Armarillo &  -8.042 & -11.318 &  -4.766 &   0.000\\\\\n",
       "\tFuggle-Cascade &  1.698 & -1.578 &  4.974 &  0.525\\\\\n",
       "\tNugget-Cascade &  1.686 & -1.590 &  4.962 &  0.532\\\\\n",
       "\tWilliamette-Cascade &  -7.436 & -10.712 &  -4.160 &   0.000\\\\\n",
       "\tNugget-Fuggle & -0.012 & -3.288 &  3.264 &  1.000\\\\\n",
       "\tWilliamette-Fuggle &  -9.134 & -12.410 &  -5.858 &   0.000\\\\\n",
       "\tWilliamette-Nugget &  -9.122 & -12.398 &  -5.846 &   0.000\\\\\n",
       "\\end{tabular}\n"
      ],
      "text/markdown": [
       "1. -0.606\n",
       "2. 1.092\n",
       "3. 1.08\n",
       "4. -8.042\n",
       "5. 1.698\n",
       "6. 1.686\n",
       "7. -7.436\n",
       "8. -0.012\n",
       "9. -9.134\n",
       "10. -9.122\n",
       "11. -3.882\n",
       "12. -2.184\n",
       "13. -2.196\n",
       "14. -11.318\n",
       "15. -1.578\n",
       "16. -1.59\n",
       "17. -10.712\n",
       "18. -3.288\n",
       "19. -12.41\n",
       "20. -12.398\n",
       "21. 2.67\n",
       "22. 4.368\n",
       "23. 4.356\n",
       "24. -4.766\n",
       "25. 4.974\n",
       "26. 4.962\n",
       "27. -4.16\n",
       "28. 3.264\n",
       "29. -5.858\n",
       "30. -5.846\n",
       "31. 0.978\n",
       "32. 0.842\n",
       "33. 0.847\n",
       "34. 0\n",
       "35. 0.525\n",
       "36. 0.532\n",
       "37. 0\n",
       "38. 1\n",
       "39. 0\n",
       "40. 0\n",
       "\n",
       "\n"
      ],
      "text/plain": [
       "                        diff     lwr    upr p adj\n",
       "Cascade-Armarillo     -0.606  -3.882  2.670 0.978\n",
       "Fuggle-Armarillo       1.092  -2.184  4.368 0.842\n",
       "Nugget-Armarillo       1.080  -2.196  4.356 0.847\n",
       "Williamette-Armarillo -8.042 -11.318 -4.766 0.000\n",
       "Fuggle-Cascade         1.698  -1.578  4.974 0.525\n",
       "Nugget-Cascade         1.686  -1.590  4.962 0.532\n",
       "Williamette-Cascade   -7.436 -10.712 -4.160 0.000\n",
       "Nugget-Fuggle         -0.012  -3.288  3.264 1.000\n",
       "Williamette-Fuggle    -9.134 -12.410 -5.858 0.000\n",
       "Williamette-Nugget    -9.122 -12.398 -5.846 0.000"
      ]
     },
     "execution_count": 20,
     "metadata": {},
     "output_type": "execute_result"
    }
   ],
   "source": [
    "hw12_data %>% aov(Acidity ~ Column + Line, data=.) -> modl \n",
    "modl %>% tidy\n",
    "modl %>% TukeyHSD(x=., which = \"Line\") -> W\n",
    "round(W$Line,3)"
   ]
  },
  {
   "cell_type": "markdown",
   "metadata": {},
   "source": [
    "The P value for the Line variable has decreased after removing the row block, however the contrasts that are significantly different via Tukey's W remain so."
   ]
  },
  {
   "cell_type": "markdown",
   "metadata": {},
   "source": [
    "#### e.\t(3 points) Reanalyze the data without the row and column effects; that is, redo parts a.), b.), and c.) with both the row and column effects excluded from the model. Comment on how the results change."
   ]
  },
  {
   "cell_type": "code",
   "execution_count": 21,
   "metadata": {
    "collapsed": false
   },
   "outputs": [
    {
     "data": {
      "text/html": [
       "<table>\n",
       "<thead><tr><th></th><th scope=col>term</th><th scope=col>df</th><th scope=col>sumsq</th><th scope=col>meansq</th><th scope=col>statistic</th><th scope=col>p.value</th></tr></thead>\n",
       "<tbody>\n",
       "\t<tr><th scope=row>1</th><td>Line</td><td>4</td><td>295.0607</td><td>73.76519</td><td>23.73275</td><td>2.35793e-07</td></tr>\n",
       "\t<tr><th scope=row>2</th><td>Residuals</td><td>20</td><td>62.1632</td><td>3.10816</td><td>NA</td><td>NA</td></tr>\n",
       "</tbody>\n",
       "</table>\n"
      ],
      "text/latex": [
       "\\begin{tabular}{r|llllll}\n",
       "  & term & df & sumsq & meansq & statistic & p.value\\\\\n",
       "\\hline\n",
       "\t1 & Line & 4 & 295.0607 & 73.76519 & 23.73275 & 2.35793e-07\\\\\n",
       "\t2 & Residuals & 20 & 62.1632 & 3.10816 & NA & NA\\\\\n",
       "\\end{tabular}\n"
      ],
      "text/plain": [
       "       term df    sumsq   meansq statistic     p.value\n",
       "1      Line  4 295.0607 73.76519  23.73275 2.35793e-07\n",
       "2 Residuals 20  62.1632  3.10816        NA          NA"
      ]
     },
     "execution_count": 21,
     "metadata": {},
     "output_type": "execute_result"
    },
    {
     "data": {
      "text/html": [
       "<table>\n",
       "<thead><tr><th></th><th scope=col>diff</th><th scope=col>lwr</th><th scope=col>upr</th><th scope=col>p adj</th></tr></thead>\n",
       "<tbody>\n",
       "\t<tr><th scope=row>Cascade-Armarillo</th><td>-0.606</td><td>-3.943</td><td> 2.731</td><td> 0.982</td></tr>\n",
       "\t<tr><th scope=row>Fuggle-Armarillo</th><td> 1.092</td><td>-2.245</td><td> 4.429</td><td> 0.861</td></tr>\n",
       "\t<tr><th scope=row>Nugget-Armarillo</th><td> 1.080</td><td>-2.257</td><td> 4.417</td><td> 0.866</td></tr>\n",
       "\t<tr><th scope=row>Williamette-Armarillo</th><td> -8.042</td><td>-11.379</td><td> -4.705</td><td>  0.000</td></tr>\n",
       "\t<tr><th scope=row>Fuggle-Cascade</th><td> 1.698</td><td>-1.639</td><td> 5.035</td><td> 0.560</td></tr>\n",
       "\t<tr><th scope=row>Nugget-Cascade</th><td> 1.686</td><td>-1.651</td><td> 5.023</td><td> 0.567</td></tr>\n",
       "\t<tr><th scope=row>Williamette-Cascade</th><td> -7.436</td><td>-10.773</td><td> -4.099</td><td>  0.000</td></tr>\n",
       "\t<tr><th scope=row>Nugget-Fuggle</th><td>-0.012</td><td>-3.349</td><td> 3.325</td><td> 1.000</td></tr>\n",
       "\t<tr><th scope=row>Williamette-Fuggle</th><td> -9.134</td><td>-12.471</td><td> -5.797</td><td>  0.000</td></tr>\n",
       "\t<tr><th scope=row>Williamette-Nugget</th><td> -9.122</td><td>-12.459</td><td> -5.785</td><td>  0.000</td></tr>\n",
       "</tbody>\n",
       "</table>\n"
      ],
      "text/latex": [
       "\\begin{tabular}{r|llll}\n",
       "  & diff & lwr & upr & p adj\\\\\n",
       "\\hline\n",
       "\tCascade-Armarillo & -0.606 & -3.943 &  2.731 &  0.982\\\\\n",
       "\tFuggle-Armarillo &  1.092 & -2.245 &  4.429 &  0.861\\\\\n",
       "\tNugget-Armarillo &  1.080 & -2.257 &  4.417 &  0.866\\\\\n",
       "\tWilliamette-Armarillo &  -8.042 & -11.379 &  -4.705 &   0.000\\\\\n",
       "\tFuggle-Cascade &  1.698 & -1.639 &  5.035 &  0.560\\\\\n",
       "\tNugget-Cascade &  1.686 & -1.651 &  5.023 &  0.567\\\\\n",
       "\tWilliamette-Cascade &  -7.436 & -10.773 &  -4.099 &   0.000\\\\\n",
       "\tNugget-Fuggle & -0.012 & -3.349 &  3.325 &  1.000\\\\\n",
       "\tWilliamette-Fuggle &  -9.134 & -12.471 &  -5.797 &   0.000\\\\\n",
       "\tWilliamette-Nugget &  -9.122 & -12.459 &  -5.785 &   0.000\\\\\n",
       "\\end{tabular}\n"
      ],
      "text/markdown": [
       "1. -0.606\n",
       "2. 1.092\n",
       "3. 1.08\n",
       "4. -8.042\n",
       "5. 1.698\n",
       "6. 1.686\n",
       "7. -7.436\n",
       "8. -0.012\n",
       "9. -9.134\n",
       "10. -9.122\n",
       "11. -3.943\n",
       "12. -2.245\n",
       "13. -2.257\n",
       "14. -11.379\n",
       "15. -1.639\n",
       "16. -1.651\n",
       "17. -10.773\n",
       "18. -3.349\n",
       "19. -12.471\n",
       "20. -12.459\n",
       "21. 2.731\n",
       "22. 4.429\n",
       "23. 4.417\n",
       "24. -4.705\n",
       "25. 5.035\n",
       "26. 5.023\n",
       "27. -4.099\n",
       "28. 3.325\n",
       "29. -5.797\n",
       "30. -5.785\n",
       "31. 0.982\n",
       "32. 0.861\n",
       "33. 0.866\n",
       "34. 0\n",
       "35. 0.56\n",
       "36. 0.567\n",
       "37. 0\n",
       "38. 1\n",
       "39. 0\n",
       "40. 0\n",
       "\n",
       "\n"
      ],
      "text/plain": [
       "                        diff     lwr    upr p adj\n",
       "Cascade-Armarillo     -0.606  -3.943  2.731 0.982\n",
       "Fuggle-Armarillo       1.092  -2.245  4.429 0.861\n",
       "Nugget-Armarillo       1.080  -2.257  4.417 0.866\n",
       "Williamette-Armarillo -8.042 -11.379 -4.705 0.000\n",
       "Fuggle-Cascade         1.698  -1.639  5.035 0.560\n",
       "Nugget-Cascade         1.686  -1.651  5.023 0.567\n",
       "Williamette-Cascade   -7.436 -10.773 -4.099 0.000\n",
       "Nugget-Fuggle         -0.012  -3.349  3.325 1.000\n",
       "Williamette-Fuggle    -9.134 -12.471 -5.797 0.000\n",
       "Williamette-Nugget    -9.122 -12.459 -5.785 0.000"
      ]
     },
     "execution_count": 21,
     "metadata": {},
     "output_type": "execute_result"
    }
   ],
   "source": [
    "hw12_data %>% aov(Acidity ~ Line, data=.) -> modl \n",
    "modl %>% tidy\n",
    "modl %>% TukeyHSD(x=., which = \"Line\") -> W\n",
    "round(W$Line,3)"
   ]
  },
  {
   "cell_type": "markdown",
   "metadata": {},
   "source": [
    "And this effect continues with the removal of the column block, where the P value has become marginally smaller, yet all the contasts that were statistically distinguishable at $\\alpha=0.05$ using the Tukey W procedure remain so."
   ]
  },
  {
   "cell_type": "code",
   "execution_count": null,
   "metadata": {
    "collapsed": true
   },
   "outputs": [],
   "source": []
  }
 ],
 "metadata": {
  "kernelspec": {
   "display_name": "R",
   "language": "R",
   "name": "ir"
  },
  "language_info": {
   "codemirror_mode": "r",
   "file_extension": ".r",
   "mimetype": "text/x-r-source",
   "name": "R",
   "pygments_lexer": "r",
   "version": "3.2.2"
  }
 },
 "nbformat": 4,
 "nbformat_minor": 0
}
